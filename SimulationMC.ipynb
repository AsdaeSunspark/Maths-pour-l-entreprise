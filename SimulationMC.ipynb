{
 "cells": [
  {
   "cell_type": "markdown",
   "id": "e70e0fd3-9355-403e-b82c-166a46350123",
   "metadata": {},
   "source": [
    "# EP Tender : simulation par chaînes de Markov"
   ]
  },
  {
   "cell_type": "markdown",
   "id": "e635e44b-8eaa-4eb2-85c7-00220446fd35",
   "metadata": {
    "tags": []
   },
   "source": [
    "## Description du modèle"
   ]
  },
  {
   "cell_type": "markdown",
   "id": "c1e4ee58-6326-4dbe-8652-5616bc7a3bc6",
   "metadata": {},
   "source": [
    "On considère une station comportant $f$ files, pour un total de $N$ tenders en circulation. Chaque tender comporte $d + 1$ états de charge, numérotés de 0 à $d$. À 0 un tender est complètement déchargé, et à $d$ il est complètement chargé.\n",
    "\n",
    "On utilise un modèle à temps discret.\n",
    "\n",
    "Les voitures clientes arrivent de sorte que l'écart temporel entre la $i$-ième voiture et la $(i+1)$-ième est de loi géométrique de paramètre $\\lambda$. Lorsqu'elles arrivent elles doivent prendre un tender complètement chargé qu'elles ramènent complètement déchargé au début de l'étape suivante.\n",
    "\n",
    "Fatalement, un jour plus de $N$ voitures arriveront en même temps et alors la demande ne pourra pas être satisfaite. On note $T_\\mathrm{bug}$ le premier temps où la demande en Tender est insatisfaite et on s'intéresse à son espérance. On cherche à trouver, pour un processus de rangement et de sélection des tenders donné, l'espérance de $T_\\mathrm{bug}$, qu'on souhaite maximal.\n",
    "\n",
    "Chaque étape temporelle se déroule comme suit :\n",
    "1. Tous les tenders dans la station gagnent un niveau de charge, pour un niveau maximum de $d$.\n",
    "2. Les tenders partis à l'étape précédente sont rangés dans la station.\n",
    "3. Les nouvelles voitures clientes arrivent et des tenders chargés leur sont attribués.\n",
    "4. Si la demande a pu être satisfaite, on passe au temps suivant."
   ]
  },
  {
   "cell_type": "markdown",
   "id": "c4c679df-9f5c-4814-8355-f9ffc84e9ac3",
   "metadata": {
    "tags": []
   },
   "source": [
    "## Importation des modules"
   ]
  },
  {
   "cell_type": "code",
   "execution_count": null,
   "id": "d5b84098-d0f4-4e72-8a55-cb4848ec5765",
   "metadata": {},
   "outputs": [],
   "source": [
    "import numpy as np\n",
    "import matplotlib.pyplot as plt"
   ]
  },
  {
   "cell_type": "markdown",
   "id": "c1ab26a5-2ba2-4c9d-ac56-69ed1e053dfd",
   "metadata": {
    "tags": []
   },
   "source": [
    "## Encodage des états de la station"
   ]
  },
  {
   "cell_type": "markdown",
   "id": "24f3b032-3c60-4078-8cc2-115667f641a4",
   "metadata": {},
   "source": [
    "On remarque tout d'abord qu'on ne peut accéder aux tenders les plus loins dans une file qu'une fois le premier tender parti : il devra donc avoir été entièrement rechargé, et tous ceux arrivés antérieurement le seront de même. Les seules informations pertinentes pour une file sont donc le nombre de tenders présents, et le niveau de charge du plus récemment arrivé.  \n",
    "  \n",
    "On encodera donc dans la suite les stations sous la forme de matrice de taille $f \\times 2$, où la première colonne désigne le nombre de tenders dans chaque station et la seconde colonne le niveau de charge du tender le plus récemment arrivé pour chaque file.  \n",
    "Comme on peut permuter les files sans affecter la capacité à servir la demande, on se restreint aux états pour lesquels les files sont de longueurs décroissantes (et, au sein des files de même longueur, de niveau de charge décroissant)."
   ]
  },
  {
   "cell_type": "markdown",
   "id": "e6f39251-c91f-4777-9b03-42f1de9bb2c6",
   "metadata": {
    "tags": []
   },
   "source": [
    "## Charge des tenders"
   ]
  },
  {
   "cell_type": "markdown",
   "id": "2dbf9cab-b7bb-4d52-bd13-bb009e66c0cb",
   "metadata": {},
   "source": [
    "L'algorithme de charge s'écrit simplement dans le cas où les files chargent tous les tenders en même temps."
   ]
  },
  {
   "cell_type": "code",
   "execution_count": null,
   "id": "aa6b280e-dc51-4777-8a5a-0755fbc898f9",
   "metadata": {},
   "outputs": [],
   "source": [
    "def chargeSimplifie(station, d) :\n",
    "    # Renvoie la même station simplifiée après que tous les tenders aient été chargés de 1\n",
    "    \n",
    "    station = station.copy()\n",
    "        \n",
    "    for i in range(station.shape[0]) :\n",
    "        if station[i, 0] != 0 and station[i, 1] != d :\n",
    "            station[i, 1] += 1\n",
    "    \n",
    "    return station"
   ]
  },
  {
   "cell_type": "markdown",
   "id": "ed34d086-cec0-4ac3-91f2-4d92818b7bcd",
   "metadata": {
    "tags": []
   },
   "source": [
    "## Liste des stations"
   ]
  },
  {
   "cell_type": "markdown",
   "id": "7956a5fc-c1f3-4ada-bef4-424fcc734d08",
   "metadata": {},
   "source": [
    "On peut désormais lister l'ensemble des états possibles pour les stations."
   ]
  },
  {
   "cell_type": "markdown",
   "id": "537890b7-590b-40d3-a811-435a56433e75",
   "metadata": {
    "tags": []
   },
   "source": [
    "### Parcours d'ensembles de suite dans l'ordre lexicographique décroissant"
   ]
  },
  {
   "cell_type": "markdown",
   "id": "26e4c755-3ad2-434c-acff-82cbb17ba1f6",
   "metadata": {},
   "source": [
    "Dans la suite, nous allons avoir besoin de fonctions élémentaires permettant de parcourir, dans l'ordre lexicographique décroissant, l'ensemble des suites vérifiant des contraintes données."
   ]
  },
  {
   "cell_type": "code",
   "execution_count": null,
   "id": "ff6c0ff7-712e-40bd-8270-a43145913ff4",
   "metadata": {},
   "outputs": [],
   "source": [
    "def suiteSuivanteDecSumCst(l) :\n",
    "    # Permet de parcourir l'ensemble des suites décroissantes de longueur et somme données, selon l'ordre lexicographique\n",
    "    # décroissant. Renvoie False quand on a atteint le dernier état.\n",
    "    \n",
    "    l = l.copy()\n",
    "    i = len(l) - 1\n",
    "    curSum = 1\n",
    "    \n",
    "    while i >= 0 and curSum > (l[i] - 1) * (len(l) - 1 - i):\n",
    "        curSum += l[i]\n",
    "        i -= 1\n",
    "    \n",
    "    if i >= 0 :\n",
    "        l[i] -= 1\n",
    "        j = i + 1\n",
    "        while curSum > 0 :\n",
    "            l[j] = min([curSum, l[i]])\n",
    "            curSum -= l[j]\n",
    "            j += 1\n",
    "        while j < len(l) :\n",
    "            l[j] = 0\n",
    "            j += 1\n",
    "    else :\n",
    "        l = False\n",
    "    \n",
    "    return l    "
   ]
  },
  {
   "cell_type": "markdown",
   "id": "93ba3f6c-94b1-4796-942d-f43506776f4a",
   "metadata": {
    "tags": []
   },
   "source": [
    "### D'un état à l'autre, avec les tailles de file fixées"
   ]
  },
  {
   "cell_type": "code",
   "execution_count": null,
   "id": "b5a5d20d-6c58-4759-8325-6146587075c5",
   "metadata": {
    "tags": []
   },
   "outputs": [],
   "source": [
    "def etatSimplifieSuivant(station, d) :\n",
    "    # Passe d'un état simplifié à l'autre, à nombre de tenders par file donné, selon\n",
    "    # l'ordre lexicographique décroissant pour les niveaux de charge\n",
    "    \n",
    "    station = station.copy()\n",
    "    \n",
    "    curFile = station.shape[0] - 1\n",
    "    \n",
    "    while curFile >= 0 :\n",
    "        if station[curFile, 1] >= 1 :\n",
    "            station[curFile, 1] -= 1\n",
    "            j = curFile + 1\n",
    "            while j < station.shape[0] and station[curFile, 0] == station[j, 0] :\n",
    "                station[j, 1] = station[curFile, 1]\n",
    "                j += 1\n",
    "            break\n",
    "        elif station[curFile, 0] != 0 :\n",
    "            station[curFile, 1] = d\n",
    "        curFile -= 1\n",
    "        \n",
    "    if curFile == -1 :\n",
    "        station = False\n",
    "    \n",
    "    return station"
   ]
  },
  {
   "cell_type": "markdown",
   "id": "39dbe7d6-4e79-46f1-88a3-336a510af331",
   "metadata": {
    "tags": []
   },
   "source": [
    "### D'un état à l'autre"
   ]
  },
  {
   "cell_type": "code",
   "execution_count": null,
   "id": "9ecc3720-6552-42cb-8b66-e8c22641d309",
   "metadata": {},
   "outputs": [],
   "source": [
    "def stationSimplifieeSuivante(station, d) :\n",
    "    # Permet de parcourir l'ensemble des états possibles pour une station sous forme\n",
    "    # simplifiee avec un nombre donné de tenders, sans répéter deux états équivalents.\n",
    "    # Parcourt la répartition des tenders par file selon l'ordre lexicographique\n",
    "    # décroissant.\n",
    "    \n",
    "    station = station.copy()\n",
    "    \n",
    "    if type(etatSimplifieSuivant(station, d)) != bool :\n",
    "        station = etatSimplifieSuivant(station, d)\n",
    "    else :\n",
    "        tenderParFile = station[:, 0]\n",
    "        if type(suiteSuivanteDecSumCst(tenderParFile)) == bool :\n",
    "            station = False\n",
    "        else :\n",
    "            tenderParFile = suiteSuivanteDecSumCst(tenderParFile)\n",
    "            station[:, 0] = tenderParFile\n",
    "            for i in range(station.shape[0]) :\n",
    "                if tenderParFile[i] != 0 :\n",
    "                    station[i, 1] = d\n",
    "                else :\n",
    "                    station[i, 1] = 0\n",
    "    \n",
    "    return station"
   ]
  },
  {
   "cell_type": "markdown",
   "id": "3f180170-d236-4aa3-a85a-29204b9a7a1b",
   "metadata": {
    "tags": []
   },
   "source": [
    "### Liste des stations"
   ]
  },
  {
   "cell_type": "code",
   "execution_count": null,
   "id": "47530745-e038-44b3-ba0d-4306f0df6e4d",
   "metadata": {
    "tags": []
   },
   "outputs": [],
   "source": [
    "def listAllStations(nTenders, nFiles, d) :\n",
    "    \n",
    "    listStations = []\n",
    "    \n",
    "    station = np.zeros([nFiles, 2])\n",
    "    station[0, 0] = nTenders\n",
    "    station[0, 1] = d\n",
    "\n",
    "    while type(station) != bool :\n",
    "        listStations.append(station)\n",
    "        station = stationSimplifieeSuivante(station, d)\n",
    "    \n",
    "    listStations.append(False) # Indique erreur\n",
    "    \n",
    "    return listStations"
   ]
  },
  {
   "cell_type": "code",
   "execution_count": null,
   "id": "0d843d08-cea7-42ef-bb14-15ed07341b64",
   "metadata": {
    "tags": []
   },
   "outputs": [],
   "source": [
    "listAllStations(2, 3, 1)"
   ]
  },
  {
   "cell_type": "code",
   "execution_count": null,
   "id": "4336c4fa-4455-47fd-941c-12543344bc4e",
   "metadata": {
    "tags": []
   },
   "outputs": [],
   "source": [
    "listAllStations(4, 2, 2)"
   ]
  },
  {
   "cell_type": "markdown",
   "id": "e8efdfa0-6ba2-422c-b233-2df9105d01d6",
   "metadata": {
    "tags": []
   },
   "source": [
    "## Rangement d'une station désordonnée"
   ]
  },
  {
   "cell_type": "markdown",
   "id": "53d6c3f2-62e1-4e44-9834-a3cfc9401a06",
   "metadata": {},
   "source": [
    "Le rangement de tenders dans une file peut conduire la station à ne plus avoir ses files dans l'ordre décroissant. Il faut donc être capable de remettre la station dans l'ordre."
   ]
  },
  {
   "cell_type": "code",
   "execution_count": null,
   "id": "ceaaf1c3-ba78-4072-ae2b-bc73fb3964c6",
   "metadata": {
    "tags": []
   },
   "outputs": [],
   "source": [
    "def rangeStationSimplifiee(station) :\n",
    "    \n",
    "    station = station.copy()\n",
    "    \n",
    "    maxCharge = max(station[:, 1])\n",
    "    sortingTable = (maxCharge + 1) * station[:, 0] + station[:, 1]\n",
    "    \n",
    "    newIndices = np.argsort(sortingTable)\n",
    "    \n",
    "    station = station[newIndices[::-1], :]\n",
    "    \n",
    "    return station"
   ]
  },
  {
   "cell_type": "markdown",
   "id": "0bff68f7-6bd2-488d-bab7-871219c243dc",
   "metadata": {
    "tags": []
   },
   "source": [
    "## Algorithmes de décision"
   ]
  },
  {
   "cell_type": "markdown",
   "id": "fe0fa738-b2de-48b8-b533-5c57e3efc144",
   "metadata": {},
   "source": [
    "Il nous faut maintenant décider des algorithmes de décision pour le rangement et l'attribution des tenders. On peut modéliser ces algorithmes par des fonctions $f$ qui prennent en entrée l'état de la station, $S$, et renvoient $f(S)$, l'état de la station après y avoir ajouté le tender déchargé. Plusieurs tenders peuvent arriver en même temps, avec notre modèle, on devrait donc avoir une fonction $f(S, k)$ où $k$ est le nombre de tenders qui arrivent à une étape temporelle donnée, et la valeur prise est l'état de la station après y avoir rangé tous les tenders. Cependant, en pratique, on ne voit arriver qu'une voiture à la fois, et on n'anticipe pas quand les prochaines voitures arriveront, on décide donc de manière itérative : $f(f(S, k), 1) = f(S, k + 1)$ et on n'a donc besoin de connaître que $f(S) = f(S, 1)$."
   ]
  },
  {
   "cell_type": "markdown",
   "id": "2da56937-4838-4821-971c-29adc402fbb2",
   "metadata": {},
   "source": [
    "### Algorithme glouton"
   ]
  },
  {
   "cell_type": "markdown",
   "id": "4fb4e55b-fb3d-4d1b-9357-37e66f95aa62",
   "metadata": {},
   "source": [
    "On code ici l'algorithme glouton détaillé dans le rapport."
   ]
  },
  {
   "cell_type": "code",
   "execution_count": null,
   "id": "0d2591b2-6860-4cb9-b572-26778aec1473",
   "metadata": {
    "tags": []
   },
   "outputs": [],
   "source": [
    "def rangementGloutonSimplifie(station) :\n",
    "    \n",
    "    station = station.copy()\n",
    "    \n",
    "    curFile = station.shape[0] - 1\n",
    "    \n",
    "    if station[curFile, 0] == 0 :\n",
    "        station[curFile, 0] += 1\n",
    "    else :\n",
    "        minCharge = min(station[:(curFile+1), 1])\n",
    "        while station[curFile, 1] != minCharge :\n",
    "            curFile -= 1\n",
    "        station[curFile, 1] = 0\n",
    "        station[curFile, 0] += 1\n",
    "        \n",
    "    station = rangeStationSimplifiee(station)\n",
    "    \n",
    "    return station"
   ]
  },
  {
   "cell_type": "code",
   "execution_count": null,
   "id": "7be2f0d1-ea31-4b74-93d6-52ddf935c788",
   "metadata": {
    "tags": []
   },
   "outputs": [],
   "source": [
    "def donGloutonSimplifie(station, d) :\n",
    "    \n",
    "    station = station.copy()\n",
    "    \n",
    "    curFile = station.shape[0] - 1\n",
    "    \n",
    "    while curFile >= 0 and station[curFile, 1] != d :\n",
    "        curFile -= 1\n",
    "    \n",
    "    if curFile == -1 :\n",
    "        station = False\n",
    "    else :\n",
    "        station[curFile, 0] -= 1\n",
    "        if station[curFile, 0] == 0 :\n",
    "            station[curFile, 1] = 0\n",
    "    \n",
    "        station = rangeStationSimplifiee(station)\n",
    "    \n",
    "    return station"
   ]
  },
  {
   "cell_type": "markdown",
   "id": "837256d9-5c08-4d93-91e6-cc07b235ab2b",
   "metadata": {},
   "source": [
    "### Algorithmes basés sur un indice"
   ]
  },
  {
   "cell_type": "markdown",
   "id": "42c2f2ee-4c60-4212-b942-4ac9fbd5baec",
   "metadata": {},
   "source": [
    "On code ici l'algorithme basé sur une classe d'indice, comme détaillé dans la section 6 du rapport. Le choix de la file d'où l'on extrait les tenders reste le même que pour l'algorithme glouton, car ce choix est optimal."
   ]
  },
  {
   "cell_type": "code",
   "execution_count": null,
   "id": "87cd88f1-4e12-4165-ab43-b0332260a6f5",
   "metadata": {
    "tags": []
   },
   "outputs": [],
   "source": [
    "def rangementIndiceSimplifie(station, indice) :\n",
    "    \n",
    "    station = station.copy()\n",
    "    \n",
    "    fileRangement = np.argmin([indice(station[station.shape[0] - 1 - i, :]) for i in range(station.shape[0])])\n",
    "    station[station.shape[0] - 1 - fileRangement, 0] += 1\n",
    "    station[station.shape[0] - 1 - fileRangement, 1] = 0\n",
    "        \n",
    "    station = rangeStationSimplifiee(station)\n",
    "    \n",
    "    return station"
   ]
  },
  {
   "cell_type": "markdown",
   "id": "3cb328ad-8a9d-4d99-a92c-e6136ebb49fe",
   "metadata": {},
   "source": [
    "### Indices"
   ]
  },
  {
   "cell_type": "code",
   "execution_count": null,
   "id": "b39567fc-45fc-4b3a-96b1-ac06d52bb454",
   "metadata": {
    "tags": []
   },
   "outputs": [],
   "source": [
    "def indiceLineaire(file, lbd) :\n",
    "    return lbd * file[1] + file[0]"
   ]
  },
  {
   "cell_type": "code",
   "execution_count": null,
   "id": "c472977c-3bb2-4a8a-9ac9-cfccac799150",
   "metadata": {
    "tags": []
   },
   "outputs": [],
   "source": [
    "def indiceLogarithmique(file, lbd) :\n",
    "    if file[0] != 0 and file[1] != 0 : \n",
    "        v = np.log(lbd) * file[1] + np.log(file[0])\n",
    "    else :\n",
    "        v = - np.inf\n",
    "    return v"
   ]
  },
  {
   "cell_type": "code",
   "execution_count": null,
   "id": "f70e36d5-cf2d-421e-b58b-f8ef947e31ba",
   "metadata": {
    "tags": []
   },
   "outputs": [],
   "source": [
    "def indiceMultiplicatif(file, lbd) :\n",
    "    return file[1] * file[0]**lbd"
   ]
  },
  {
   "cell_type": "code",
   "execution_count": null,
   "id": "f4bed383-aac3-4b35-97a1-70c3ba2edf6e",
   "metadata": {
    "tags": []
   },
   "outputs": [],
   "source": [
    "def indiceMultiplicatifCorr(file, lbd, d) :\n",
    "    if file[1] == d :\n",
    "        return np.inf\n",
    "    else :\n",
    "        return file[0]**lbd / (d - file[1])"
   ]
  },
  {
   "cell_type": "code",
   "execution_count": null,
   "id": "7bd1e48c-fbfa-4e58-8e38-7060611abcd9",
   "metadata": {
    "tags": []
   },
   "outputs": [],
   "source": [
    "def indicePuis(file, lbd, mu) :\n",
    "    return file[1]**lbd + mu * file[0]"
   ]
  },
  {
   "cell_type": "code",
   "execution_count": 882,
   "id": "4d5b5e0c-0298-45c8-b87a-6bc5c5cc07ea",
   "metadata": {
    "tags": []
   },
   "outputs": [],
   "source": [
    "def indicePuisCorr(file, lbd, mu, d) :\n",
    "    return mu * file[0] - (d - file[1]) ** lbd"
   ]
  },
  {
   "cell_type": "code",
   "execution_count": 880,
   "id": "2ceba1e0-64ee-488c-b93a-2310d3c506d6",
   "metadata": {
    "tags": []
   },
   "outputs": [],
   "source": [
    "def indicePuisLog(file, lbd, mu) :\n",
    "    if file[0] == 0 :\n",
    "        return - np.inf\n",
    "    else :\n",
    "        return file[1]**lbd + mu * np.log(file[0])"
   ]
  },
  {
   "cell_type": "code",
   "execution_count": 881,
   "id": "f3831af2-a03c-488a-900c-528ef93b4db2",
   "metadata": {
    "tags": []
   },
   "outputs": [],
   "source": [
    "def indicePuisLogCorr(file, lbd, mu, d) :\n",
    "    if file[0] == 0 :\n",
    "        return - np.inf\n",
    "    else :\n",
    "        return mu * np.log(file[0]) - (d - file[1])**lbd"
   ]
  },
  {
   "cell_type": "markdown",
   "id": "89adf4c9-b5f8-4f59-980d-b4fe2f304a8b",
   "metadata": {},
   "source": [
    "## Création de la matrice de transition"
   ]
  },
  {
   "cell_type": "markdown",
   "id": "c4ef8de0-8feb-4f23-b4c2-3adb2eaa26eb",
   "metadata": {},
   "source": [
    "Pour rappel, l'écart entre la date d'arrivée de la $i$-ième voiture et celle de la $(i+1)$-ième suit une loi géométrique de paramètre $\\lambda$. Pour simplifier, on change (de manière équivalente) le déroulement de chaque étape temporelle comme suit :\n",
    "1. Les nouvelles voitures clientes arrivent et des tenders chargés leur sont attribués.\n",
    "2. Tous les tenders dans la station gagnent un niveau de charge, pour un niveau maximum de $d$.\n",
    "3. Les tenders partis reviennent et sont rangés dans la station.\n",
    "4. Si la demande a pu être satisfaite, on passe au temps suivant.\n",
    "\n",
    "Pour obtenir une chaîne de Markov irréductible, on crée un nouvel état, False, qui dénote que la demande n'a pas pu être satisfaite, et à partir de cet état on repart vers un état arbitraire. On cherche donc le temps moyen pour atteindre False."
   ]
  },
  {
   "cell_type": "code",
   "execution_count": null,
   "id": "8fb5fc57-6189-4d18-8f6f-458a92cd93d3",
   "metadata": {
    "tags": []
   },
   "outputs": [],
   "source": [
    "rng = np.random.default_rng(1964)"
   ]
  },
  {
   "cell_type": "code",
   "execution_count": null,
   "id": "d0d28aa6-8e64-4edd-8672-28145956eb30",
   "metadata": {
    "tags": []
   },
   "outputs": [],
   "source": [
    "def createTransitionMatrix(listeEtat, ajout, retrait, charge, theta) :\n",
    "    \n",
    "    transitionMatrix = np.zeros([len(listeEtat)] * 2)\n",
    "    \n",
    "    for i in range(len(listeEtat) - 1) :\n",
    "        curStation = listeEtat[i]\n",
    "        nClients = 0\n",
    "        curProb = 1 - theta\n",
    "        \n",
    "        while type(curStation) != bool :\n",
    "            ghostStation = charge(curStation)\n",
    "            for k in range(nClients) :\n",
    "                ghostStation = ajout(ghostStation)\n",
    "            j = 0\n",
    "            while not (listeEtat[j] == ghostStation).all() :\n",
    "                j += 1\n",
    "            transitionMatrix[i, j] += curProb # Même si on reviendra pas deux fois au même état\n",
    "            curProb *= theta\n",
    "            nClients += 1\n",
    "            curStation = retrait(curStation)\n",
    "        \n",
    "        transitionMatrix[i, len(listeEtat) - 1] = 1 - np.sum(transitionMatrix[i, :])\n",
    "    \n",
    "    transitionMatrix[len(listeEtat) - 1, :] = 1 / len(listeEtat)\n",
    "        \n",
    "    return transitionMatrix"
   ]
  },
  {
   "cell_type": "code",
   "execution_count": null,
   "id": "37d065c1-2eb6-4e87-bef3-915586e48c68",
   "metadata": {
    "tags": []
   },
   "outputs": [],
   "source": [
    "def expectedHittingTime(M, i, j) :\n",
    "    # Returns expected hitting time from i to j using transition matrix M\n",
    "    \n",
    "    M = M.copy()\n",
    "    M[j, :] = 0\n",
    "    \n",
    "    b = np.array([1] * M.shape[0])\n",
    "    b[j] = 0\n",
    "    \n",
    "    v = np.linalg.solve(np.identity(M.shape[0]) - M, b)\n",
    "    \n",
    "    return v[i], v"
   ]
  },
  {
   "cell_type": "code",
   "execution_count": null,
   "id": "47253157-55bc-438b-9627-ad360b96dd8a",
   "metadata": {
    "tags": []
   },
   "outputs": [],
   "source": [
    "def plotExpectedHittingTime(nTenders, nFiles, nCharge, ajout, retrait, charge, res = 0.05, etatDepart = None, etatArrivee = None) :\n",
    "    \n",
    "    if type(etatDepart) != np.ndarray :\n",
    "        etatDepart = [[(nTenders // (nFiles - 1)) + 1, nCharge]] * (nTenders % (nFiles - 1))\n",
    "        etatDepart += [[(nTenders // (nFiles - 1)), nCharge]] * (nFiles - 1 - (nTenders % (nFiles - 1)))\n",
    "        etatDepart += [[0, 0]]\n",
    "        etatDepart = np.array(etatDepart)\n",
    "    \n",
    "    if type(etatArrivee) != np.ndarray :\n",
    "        etatArrivee = False\n",
    "    \n",
    "    \n",
    "    listeEtat = listAllStations(nTenders, nFiles, nCharge)    \n",
    "    ajout = rangementGloutonSimplifie\n",
    "    retraitBis = lambda x : retrait(x, nCharge)\n",
    "    chargeBis = lambda x : chargeSimplifie(x, nCharge)\n",
    "    \n",
    "    i = 0\n",
    "    j = 0\n",
    "    \n",
    "    while not np.array(listeEtat[i] == etatDepart).all() :\n",
    "        i += 1\n",
    "    \n",
    "    while not np.array(listeEtat[j] == etatArrivee).all() :\n",
    "        j += 1\n",
    "    \n",
    "    \n",
    "    thetaArray = np.arange(res, 1, res)\n",
    "    expectedHittingTimes = []\n",
    "    \n",
    "    for theta in thetaArray :\n",
    "        M = createTransitionMatrix(listeEtat, ajout, retraitBis, chargeBis, theta)\n",
    "        expectedHittingTimes.append(expectedHittingTime(M, i, j)[0])\n",
    "\n",
    "    return thetaArray, expectedHittingTimes"
   ]
  },
  {
   "cell_type": "markdown",
   "id": "f40b551e-964f-4c94-9057-b87cd9b432c5",
   "metadata": {},
   "source": [
    "## Graphiques"
   ]
  },
  {
   "cell_type": "markdown",
   "id": "048c557c-f5ba-474c-9881-b5b733e35de6",
   "metadata": {},
   "source": [
    "### Graphiques gloutons"
   ]
  },
  {
   "cell_type": "code",
   "execution_count": null,
   "id": "27b204de-a28c-4458-aef8-1b014fab2994",
   "metadata": {
    "tags": []
   },
   "outputs": [],
   "source": [
    "fig = plt.figure()\n",
    "ax = fig.add_axes(rect = [0.05, 0.05, 0.95, 0.95])\n",
    "\n",
    "ax.plot(thetaArray, expectedHittingTimes, color = blue)\n",
    "ax.set_ylim([0, 50])"
   ]
  },
  {
   "cell_type": "code",
   "execution_count": null,
   "id": "62cb775f-d9b7-4402-bf34-a23329a4d737",
   "metadata": {},
   "outputs": [],
   "source": [
    "thetaArray, expectedHittingTimes = plotExpectedHittingTime(4, 2, 2, rangementGloutonSimplifie, donGloutonSimplifie, chargeSimplifie, res = 0.01, etatDepart = etatDepart)"
   ]
  },
  {
   "cell_type": "code",
   "execution_count": null,
   "id": "67522338-5d6e-47df-b8ca-0a965ee4d0f6",
   "metadata": {
    "tags": []
   },
   "outputs": [],
   "source": [
    "fig = plt.figure()\n",
    "ax = fig.add_axes(rect = [0.05, 0.05, 0.95, 0.95])\n",
    "Y = []\n",
    "\n",
    "for nFile in [2, 3, 4] :\n",
    "    thetaArray, expectedHittingTimes = plotExpectedHittingTime(6, nFile, 2, rangementGloutonSimplifie, donGloutonSimplifie, chargeSimplifie, res = 0.1)\n",
    "    Y.append(expectedHittingTimes)\n",
    "    print(nFile)\n",
    "    \n",
    "ax.plot(thetaArray, np.array(Y).transpose())\n",
    "ax.set_ylim([0, 50])\n",
    "ax.legend(['2 files', '3 files', '4 files'])\n",
    "ax.set_title('6 tenders, 2 niveaux de charge')\n",
    "plt.show()"
   ]
  },
  {
   "cell_type": "markdown",
   "id": "e02069e7-44e9-4475-9b92-90e6c9f8af18",
   "metadata": {},
   "source": [
    "### Graphiques pour indice linéaire"
   ]
  },
  {
   "cell_type": "code",
   "execution_count": null,
   "id": "8eaca359-fdbf-49ad-b6d2-9ffab9288887",
   "metadata": {
    "tags": []
   },
   "outputs": [],
   "source": [
    "nTenders = 20\n",
    "nFiles = 3\n",
    "d = 2\n",
    "listeEtat = listAllStations(nTenders, nFiles, d)\n",
    "ajout = rangementGloutonSimplifie\n",
    "retrait = lambda x : donGloutonSimplifie(x, d)\n",
    "charge = lambda x : chargeSimplifie(x, d)\n",
    "theta = 5/6\n",
    "\n",
    "M = createTransitionMatrix(listeEtat, ajout, retrait, charge, theta)\n",
    "\n",
    "etatDepart = [[(nTenders // (nFiles - 1)) + 1, nCharge]] * (nTenders % (nFiles - 1))\n",
    "etatDepart += [[(nTenders // (nFiles - 1)), nCharge]] * (nFiles - 1 - (nTenders % (nFiles - 1)))\n",
    "etatDepart += [[0, 0]]\n",
    "etatDepart = np.array(etatDepart)\n",
    "\n",
    "etatArrivee = False\n",
    "\n",
    "i = 0\n",
    "j = 0\n",
    "\n",
    "while not np.array(listeEtat[i] == etatDepart).all() :\n",
    "    i += 1\n",
    "\n",
    "while not np.array(listeEtat[j] == etatArrivee).all() :\n",
    "    j += 1\n",
    "\n",
    "v, _ = expectedHittingTime(M, i, j)\n",
    "\n",
    "print(v)"
   ]
  },
  {
   "cell_type": "code",
   "execution_count": null,
   "id": "d29b9a8f-aec9-4c9e-8050-51fbc34dc27d",
   "metadata": {
    "tags": []
   },
   "outputs": [],
   "source": [
    "nTenders = 20\n",
    "nFiles = 3\n",
    "d = 2\n",
    "listeEtat = listAllStations(nTenders, nFiles, d)\n",
    "retrait = lambda x : donGloutonSimplifie(x, d)\n",
    "charge = lambda x : chargeSimplifie(x, d)\n",
    "theta = 5/6\n",
    "\n",
    "lbdArray = np.arange(1, 10 + 0.25, 0.25)\n",
    "tabTErr = []\n",
    "\n",
    "for lbd in lbdArray :\n",
    "    indice = lambda x : indiceLineaire(x, lbd)\n",
    "    ajout = lambda x : rangementIndiceSimplifie(x, indice)\n",
    "    M = createTransitionMatrix(listeEtat, ajout, retrait, charge, theta)\n",
    "    \n",
    "    etatDepart = [[(nTenders // (nFiles - 1)) + 1, nCharge]] * (nTenders % (nFiles - 1))\n",
    "    etatDepart += [[(nTenders // (nFiles - 1)), nCharge]] * (nFiles - 1 - (nTenders % (nFiles - 1)))\n",
    "    etatDepart += [[0, 0]]\n",
    "    etatDepart = np.array(etatDepart)\n",
    "    \n",
    "    etatArrivee = False\n",
    "    \n",
    "    i = 0\n",
    "    j = 0\n",
    "\n",
    "    while not np.array(listeEtat[i] == etatDepart).all() :\n",
    "        i += 1\n",
    "\n",
    "    while not np.array(listeEtat[j] == etatArrivee).all() :\n",
    "        j += 1\n",
    "    \n",
    "    tabTErr.append(expectedHittingTime(M, i, j)[0])\n",
    "\n",
    "print(tabTErr)"
   ]
  },
  {
   "cell_type": "code",
   "execution_count": null,
   "id": "f5207960-4e41-4173-aaa1-303efbdc12ef",
   "metadata": {
    "tags": []
   },
   "outputs": [],
   "source": [
    "Y = [5.47791836505727,\n",
    " 6.030111546934522,\n",
    " 6.355876349465076,\n",
    " 6.742220604119133,\n",
    " 6.961440015488954,\n",
    " 7.251570899599649,\n",
    " 7.371388850799515,\n",
    " 7.541218390033908,\n",
    " 7.576264818604656,\n",
    " 7.656724262102546,\n",
    " 7.663366109338309,\n",
    " 7.690640704517898,\n",
    " 7.693288240814784,\n",
    " 7.6814874478769415,\n",
    " 7.6821618376615515,\n",
    " 7.668450304043451,\n",
    " 7.668450304043451,\n",
    " 7.647648488095228,\n",
    " 7.647648488095228]\n",
    "\n",
    "X = [ 1. ,  1.5,  2. ,  2.5,  3. ,  3.5,  4. ,  4.5,  5. ,  5.5,  6. ,\n",
    "        6.5,  7. ,  7.5,  8. ,  8.5,  9. ,  9.5, 10.]\n",
    "\n",
    "savedCSV = []\n",
    "for i in range(len(X)) :\n",
    "    savedCSV += [[X[i], Y[i]]]\n",
    "    \n",
    "np.savetxt('indiceLin.csv',\n",
    "            savedCSV,\n",
    "            delimiter = ',',\n",
    "            fmt = ['%f', '%f'],\n",
    "            header = 'Lambda,TErr')"
   ]
  },
  {
   "cell_type": "code",
   "execution_count": null,
   "id": "b4b7e7f2-384a-42c4-9388-45827c482a21",
   "metadata": {
    "tags": []
   },
   "outputs": [],
   "source": [
    "lbdArray[::2]"
   ]
  },
  {
   "cell_type": "code",
   "execution_count": null,
   "id": "d7188796-b6a3-4fbe-849b-0d3d5f44faf7",
   "metadata": {
    "tags": []
   },
   "outputs": [],
   "source": [
    "tabTErr[::2]"
   ]
  },
  {
   "cell_type": "code",
   "execution_count": null,
   "id": "d4d2ef12-f9dc-4107-bbf9-8d803f529892",
   "metadata": {
    "tags": []
   },
   "outputs": [],
   "source": [
    "fig = plt.figure()\n",
    "ax = fig.add_axes(rect = [0.1, 0.1, 0.9, 0.9])\n",
    "\n",
    "ax.plot(lbdArray[::2], tabTErr[::2])\n",
    "\n",
    "ax.set_ylabel(\"Temps moyen jusqu'à l'arrivée du premier client qu'on\\nne peut pas immédiatement servir (en heures)\")\n",
    "ax.set_xlabel(\"Valeur du paramètre $\\lambda$\")\n",
    "ax.set_xlim([0, 10])\n",
    "ax.set_ylim([6, 8])\n",
    "ax.set_yticks(np.arange(6, 8.5, 0.5))\n",
    "\n",
    "ax.axhline(v, color = 'black', linestyle = 'dashed', linewidth = 1)\n",
    "ax.text(s = \"Valeur pour l'algorithme glouton :\\n\" + str(round(v,1)) + ' heures', x = 0.2, y = v - 0.15)\n",
    "\n",
    "ax.axhline(tabTErr[-13], color = 'red', linestyle = 'dashed', linewidth = 1, xmax = lbdArray[-13] / 10)\n",
    "ax.text(s = \"Valeur à l'optimum :\\n\" + str(round(tabTErr[-13],1)) + ' heures', color = 'red', x = 0.2, y = tabTErr[-13] + 0.05)\n",
    "\n",
    "ax.axvline(lbdArray[-13], color = 'red', linestyle = 'dashed', linewidth = 1, ymax = (tabTErr[-13] - 6) / 2)\n",
    "ax.text(s = \"$\\lambda$ optimal : \" + str(round(lbdArray[-13],1)), color = 'red', x = lbdArray[-13] + 0.2, y = 6.2)\n",
    "\n",
    "fig.show()"
   ]
  },
  {
   "cell_type": "markdown",
   "id": "8dfd0998-6af4-4cce-84c3-3680634bc209",
   "metadata": {},
   "source": [
    "### Graphiques pour indice logarithmique"
   ]
  },
  {
   "cell_type": "code",
   "execution_count": 864,
   "id": "b2b81059-d2cb-48d1-83e0-c4222d2cfe4a",
   "metadata": {
    "tags": []
   },
   "outputs": [
    {
     "data": {
      "text/plain": [
       "[7.5201905275757435,\n",
       " 7.668677840529133,\n",
       " 7.746684590990912,\n",
       " 7.778985271623426,\n",
       " 7.779485522685384,\n",
       " 7.774586877715025,\n",
       " 7.778190459692876,\n",
       " 7.766743777588173,\n",
       " 7.75743571554064,\n",
       " 7.74807799063942,\n",
       " 7.738097298260306,\n",
       " 7.734569994851319,\n",
       " 7.720478906139463,\n",
       " 7.720251820852763]"
      ]
     },
     "execution_count": 864,
     "metadata": {},
     "output_type": "execute_result"
    }
   ],
   "source": [
    "tabTErr"
   ]
  },
  {
   "cell_type": "code",
   "execution_count": 867,
   "id": "02552e85-5702-4012-9148-ab5d4ef3c028",
   "metadata": {
    "tags": []
   },
   "outputs": [
    {
     "name": "stdout",
     "output_type": "stream",
     "text": [
      "7.307158919536322\n"
     ]
    }
   ],
   "source": [
    "indice = lambda x : indiceLogarithmique(x, 1)\n",
    "ajout = lambda x : rangementIndiceSimplifie(x, indice)\n",
    "M = createTransitionMatrix(listeEtat, ajout, retrait, charge, theta)\n",
    "\n",
    "etatDepart = [[(nTenders // (nFiles - 1)) + 1, nCharge]] * (nTenders % (nFiles - 1))\n",
    "etatDepart += [[(nTenders // (nFiles - 1)), nCharge]] * (nFiles - 1 - (nTenders % (nFiles - 1)))\n",
    "etatDepart += [[0, 0]]\n",
    "etatDepart = np.array(etatDepart)\n",
    "\n",
    "etatArrivee = False\n",
    "\n",
    "i = 0\n",
    "j = 0\n",
    "\n",
    "while not np.array(listeEtat[i] == etatDepart).all() :\n",
    "    i += 1\n",
    "\n",
    "while not np.array(listeEtat[j] == etatArrivee).all() :\n",
    "    j += 1\n",
    "\n",
    "print(expectedHittingTime(M, i, j)[0])"
   ]
  },
  {
   "cell_type": "code",
   "execution_count": 857,
   "id": "52855019-c098-431d-963f-4c57ca61e8a2",
   "metadata": {
    "tags": []
   },
   "outputs": [
    {
     "ename": "KeyboardInterrupt",
     "evalue": "",
     "output_type": "error",
     "traceback": [
      "\u001b[0;31m---------------------------------------------------------------------------\u001b[0m",
      "\u001b[0;31mKeyboardInterrupt\u001b[0m                         Traceback (most recent call last)",
      "Cell \u001b[0;32mIn[857], line 15\u001b[0m\n\u001b[1;32m     13\u001b[0m indice \u001b[38;5;241m=\u001b[39m \u001b[38;5;28;01mlambda\u001b[39;00m x : indiceLogarithmique(x, lbd)\n\u001b[1;32m     14\u001b[0m ajout \u001b[38;5;241m=\u001b[39m \u001b[38;5;28;01mlambda\u001b[39;00m x : rangementIndiceSimplifie(x, indice)\n\u001b[0;32m---> 15\u001b[0m M \u001b[38;5;241m=\u001b[39m \u001b[43mcreateTransitionMatrix\u001b[49m\u001b[43m(\u001b[49m\u001b[43mlisteEtat\u001b[49m\u001b[43m,\u001b[49m\u001b[43m \u001b[49m\u001b[43majout\u001b[49m\u001b[43m,\u001b[49m\u001b[43m \u001b[49m\u001b[43mretrait\u001b[49m\u001b[43m,\u001b[49m\u001b[43m \u001b[49m\u001b[43mcharge\u001b[49m\u001b[43m,\u001b[49m\u001b[43m \u001b[49m\u001b[43mtheta\u001b[49m\u001b[43m)\u001b[49m\n\u001b[1;32m     17\u001b[0m etatDepart \u001b[38;5;241m=\u001b[39m [[(nTenders \u001b[38;5;241m/\u001b[39m\u001b[38;5;241m/\u001b[39m (nFiles \u001b[38;5;241m-\u001b[39m \u001b[38;5;241m1\u001b[39m)) \u001b[38;5;241m+\u001b[39m \u001b[38;5;241m1\u001b[39m, nCharge]] \u001b[38;5;241m*\u001b[39m (nTenders \u001b[38;5;241m%\u001b[39m (nFiles \u001b[38;5;241m-\u001b[39m \u001b[38;5;241m1\u001b[39m))\n\u001b[1;32m     18\u001b[0m etatDepart \u001b[38;5;241m+\u001b[39m\u001b[38;5;241m=\u001b[39m [[(nTenders \u001b[38;5;241m/\u001b[39m\u001b[38;5;241m/\u001b[39m (nFiles \u001b[38;5;241m-\u001b[39m \u001b[38;5;241m1\u001b[39m)), nCharge]] \u001b[38;5;241m*\u001b[39m (nFiles \u001b[38;5;241m-\u001b[39m \u001b[38;5;241m1\u001b[39m \u001b[38;5;241m-\u001b[39m (nTenders \u001b[38;5;241m%\u001b[39m (nFiles \u001b[38;5;241m-\u001b[39m \u001b[38;5;241m1\u001b[39m)))\n",
      "Cell \u001b[0;32mIn[21], line 15\u001b[0m, in \u001b[0;36mcreateTransitionMatrix\u001b[0;34m(listeEtat, ajout, retrait, charge, lbd)\u001b[0m\n\u001b[1;32m     13\u001b[0m     ghostStation \u001b[38;5;241m=\u001b[39m ajout(ghostStation)\n\u001b[1;32m     14\u001b[0m j \u001b[38;5;241m=\u001b[39m \u001b[38;5;241m0\u001b[39m\n\u001b[0;32m---> 15\u001b[0m \u001b[38;5;28;01mwhile\u001b[39;00m \u001b[38;5;129;01mnot\u001b[39;00m \u001b[43m(\u001b[49m\u001b[43mlisteEtat\u001b[49m\u001b[43m[\u001b[49m\u001b[43mj\u001b[49m\u001b[43m]\u001b[49m\u001b[43m \u001b[49m\u001b[38;5;241;43m==\u001b[39;49m\u001b[43m \u001b[49m\u001b[43mghostStation\u001b[49m\u001b[43m)\u001b[49m\u001b[38;5;241;43m.\u001b[39;49m\u001b[43mall\u001b[49m\u001b[43m(\u001b[49m\u001b[43m)\u001b[49m :\n\u001b[1;32m     16\u001b[0m     j \u001b[38;5;241m+\u001b[39m\u001b[38;5;241m=\u001b[39m \u001b[38;5;241m1\u001b[39m\n\u001b[1;32m     17\u001b[0m transitionMatrix[i, j] \u001b[38;5;241m+\u001b[39m\u001b[38;5;241m=\u001b[39m curProb \u001b[38;5;66;03m# Même si on reviendra pas deux fois au même état\u001b[39;00m\n",
      "\u001b[0;31mKeyboardInterrupt\u001b[0m: "
     ]
    }
   ],
   "source": [
    "nTenders = 20\n",
    "nFiles = 3\n",
    "d = 2\n",
    "listeEtat = listAllStations(nTenders, nFiles, d)\n",
    "retrait = lambda x : donGloutonSimplifie(x, d)\n",
    "charge = lambda x : chargeSimplifie(x, d)\n",
    "theta = 5/6\n",
    "\n",
    "lbdArray = np.arange(1.5, 8.5, 0.5)\n",
    "tabTErr = []\n",
    "\n",
    "for lbd in lbdArray :\n",
    "    indice = lambda x : indiceLogarithmique(x, lbd)\n",
    "    ajout = lambda x : rangementIndiceSimplifie(x, indice)\n",
    "    M = createTransitionMatrix(listeEtat, ajout, retrait, charge, theta)\n",
    "    \n",
    "    etatDepart = [[(nTenders // (nFiles - 1)) + 1, nCharge]] * (nTenders % (nFiles - 1))\n",
    "    etatDepart += [[(nTenders // (nFiles - 1)), nCharge]] * (nFiles - 1 - (nTenders % (nFiles - 1)))\n",
    "    etatDepart += [[0, 0]]\n",
    "    etatDepart = np.array(etatDepart)\n",
    "    \n",
    "    etatArrivee = False\n",
    "    \n",
    "    i = 0\n",
    "    j = 0\n",
    "\n",
    "    while not np.array(listeEtat[i] == etatDepart).all() :\n",
    "        i += 1\n",
    "\n",
    "    while not np.array(listeEtat[j] == etatArrivee).all() :\n",
    "        j += 1\n",
    "    \n",
    "    tabTErr.append(expectedHittingTime(M, i, j)[0])\n",
    "\n",
    "print(tabTErr)"
   ]
  },
  {
   "cell_type": "code",
   "execution_count": 865,
   "id": "da850aa2-8e68-4f2e-a4e5-897173d35c6a",
   "metadata": {
    "tags": []
   },
   "outputs": [],
   "source": [
    "np.savetxt('indiceLog.csv',\n",
    "            [(lbdArray[i], tabTErr[i]) for i in range(len(tabTErr))],\n",
    "            delimiter = ',',\n",
    "            fmt = ['%f', '%f'])"
   ]
  },
  {
   "cell_type": "code",
   "execution_count": null,
   "id": "087ede29-7309-465c-8bce-3b2a4a9468b4",
   "metadata": {
    "tags": []
   },
   "outputs": [],
   "source": [
    "fig = plt.figure()\n",
    "ax = fig.add_axes(rect = [0.1, 0.1, 0.9, 0.9])\n",
    "\n",
    "ax.plot(lbdArray, tabTErr)\n",
    "\n",
    "ax.set_ylabel(\"Temps moyen jusqu'à l'arrivée du premier client qu'on\\nne peut pas immédiatement servir (en heures)\")\n",
    "ax.set_xlabel(\"Valeur du paramètre $\\lambda$\")\n",
    "ax.set_xlim([0, 10])\n",
    "ax.set_ylim([6, 8])\n",
    "ax.set_yticks(np.arange(6, 8.5, 0.5))\n",
    "\n",
    "ax.axhline(v, color = 'black', linestyle = 'dashed', linewidth = 1)\n",
    "ax.text(s = \"Valeur pour l'algorithme glouton :\\n\" + str(round(v,2)) + ' heures', x = 0.2, y = v - 0.15)\n",
    "\n",
    "ax.axhline(tabTErr[-8], color = 'red', linestyle = 'dashed', linewidth = 1, xmax = lbdArray[-8] / 10)\n",
    "ax.text(s = \"Valeur à l'optimum :\\n\" + str(round(tabTErr[-8],2)) + ' heures', color = 'red', x = 0.2, y = tabTErr[-8] + 0.05)\n",
    "\n",
    "ax.axvline(lbdArray[-8], color = 'red', linestyle = 'dashed', linewidth = 1, ymax = (tabTErr[-8] - 6) / 2)\n",
    "ax.text(s = \"$\\lambda$ optimal : \" + str(round(lbdArray[-8],2)), color = 'red', x = lbdArray[-8] + 0.2, y = 6.2)\n",
    "\n",
    "fig.show()"
   ]
  },
  {
   "cell_type": "markdown",
   "id": "267f2ed8-0f90-4fbb-a8e0-6dd1c5ac1a70",
   "metadata": {},
   "source": [
    "### Graphiques pour indice multiplicatif"
   ]
  },
  {
   "cell_type": "code",
   "execution_count": 847,
   "id": "a4064671-1133-4271-aa86-ce9a97910a4c",
   "metadata": {
    "tags": []
   },
   "outputs": [],
   "source": [
    "etatDepart = [[(nTenders // (nFiles - 1)) + 1, nCharge]] * (nTenders % (nFiles - 1))\n",
    "etatDepart += [[(nTenders // (nFiles - 1)), nCharge]] * (nFiles - 1 - (nTenders % (nFiles - 1)))\n",
    "etatDepart += [[0, 0]]\n",
    "etatDepart = np.array(etatDepart)\n",
    "\n",
    "etatArrivee = False\n",
    "\n",
    "i = 0\n",
    "j = 0\n",
    "\n",
    "while not np.array(listeEtat[i] == etatDepart).all() :\n",
    "    i += 1\n",
    "\n",
    "while not np.array(listeEtat[j] == etatArrivee).all() :\n",
    "    j += 1"
   ]
  },
  {
   "cell_type": "code",
   "execution_count": 848,
   "id": "0f733272-78dd-49b7-9c24-d1b95ea13e5c",
   "metadata": {
    "tags": []
   },
   "outputs": [
    {
     "ename": "KeyboardInterrupt",
     "evalue": "",
     "output_type": "error",
     "traceback": [
      "\u001b[0;31m---------------------------------------------------------------------------\u001b[0m",
      "\u001b[0;31mKeyboardInterrupt\u001b[0m                         Traceback (most recent call last)",
      "Cell \u001b[0;32mIn[848], line 15\u001b[0m\n\u001b[1;32m     13\u001b[0m     indice \u001b[38;5;241m=\u001b[39m \u001b[38;5;28;01mlambda\u001b[39;00m x : indiceMultiplicatif(x, lbd)\n\u001b[1;32m     14\u001b[0m     ajout \u001b[38;5;241m=\u001b[39m \u001b[38;5;28;01mlambda\u001b[39;00m x : rangementIndiceSimplifie(x, indice)\n\u001b[0;32m---> 15\u001b[0m     M \u001b[38;5;241m=\u001b[39m \u001b[43mcreateTransitionMatrix\u001b[49m\u001b[43m(\u001b[49m\u001b[43mlisteEtat\u001b[49m\u001b[43m,\u001b[49m\u001b[43m \u001b[49m\u001b[43majout\u001b[49m\u001b[43m,\u001b[49m\u001b[43m \u001b[49m\u001b[43mretrait\u001b[49m\u001b[43m,\u001b[49m\u001b[43m \u001b[49m\u001b[43mcharge\u001b[49m\u001b[43m,\u001b[49m\u001b[43m \u001b[49m\u001b[43mtheta\u001b[49m\u001b[43m)\u001b[49m\n\u001b[1;32m     18\u001b[0m     tabTErr\u001b[38;5;241m.\u001b[39mappend(expectedHittingTime(M, i, j)[\u001b[38;5;241m0\u001b[39m])\n\u001b[1;32m     20\u001b[0m \u001b[38;5;28mprint\u001b[39m(tabTErr)\n",
      "Cell \u001b[0;32mIn[21], line 15\u001b[0m, in \u001b[0;36mcreateTransitionMatrix\u001b[0;34m(listeEtat, ajout, retrait, charge, lbd)\u001b[0m\n\u001b[1;32m     13\u001b[0m     ghostStation \u001b[38;5;241m=\u001b[39m ajout(ghostStation)\n\u001b[1;32m     14\u001b[0m j \u001b[38;5;241m=\u001b[39m \u001b[38;5;241m0\u001b[39m\n\u001b[0;32m---> 15\u001b[0m \u001b[38;5;28;01mwhile\u001b[39;00m \u001b[38;5;129;01mnot\u001b[39;00m \u001b[43m(\u001b[49m\u001b[43mlisteEtat\u001b[49m\u001b[43m[\u001b[49m\u001b[43mj\u001b[49m\u001b[43m]\u001b[49m\u001b[43m \u001b[49m\u001b[38;5;241;43m==\u001b[39;49m\u001b[43m \u001b[49m\u001b[43mghostStation\u001b[49m\u001b[43m)\u001b[49m\u001b[38;5;241;43m.\u001b[39;49m\u001b[43mall\u001b[49m\u001b[43m(\u001b[49m\u001b[43m)\u001b[49m :\n\u001b[1;32m     16\u001b[0m     j \u001b[38;5;241m+\u001b[39m\u001b[38;5;241m=\u001b[39m \u001b[38;5;241m1\u001b[39m\n\u001b[1;32m     17\u001b[0m transitionMatrix[i, j] \u001b[38;5;241m+\u001b[39m\u001b[38;5;241m=\u001b[39m curProb \u001b[38;5;66;03m# Même si on reviendra pas deux fois au même état\u001b[39;00m\n",
      "File \u001b[0;32m/opt/mamba/lib/python3.10/site-packages/numpy/core/_methods.py:60\u001b[0m, in \u001b[0;36m_all\u001b[0;34m(a, axis, dtype, out, keepdims, where)\u001b[0m\n\u001b[1;32m     57\u001b[0m         \u001b[38;5;28;01mreturn\u001b[39;00m umr_any(a, axis, dtype, out, keepdims)\n\u001b[1;32m     58\u001b[0m     \u001b[38;5;28;01mreturn\u001b[39;00m umr_any(a, axis, dtype, out, keepdims, where\u001b[38;5;241m=\u001b[39mwhere)\n\u001b[0;32m---> 60\u001b[0m \u001b[38;5;28;01mdef\u001b[39;00m \u001b[38;5;21m_all\u001b[39m(a, axis\u001b[38;5;241m=\u001b[39m\u001b[38;5;28;01mNone\u001b[39;00m, dtype\u001b[38;5;241m=\u001b[39m\u001b[38;5;28;01mNone\u001b[39;00m, out\u001b[38;5;241m=\u001b[39m\u001b[38;5;28;01mNone\u001b[39;00m, keepdims\u001b[38;5;241m=\u001b[39m\u001b[38;5;28;01mFalse\u001b[39;00m, \u001b[38;5;241m*\u001b[39m, where\u001b[38;5;241m=\u001b[39m\u001b[38;5;28;01mTrue\u001b[39;00m):\n\u001b[1;32m     61\u001b[0m     \u001b[38;5;66;03m# Parsing keyword arguments is currently fairly slow, so avoid it for now\u001b[39;00m\n\u001b[1;32m     62\u001b[0m     \u001b[38;5;28;01mif\u001b[39;00m where \u001b[38;5;129;01mis\u001b[39;00m \u001b[38;5;28;01mTrue\u001b[39;00m:\n\u001b[1;32m     63\u001b[0m         \u001b[38;5;28;01mreturn\u001b[39;00m umr_all(a, axis, dtype, out, keepdims)\n",
      "\u001b[0;31mKeyboardInterrupt\u001b[0m: "
     ]
    }
   ],
   "source": [
    "nTenders = 20\n",
    "nFiles = 3\n",
    "d = 2\n",
    "listeEtat = listAllStations(nTenders, nFiles, d)\n",
    "retrait = lambda x : donGloutonSimplifie(x, d)\n",
    "charge = lambda x : chargeSimplifie(x, d)\n",
    "theta = 5/6\n",
    "\n",
    "lbdArray = np.arange(0, 3.1, 0.1)\n",
    "tabTErr = []\n",
    "\n",
    "for lbd in lbdArray :\n",
    "    indice = lambda x : indiceMultiplicatif(x, lbd)\n",
    "    ajout = lambda x : rangementIndiceSimplifie(x, indice)\n",
    "    M = createTransitionMatrix(listeEtat, ajout, retrait, charge, theta)\n",
    "\n",
    "    \n",
    "    tabTErr.append(expectedHittingTime(M, i, j)[0])\n",
    "\n",
    "print(tabTErr)"
   ]
  },
  {
   "cell_type": "code",
   "execution_count": null,
   "id": "4235410d-fa70-4025-86b8-6ef2321d4475",
   "metadata": {
    "tags": []
   },
   "outputs": [],
   "source": [
    "np.savetxt('indiceMult.csv',\n",
    "            [(lbdArray[i], tabTErr[i]) for i in range(len(tabTErr))],\n",
    "            delimiter = ',',\n",
    "            fmt = ['%f', '%f'])"
   ]
  },
  {
   "cell_type": "code",
   "execution_count": 855,
   "id": "9181aa6d-73c2-43c5-b3e5-df0dc6f5c2c8",
   "metadata": {
    "tags": []
   },
   "outputs": [
    {
     "data": {
      "image/png": "[encoded data removed]",
      "text/plain": [
       "<Figure size 640x480 with 1 Axes>"
      ]
     },
     "metadata": {},
     "output_type": "display_data"
    }
   ],
   "source": [
    "fig = plt.figure()\n",
    "ax = fig.add_axes(rect = [0.1, 0.1, 0.9, 0.9])\n",
    "\n",
    "ax.plot(lbdArray, tabTErr)\n",
    "\n",
    "ax.set_ylabel(\"Temps moyen jusqu'à l'arrivée du premier client qu'on\\nne peut pas immédiatement servir (en heures)\")\n",
    "ax.set_xlabel(\"Valeur du paramètre $\\lambda$\")\n",
    "ax.set_xlim([0, 3])\n",
    "ax.set_ylim([6, 8])\n",
    "ax.set_yticks(np.arange(6, 8.5, 0.5))\n",
    "\n",
    "fig.show()"
   ]
  },
  {
   "cell_type": "markdown",
   "id": "ee626b09-6b23-4120-9290-ba9f17461ee7",
   "metadata": {},
   "source": [
    "### Graphiques pour indice multiplicatif ajusté"
   ]
  },
  {
   "cell_type": "code",
   "execution_count": null,
   "id": "7f1b604c-602d-440f-a701-6a91d267abde",
   "metadata": {
    "tags": []
   },
   "outputs": [],
   "source": [
    "nTenders = 20\n",
    "nFiles = 3\n",
    "d = 2\n",
    "listeEtat = listAllStations(nTenders, nFiles, d)\n",
    "retrait = lambda x : donGloutonSimplifie(x, d)\n",
    "charge = lambda x : chargeSimplifie(x, d)\n",
    "theta = 5/6\n",
    "\n",
    "lbdArray = np.arange(0, 2.1, 0.2)\n",
    "tabTErr = []\n",
    "\n",
    "for lbd in lbdArray :\n",
    "    indice = lambda x : indiceMultiplicatifCorr(x, lbd, d)\n",
    "    ajout = lambda x : rangementIndiceSimplifie(x, indice)\n",
    "    M = createTransitionMatrix(listeEtat, ajout, retrait, charge, theta)\n",
    "    \n",
    "    etatDepart = [[(nTenders // (nFiles - 1)) + 1, nCharge]] * (nTenders % (nFiles - 1))\n",
    "    etatDepart += [[(nTenders // (nFiles - 1)), nCharge]] * (nFiles - 1 - (nTenders % (nFiles - 1)))\n",
    "    etatDepart += [[0, 0]]\n",
    "    etatDepart = np.array(etatDepart)\n",
    "    \n",
    "    etatArrivee = False\n",
    "    \n",
    "    i = 0\n",
    "    j = 0\n",
    "\n",
    "    while not np.array(listeEtat[i] == etatDepart).all() :\n",
    "        i += 1\n",
    "\n",
    "    while not np.array(listeEtat[j] == etatArrivee).all() :\n",
    "        j += 1\n",
    "    \n",
    "    tabTErr.append(expectedHittingTime(M, i, j)[0])\n",
    "\n",
    "print(tabTErr)"
   ]
  },
  {
   "cell_type": "code",
   "execution_count": null,
   "id": "51433ef4-5eff-4161-9d38-78df6058db00",
   "metadata": {
    "tags": []
   },
   "outputs": [],
   "source": [
    "np.savetxt('indiceMultCorr.csv',\n",
    "            [(lbdArray[i], tabTErr[i]) for i in range(len(tabTErr))],\n",
    "            delimiter = ',',\n",
    "            fmt = ['%f', '%f'])"
   ]
  },
  {
   "cell_type": "code",
   "execution_count": null,
   "id": "007bdcf5-1c22-4590-b5d2-383f87830751",
   "metadata": {
    "tags": []
   },
   "outputs": [],
   "source": [
    "fig = plt.figure()\n",
    "ax = fig.add_axes(rect = [0.1, 0.1, 0.9, 0.9])\n",
    "\n",
    "ax.plot(lbdArray[::1], tabTErr[::1])\n",
    "\n",
    "ax.set_ylabel(\"Temps moyen jusqu'à l'arrivée du premier client qu'on\\nne peut pas immédiatement servir (en heures)\")\n",
    "ax.set_xlabel(\"Valeur du paramètre $\\lambda$\")\n",
    "ax.set_xlim([0, 2])\n",
    "ax.set_ylim([6, 8])\n",
    "ax.set_yticks(np.arange(6, 8.5, 0.5))\n",
    "\n",
    "fig.show()"
   ]
  },
  {
   "cell_type": "markdown",
   "id": "e60f054b-4a1a-42e4-9c83-2e734865dc0c",
   "metadata": {},
   "source": [
    "### Graphiques pour indice puissance-logarithme"
   ]
  },
  {
   "cell_type": "code",
   "execution_count": null,
   "id": "36d2d4c7-b09e-4aae-a3b1-dc44a1c84cbe",
   "metadata": {
    "tags": []
   },
   "outputs": [],
   "source": [
    "nTenders = 20\n",
    "nFiles = 3\n",
    "d = 2\n",
    "listeEtat = listAllStations(nTenders, nFiles, d)\n",
    "retrait = lambda x : donGloutonSimplifie(x, d)\n",
    "charge = lambda x : chargeSimplifie(x, d)\n",
    "theta = 5/6\n",
    "\n",
    "etatDepart = [[(nTenders // (nFiles - 1)) + 1, nCharge]] * (nTenders % (nFiles - 1))\n",
    "etatDepart += [[(nTenders // (nFiles - 1)), nCharge]] * (nFiles - 1 - (nTenders % (nFiles - 1)))\n",
    "etatDepart += [[0, 0]]\n",
    "etatDepart = np.array(etatDepart)\n",
    "\n",
    "etatArrivee = False\n",
    "\n",
    "i = 0\n",
    "j = 0\n",
    "\n",
    "while not np.array(listeEtat[i] == etatDepart).all() :\n",
    "    i += 1\n",
    "\n",
    "while not np.array(listeEtat[j] == etatArrivee).all() :\n",
    "    j += 1"
   ]
  },
  {
   "cell_type": "code",
   "execution_count": null,
   "id": "083c4180-f26a-4d59-bac9-b4c0829b1183",
   "metadata": {
    "tags": []
   },
   "outputs": [],
   "source": [
    "# On fractionne le calcul en deux et on change lambda à la main (valeurs : 0.2, 1/3, 0.5, 1, 2, 3)\n",
    "# pour diviser le calcul en plusieurs calculs plus courts\n",
    "\n",
    "lbd = 1/5\n",
    "\n",
    "tempTab = []\n",
    "muArray = np.arange(0, 1, 0.1).tolist()\n",
    "\n",
    "for mu in muArray :\n",
    "    indice = lambda x : indicePuisLog(x, lbd, mu)\n",
    "    ajout = lambda x : rangementIndiceSimplifie(x, indice)\n",
    "    M = createTransitionMatrix(listeEtat, ajout, retrait, charge, theta)\n",
    "\n",
    "    tempTab.append(expectedHittingTime(M, i, j)[0])\n",
    "\n",
    "tabTErr.append(tempTab)"
   ]
  },
  {
   "cell_type": "code",
   "execution_count": null,
   "id": "dd8828d7-ca70-4278-9319-94871be04638",
   "metadata": {
    "tags": []
   },
   "outputs": [],
   "source": [
    "lbd = 1/5\n",
    "\n",
    "tempTab = []\n",
    "muArray = np.arange(1, 11, 1).tolist()\n",
    "\n",
    "for mu in muArray :\n",
    "    indice = lambda x : indicePuisLog(x, lbd, mu)\n",
    "    ajout = lambda x : rangementIndiceSimplifie(x, indice)\n",
    "    M = createTransitionMatrix(listeEtat, ajout, retrait, charge, theta)\n",
    "\n",
    "    tempTab.append(expectedHittingTime(M, i, j)[0])\n",
    "\n",
    "tabTErr[-1] = tabTErr[-1] + tempTab"
   ]
  },
  {
   "cell_type": "code",
   "execution_count": null,
   "id": "35deaf37-1e08-457e-abb4-edd315fe125f",
   "metadata": {
    "tags": []
   },
   "outputs": [],
   "source": [
    "fig = plt.figure()\n",
    "ax = fig.add_axes(rect = [0.1, 0.1, 0.9, 0.9])\n",
    "\n",
    "ax.plot(np.arange(0, 1, 0.1).tolist() + np.arange(1, 11, 1).tolist(), np.array(tabTErr).transpose())\n",
    "\n",
    "fig.show()"
   ]
  },
  {
   "cell_type": "code",
   "execution_count": null,
   "id": "142490b2-d448-4af7-86ae-2a4fad6cce83",
   "metadata": {
    "tags": []
   },
   "outputs": [],
   "source": [
    "muArray = np.arange(0, 1, 0.1).tolist() + np.arange(1, 11, 1).tolist()\n",
    "\n",
    "np.savetxt('indicePuisLog.csv',\n",
    "            [tuple([muArray[i]]) +tuple(np.array(tabTErr).transpose()[i]) for i in range(len(muArray))],\n",
    "            delimiter = ',',\n",
    "            fmt = ['%f'] * (len(tabTErr) + 1))"
   ]
  },
  {
   "cell_type": "markdown",
   "id": "3fd71089-310d-402f-8156-91051755e043",
   "metadata": {},
   "source": [
    "### Graphiques pour indice puissance-log inversés"
   ]
  },
  {
   "cell_type": "code",
   "execution_count": null,
   "id": "5856159e-723c-41fb-aa82-b9f2a0a11581",
   "metadata": {
    "tags": []
   },
   "outputs": [],
   "source": [
    "nTenders = 20\n",
    "nFiles = 3\n",
    "d = 2\n",
    "listeEtat = listAllStations(nTenders, nFiles, d)\n",
    "retrait = lambda x : donGloutonSimplifie(x, d)\n",
    "charge = lambda x : chargeSimplifie(x, d)\n",
    "theta = 5/6\n",
    "\n",
    "etatDepart = [[(nTenders // (nFiles - 1)) + 1, nCharge]] * (nTenders % (nFiles - 1))\n",
    "etatDepart += [[(nTenders // (nFiles - 1)), nCharge]] * (nFiles - 1 - (nTenders % (nFiles - 1)))\n",
    "etatDepart += [[0, 0]]\n",
    "etatDepart = np.array(etatDepart)\n",
    "\n",
    "etatArrivee = False\n",
    "\n",
    "i = 0\n",
    "j = 0\n",
    "\n",
    "while not np.array(listeEtat[i] == etatDepart).all() :\n",
    "    i += 1\n",
    "\n",
    "while not np.array(listeEtat[j] == etatArrivee).all() :\n",
    "    j += 1\n",
    "    \n",
    "tabTErr = []"
   ]
  },
  {
   "cell_type": "code",
   "execution_count": null,
   "id": "b452950a-43d4-4f4b-ace7-c5a20cb808d4",
   "metadata": {
    "tags": []
   },
   "outputs": [],
   "source": [
    "# On fractionne le calcul en deux et on change lambda à la main (valeurs : 0.2, 1/3, 0.5, 1, 2, 3)\n",
    "# pour diviser le calcul en plusieurs calculs plus courts\n",
    "\n",
    "lbd = 3\n",
    "\n",
    "tempTab = []\n",
    "muArray = np.arange(0, 1, 0.1).tolist()\n",
    "\n",
    "for mu in muArray :\n",
    "    indice = lambda x : indicePuisLogCorr(x, lbd, mu, d)\n",
    "    ajout = lambda x : rangementIndiceSimplifie(x, indice)\n",
    "    M = createTransitionMatrix(listeEtat, ajout, retrait, charge, theta)\n",
    "\n",
    "    tempTab.append(expectedHittingTime(M, i, j)[0])\n",
    "\n",
    "tabTErr.append(tempTab)"
   ]
  },
  {
   "cell_type": "code",
   "execution_count": null,
   "id": "0834aa8a-30a7-4c63-a207-23e1d61633a4",
   "metadata": {
    "tags": []
   },
   "outputs": [],
   "source": [
    "lbd = 3\n",
    "\n",
    "tempTab = []\n",
    "muArray = np.arange(1, 11, 1).tolist()\n",
    "\n",
    "for mu in muArray :\n",
    "    indice = lambda x : indicePuisLogCorr(x, lbd, mu, d)\n",
    "    ajout = lambda x : rangementIndiceSimplifie(x, indice)\n",
    "    M = createTransitionMatrix(listeEtat, ajout, retrait, charge, theta)\n",
    "\n",
    "    tempTab.append(expectedHittingTime(M, i, j)[0])\n",
    "\n",
    "tabTErr[-1] = tabTErr[-1] + tempTab"
   ]
  },
  {
   "cell_type": "code",
   "execution_count": null,
   "id": "0e052bed-423e-4d1e-8631-3fa36e9fae2a",
   "metadata": {
    "tags": []
   },
   "outputs": [],
   "source": [
    "fig = plt.figure()\n",
    "ax = fig.add_axes(rect = [0.1, 0.1, 0.9, 0.9])\n",
    "\n",
    "ax.plot(np.arange(0, 1, 0.1).tolist() + np.arange(1, 11, 1).tolist(), np.array(tabTErr).transpose())\n",
    "\n",
    "fig.show()"
   ]
  },
  {
   "cell_type": "code",
   "execution_count": null,
   "id": "fdc91372-383c-4e64-9179-2a082657ae94",
   "metadata": {
    "tags": []
   },
   "outputs": [],
   "source": [
    "muArray = np.arange(0, 1, 0.1).tolist() + np.arange(1, 11, 1).tolist()\n",
    "\n",
    "np.savetxt('indicePuisLogInv.csv',\n",
    "            [tuple([muArray[i]]) +tuple(np.array(tabTErr).transpose()[i]) for i in range(len(muArray))],\n",
    "            delimiter = ',',\n",
    "            fmt = ['%f'] * (len(tabTErr) + 1))"
   ]
  },
  {
   "cell_type": "markdown",
   "id": "359dde5a-688a-4230-846d-f810b33fc091",
   "metadata": {},
   "source": [
    "### Indices puissance"
   ]
  },
  {
   "cell_type": "code",
   "execution_count": null,
   "id": "429b25e0-9a85-4be5-a0c2-69d88f9cf64c",
   "metadata": {
    "tags": []
   },
   "outputs": [],
   "source": [
    "nTenders = 20\n",
    "nFiles = 3\n",
    "d = 2\n",
    "listeEtat = listAllStations(nTenders, nFiles, d)\n",
    "retrait = lambda x : donGloutonSimplifie(x, d)\n",
    "charge = lambda x : chargeSimplifie(x, d)\n",
    "theta = 5/6\n",
    "\n",
    "etatDepart = [[(nTenders // (nFiles - 1)) + 1, nCharge]] * (nTenders % (nFiles - 1))\n",
    "etatDepart += [[(nTenders // (nFiles - 1)), nCharge]] * (nFiles - 1 - (nTenders % (nFiles - 1)))\n",
    "etatDepart += [[0, 0]]\n",
    "etatDepart = np.array(etatDepart)\n",
    "\n",
    "etatArrivee = False\n",
    "\n",
    "i = 0\n",
    "j = 0\n",
    "\n",
    "while not np.array(listeEtat[i] == etatDepart).all() :\n",
    "    i += 1\n",
    "\n",
    "while not np.array(listeEtat[j] == etatArrivee).all() :\n",
    "    j += 1\n",
    "    \n",
    "tabTErr = []"
   ]
  },
  {
   "cell_type": "code",
   "execution_count": null,
   "id": "71a0a8ff-7b97-4aff-aa08-4708e555bfca",
   "metadata": {
    "tags": []
   },
   "outputs": [],
   "source": [
    "# On fractionne le calcul en deux et on change lambda à la main (valeurs : 0.2, 1/3, 0.5, 1, 2, 3)\n",
    "# pour diviser le calcul en plusieurs calculs plus courts\n",
    "\n",
    "lbd = 3\n",
    "\n",
    "tempTab = []\n",
    "muArray = np.arange(0, 1, 0.1).tolist()\n",
    "\n",
    "for mu in muArray :\n",
    "    indice = lambda x : indicePuis(x, lbd, mu)\n",
    "    ajout = lambda x : rangementIndiceSimplifie(x, indice)\n",
    "    M = createTransitionMatrix(listeEtat, ajout, retrait, charge, theta)\n",
    "\n",
    "    tempTab.append(expectedHittingTime(M, i, j)[0])\n",
    "\n",
    "tabTErr.append(tempTab)"
   ]
  },
  {
   "cell_type": "code",
   "execution_count": null,
   "id": "89d3095c-cfa8-448d-823b-9b271c552c8f",
   "metadata": {
    "tags": []
   },
   "outputs": [],
   "source": [
    "lbd = 3\n",
    "\n",
    "tempTab = []\n",
    "muArray = np.arange(1, 11, 1).tolist()\n",
    "\n",
    "for mu in muArray :\n",
    "    indice = lambda x : indicePuis(x, lbd, mu)\n",
    "    ajout = lambda x : rangementIndiceSimplifie(x, indice)\n",
    "    M = createTransitionMatrix(listeEtat, ajout, retrait, charge, theta)\n",
    "\n",
    "    tempTab.append(expectedHittingTime(M, i, j)[0])\n",
    "\n",
    "tabTErr[-1] = tabTErr[-1] + tempTab"
   ]
  },
  {
   "cell_type": "code",
   "execution_count": null,
   "id": "2443ac1f-510e-4b8b-bbd4-2d72a1b2be65",
   "metadata": {
    "tags": []
   },
   "outputs": [],
   "source": [
    "fig = plt.figure()\n",
    "ax = fig.add_axes(rect = [0.1, 0.1, 0.9, 0.9])\n",
    "\n",
    "ax.plot(np.arange(0, 1, 0.1).tolist() + np.arange(1, 11, 1).tolist(), np.array(tabTErr).transpose())\n",
    "\n",
    "ax.set_xlim([0, 1])\n",
    "\n",
    "fig.show()"
   ]
  },
  {
   "cell_type": "code",
   "execution_count": null,
   "id": "33cae91d-d2f4-4e08-897c-55d7d70db817",
   "metadata": {
    "tags": []
   },
   "outputs": [],
   "source": [
    "muArray = np.arange(0, 1, 0.1).tolist() + np.arange(1, 11, 1).tolist()\n",
    "\n",
    "np.savetxt('indicePuis.csv',\n",
    "            [tuple([muArray[i]]) +tuple(np.array(tabTErr).transpose()[i]) for i in range(len(muArray))],\n",
    "            delimiter = ',',\n",
    "            fmt = ['%f'] * (len(tabTErr) + 1))"
   ]
  },
  {
   "cell_type": "markdown",
   "id": "bb15ab34-a96a-4929-8499-414e91c97b77",
   "metadata": {},
   "source": [
    "### Indices puissance inversés"
   ]
  },
  {
   "cell_type": "code",
   "execution_count": null,
   "id": "94cba7a3-21ae-4e83-8093-7072ff02721c",
   "metadata": {
    "tags": []
   },
   "outputs": [],
   "source": [
    "nTenders = 20\n",
    "nFiles = 3\n",
    "d = 2\n",
    "listeEtat = listAllStations(nTenders, nFiles, d)\n",
    "retrait = lambda x : donGloutonSimplifie(x, d)\n",
    "charge = lambda x : chargeSimplifie(x, d)\n",
    "theta = 5/6\n",
    "\n",
    "etatDepart = [[(nTenders // (nFiles - 1)) + 1, nCharge]] * (nTenders % (nFiles - 1))\n",
    "etatDepart += [[(nTenders // (nFiles - 1)), nCharge]] * (nFiles - 1 - (nTenders % (nFiles - 1)))\n",
    "etatDepart += [[0, 0]]\n",
    "etatDepart = np.array(etatDepart)\n",
    "\n",
    "etatArrivee = False\n",
    "\n",
    "i = 0\n",
    "j = 0\n",
    "\n",
    "while not np.array(listeEtat[i] == etatDepart).all() :\n",
    "    i += 1\n",
    "\n",
    "while not np.array(listeEtat[j] == etatArrivee).all() :\n",
    "    j += 1\n",
    "    \n",
    "tabTErr = []"
   ]
  },
  {
   "cell_type": "code",
   "execution_count": null,
   "id": "5bb99e8d-5959-41f4-9d85-082908796217",
   "metadata": {
    "tags": []
   },
   "outputs": [],
   "source": [
    "# On fractionne le calcul en deux et on change lambda à la main (valeurs : 0.2, 1/3, 0.5, 1, 2, 3)\n",
    "# pour diviser le calcul en plusieurs calculs plus courts\n",
    "\n",
    "lbd = 3\n",
    "\n",
    "tempTab = []\n",
    "muArray = np.arange(0, 1, 0.1).tolist()\n",
    "\n",
    "for mu in muArray :\n",
    "    indice = lambda x : indicePuisCorr(x, lbd, mu, d)\n",
    "    ajout = lambda x : rangementIndiceSimplifie(x, indice)\n",
    "    M = createTransitionMatrix(listeEtat, ajout, retrait, charge, theta)\n",
    "\n",
    "    tempTab.append(expectedHittingTime(M, i, j)[0])\n",
    "\n",
    "tabTErr.append(tempTab)"
   ]
  },
  {
   "cell_type": "code",
   "execution_count": null,
   "id": "fe0eeac5-597b-4b88-8374-a0d06f6b202b",
   "metadata": {
    "tags": []
   },
   "outputs": [],
   "source": [
    "lbd = 3\n",
    "\n",
    "tempTab = []\n",
    "muArray = np.arange(1, 11, 1).tolist()\n",
    "\n",
    "for mu in muArray :\n",
    "    indice = lambda x : indicePuisCorr(x, lbd, mu, d)\n",
    "    ajout = lambda x : rangementIndiceSimplifie(x, indice)\n",
    "    M = createTransitionMatrix(listeEtat, ajout, retrait, charge, theta)\n",
    "\n",
    "    tempTab.append(expectedHittingTime(M, i, j)[0])\n",
    "\n",
    "tabTErr[-1] = tabTErr[-1] + tempTab"
   ]
  },
  {
   "cell_type": "code",
   "execution_count": null,
   "id": "a2de9e9e-2b97-48d4-9ce2-b9d4f1e1c9ee",
   "metadata": {
    "tags": []
   },
   "outputs": [],
   "source": [
    "fig = plt.figure()\n",
    "ax = fig.add_axes(rect = [0.1, 0.1, 0.9, 0.9])\n",
    "\n",
    "ax.plot(np.arange(0, 1, 0.1).tolist() + np.arange(1, 11, 1).tolist(), np.array(tabTErr).transpose())\n",
    "\n",
    "ax.set_xlim([0, 1])\n",
    "\n",
    "fig.show()"
   ]
  },
  {
   "cell_type": "code",
   "execution_count": null,
   "id": "a3439d0f-4958-417e-a208-b7188c0943fc",
   "metadata": {
    "tags": []
   },
   "outputs": [],
   "source": [
    "muArray = np.arange(0, 1, 0.1).tolist() + np.arange(1, 11, 1).tolist()\n",
    "\n",
    "np.savetxt('indicePuisCorr.csv',\n",
    "            [tuple([muArray[i]]) +tuple(np.array(tabTErr).transpose()[i]) for i in range(len(muArray))],\n",
    "            delimiter = ',',\n",
    "            fmt = ['%f'] * (len(tabTErr) + 1))"
   ]
  },
  {
   "cell_type": "markdown",
   "id": "7611ca44-8000-4298-adb3-86c4fa8f1a57",
   "metadata": {},
   "source": [
    "### Sensibilité à une méspécification des paramètres"
   ]
  },
  {
   "cell_type": "code",
   "execution_count": 871,
   "id": "541125da-c140-49b1-93aa-78d6142e2057",
   "metadata": {
    "tags": []
   },
   "outputs": [],
   "source": [
    "tabIndices = []\n",
    "\n",
    "nTenders = 20\n",
    "nFiles = 3\n",
    "d = 2\n",
    "listeEtat = listAllStations(nTenders, nFiles, d)\n",
    "retrait = lambda x : donGloutonSimplifie(x, d)\n",
    "charge = lambda x : chargeSimplifie(x, d)\n",
    "\n",
    "rhoArray = [1/2, 1, 2, 3, 4, 5, 6, 7, 8, 9, 10, 15, 20, 30]\n",
    "thetaArray = [rho / (rho + 1) for rho in rhoArray]\n",
    "\n",
    "indice = lambda x : indiceLineaire(x, 30)\n",
    "tabIndices.append(indice)\n",
    "\n",
    "indice = lambda x : indiceLineaire(x, 7)\n",
    "tabIndices.append(indice)\n",
    "\n",
    "indice = lambda x : indiceLogarithmique(x, 3.5)\n",
    "tabIndices.append(indice)\n",
    "\n",
    "indice = lambda x : indiceMultiplicatif(x, 0.6)\n",
    "tabIndices.append(indice)\n",
    "\n",
    "indice = lambda x : indicePuis(x, 0.5, 0.1)\n",
    "tabIndices.append(indice)\n",
    "\n",
    "indice = lambda x : indicePuisCorr(x, 3, 0.2, d)\n",
    "tabIndices.append(indice)\n",
    "\n",
    "indice = lambda x : indicePuisLog(x, 0.2, 0.1)\n",
    "tabIndices.append(indice)\n",
    "\n",
    "indice = lambda x : indicePuisLogCorr(x, 3, 0.9, d)\n",
    "tabIndices.append(indice)\n",
    "\n",
    "tabTErr = []"
   ]
  },
  {
   "cell_type": "code",
   "execution_count": 872,
   "id": "c8d6982b-4297-424f-9ca0-ff826e10ba25",
   "metadata": {
    "tags": []
   },
   "outputs": [],
   "source": [
    "etatDepart = [[(nTenders // (nFiles - 1)) + 1, nCharge]] * (nTenders % (nFiles - 1))\n",
    "etatDepart += [[(nTenders // (nFiles - 1)), nCharge]] * (nFiles - 1 - (nTenders % (nFiles - 1)))\n",
    "etatDepart += [[0, 0]]\n",
    "etatDepart = np.array(etatDepart)\n",
    "\n",
    "etatArrivee = False\n",
    "\n",
    "i = 0\n",
    "j = 0\n",
    "\n",
    "while not np.array(listeEtat[i] == etatDepart).all() :\n",
    "    i += 1\n",
    "\n",
    "while not np.array(listeEtat[j] == etatArrivee).all() :\n",
    "    j += 1"
   ]
  },
  {
   "cell_type": "code",
   "execution_count": 899,
   "id": "cf93d463-5904-4399-b145-5752abd02997",
   "metadata": {
    "tags": []
   },
   "outputs": [],
   "source": [
    "indexTheta = 13\n",
    "theta = thetaArray[indexTheta]\n",
    "\n",
    "tempTab = []\n",
    "for indice in tabIndices :\n",
    "    ajout = lambda x : rangementIndiceSimplifie(x, indice)\n",
    "    M = createTransitionMatrix(listeEtat, ajout, retrait, charge, theta)\n",
    "    tempTab.append(expectedHittingTime(M, i, j)[0])\n",
    "\n",
    "tabTErr.append(tempTab)"
   ]
  },
  {
   "cell_type": "code",
   "execution_count": null,
   "id": "d62f94da-cbb4-44de-a283-c1d799409ade",
   "metadata": {
    "tags": []
   },
   "outputs": [],
   "source": [
    "x = tabTErr[8]"
   ]
  },
  {
   "cell_type": "code",
   "execution_count": 901,
   "id": "60461418-cb1e-4cc9-9d25-27228ed8abad",
   "metadata": {
    "tags": []
   },
   "outputs": [
    {
     "data": {
      "text/plain": [
       "[array([-1., -1., -1., -1., -1., -1., -1.]),\n",
       " array([ 1.,  1.,  1., -1., -1., -1.,  1.]),\n",
       " array([ 1.,  1.,  1.,  1.,  1., -1.,  1.]),\n",
       " array([ 1.,  1.,  1.,  1.,  1., -1.,  1.]),\n",
       " array([1., 1., 1., 1., 1., 1., 1.]),\n",
       " array([1., 1., 1., 1., 1., 1., 1.]),\n",
       " array([1., 1., 1., 1., 1., 1., 1.]),\n",
       " array([1., 1., 1., 1., 1., 1., 1.]),\n",
       " array([1., 1., 1., 1., 1., 1., 1.]),\n",
       " array([1., 1., 1., 1., 1., 1., 1.]),\n",
       " array([1., 1., 1., 1., 1., 1., 1.]),\n",
       " array([-1.,  1.,  1., -1.,  1.,  1.,  1.]),\n",
       " array([-1., -1., -1., -1., -1.,  1., -1.]),\n",
       " array([-1., -1., -1., -1., -1., -1., -1.])]"
      ]
     },
     "execution_count": 901,
     "metadata": {},
     "output_type": "execute_result"
    }
   ],
   "source": [
    "[np.sign(x[1:] - x[0]) for x in tabTErr]"
   ]
  },
  {
   "cell_type": "code",
   "execution_count": 906,
   "id": "4d518c53-e54c-4884-a946-5e7a065b62c9",
   "metadata": {
    "tags": []
   },
   "outputs": [
    {
     "data": {
      "image/png": "[encoded data removed]",
      "text/plain": [
       "<Figure size 640x480 with 1 Axes>"
      ]
     },
     "metadata": {},
     "output_type": "display_data"
    }
   ],
   "source": [
    "fig = plt.figure()\n",
    "ax = fig.add_axes(rect = [0.1, 0.1, 0.9, 0.9])\n",
    "\n",
    "ax.plot(rhoArray[2:11], [np.log(abs(x[1:] - x[0]) / x[0]) for x in [y[:6] + y[7:] for y in tabTErr[2:11]]])\n",
    "\n",
    "fig.show()"
   ]
  },
  {
   "cell_type": "code",
   "execution_count": 908,
   "id": "6f90a030-bd28-4e03-a9a1-b014b8770585",
   "metadata": {
    "tags": []
   },
   "outputs": [],
   "source": [
    "np.savetxt('algRobusteNice.csv',\n",
    "           [tuple([rhoArray[2:11][i]]) + tuple([100 * abs(x[1:] - x[0]) / x[0] for x in [y[:6] + y[7:] for y in tabTErr[2:11]]][i]) for i in range(9)],\n",
    "            delimiter = ',',\n",
    "            fmt = ['%f'] * (len(tabTErr[0]) - 1))"
   ]
  },
  {
   "cell_type": "code",
   "execution_count": 903,
   "id": "e8c4322c-473a-476e-bc02-b3ea16ca39e5",
   "metadata": {
    "tags": []
   },
   "outputs": [],
   "source": [
    "np.savetxt('algRobuste.csv',\n",
    "            [tuple([rhoArray[i]]) +tuple(np.array(tabTErr)[i]) for i in range(len(rhoArray))],\n",
    "            delimiter = ',',\n",
    "            fmt = ['%f'] * (len(tabTErr[0]) + 1))"
   ]
  }
 ],
 "metadata": {
  "kernelspec": {
   "display_name": "Python 3 (ipykernel)",
   "language": "python",
   "name": "python3"
  },
  "language_info": {
   "codemirror_mode": {
    "name": "ipython",
    "version": 3
   },
   "file_extension": ".py",
   "mimetype": "text/x-python",
   "name": "python",
   "nbconvert_exporter": "python",
   "pygments_lexer": "ipython3",
   "version": "3.10.9"
  }
 },
 "nbformat": 4,
 "nbformat_minor": 5
}
