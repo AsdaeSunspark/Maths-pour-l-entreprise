{
 "cells": [
  {
   "cell_type": "markdown",
   "id": "e70e0fd3-9355-403e-b82c-166a46350123",
   "metadata": {},
   "source": [
    "# EP Tender : simulation par chaînes de Markov"
   ]
  },
  {
   "cell_type": "markdown",
   "id": "e635e44b-8eaa-4eb2-85c7-00220446fd35",
   "metadata": {},
   "source": [
    "## Description du modèle"
   ]
  },
  {
   "cell_type": "markdown",
   "id": "c1e4ee58-6326-4dbe-8652-5616bc7a3bc6",
   "metadata": {},
   "source": [
    "On considère une station comportant $f$ files, pour un total de $n$ tenders en circulation. Chaque tender comporte $d + 1$ états de charge, numérotés de 0 à $d$. À 0 un tender est complètement déchargé, et à $d$ il est complètement chargé.\n",
    "\n",
    "On utilise un modèle à temps discret.\n",
    "\n",
    "Les voitures clientes arrivent de sorte que l'écart temporel entre la $i$-ième voiture et la $(i+1)$-ième est de loi géométrique de paramètre $\\lambda$. Lorsqu'elles arrivent elles doivent prendre un tender complètement chargé qu'elles ramènent complètement déchargé au début de l'étape suivante.\n",
    "\n",
    "Fatalement, un jour plus de $n$ voitures arriveront en même temps et alors la demande ne pourra pas être satisfaite. On note $T_\\mathrm{bug}$ le premier temps où la demande en Tender est insatisfaite et on s'intéresse à son espérance. On cherche à trouver, pour un processus de rangement et de sélection des tenders donné, l'espérance de $T_\\mathrm{bug}$, qu'on souhaite maximal.\n",
    "\n",
    "Chaque étape temporelle se déroule comme suit :\n",
    "1. Tous les tenders dans la station gagnent un niveau de charge, pour un niveau maximum de $d$.\n",
    "2. Les tenders partis à l'étape précédente sont rangés dans la station.\n",
    "3. Les nouvelles voitures clientes arrivent et des tenders chargés leur sont attribués.\n",
    "4. Si la demande a pu être satisfaite, on passe au temps suivant."
   ]
  },
  {
   "cell_type": "markdown",
   "id": "c4c679df-9f5c-4814-8355-f9ffc84e9ac3",
   "metadata": {},
   "source": [
    "## Importation des modules"
   ]
  },
  {
   "cell_type": "code",
   "execution_count": 1,
   "id": "d5b84098-d0f4-4e72-8a55-cb4848ec5765",
   "metadata": {},
   "outputs": [],
   "source": [
    "import numpy as np"
   ]
  },
  {
   "cell_type": "markdown",
   "id": "4f7d2b1b-9e24-4adc-b960-8586acf2113c",
   "metadata": {},
   "source": [
    "## Encodage des états"
   ]
  },
  {
   "cell_type": "markdown",
   "id": "97af9297-df4f-4416-b2af-ed584a16c446",
   "metadata": {},
   "source": [
    "### Encodage d'une file simple"
   ]
  },
  {
   "cell_type": "markdown",
   "id": "0bdaf193-dd0a-4cd0-8fac-e27ce6a88cfa",
   "metadata": {},
   "source": [
    "Une file donnée contient un certain nombre de tenders, chacun à un état de charge donné. Remarquons que les tenders les plus au fond sont ceux arrivés le plus tôt, ils sont donc les plus chargés. On peut donc représenter une file par une suite décroissante d'entiers entre 0 et $d$, de longueur au plus $n$. Si $d < n$ il peut être plus efficace d'encoder cette suite par une suite de $d + 1$ entiers positifs, de somme au plus $n$, représentant le nombre de tenders de niveau de charge $d$ dans la file, puis le nombre de tenders de niveau de charge $d - 1$, et ainsi de suite jusque $0$."
   ]
  },
  {
   "cell_type": "code",
   "execution_count": 17,
   "id": "94549481-5b2a-44af-a149-65ab72270433",
   "metadata": {},
   "outputs": [],
   "source": [
    "def encode(file, d) :\n",
    "# Prend une suite décroissante d'entiers positifs entre 0 et d, et renvoie le nombre d'entiers pour chaque valeur\n",
    "\n",
    "    fileEncodee = np.zeros(d + 1, dtype = int)\n",
    "    for charge in file :\n",
    "        fileEncodee[d - charge] += 1\n",
    "    \n",
    "    return fileEncodee"
   ]
  },
  {
   "cell_type": "code",
   "execution_count": 18,
   "id": "9b924991-dab9-4c33-a5a4-a9578764e7fe",
   "metadata": {},
   "outputs": [
    {
     "data": {
      "text/plain": [
       "array([0, 2, 0, 1, 2, 1, 1])"
      ]
     },
     "execution_count": 18,
     "metadata": {},
     "output_type": "execute_result"
    }
   ],
   "source": [
    "file = [5, 5, 3, 2, 2, 1, 0]\n",
    "fileEncodee = encode(file, 6)\n",
    "fileEncodee"
   ]
  },
  {
   "cell_type": "code",
   "execution_count": 19,
   "id": "aff610da-f208-4078-a3ed-8ec6afa1ebd4",
   "metadata": {},
   "outputs": [],
   "source": [
    "def decode(fileEncodee) :\n",
    "    # Prend une suite d'entiers positifs, et renvoie une suite d'entiers, de longueur la somme de la suite originale\n",
    "    # et prenant chaque valeur le nombre de fois indiqué par la suite de départ, de sorte à se terminer par la valeur 0\n",
    "    \n",
    "    d = len(fileEncodee) - 1\n",
    "    file = np.zeros(sum(fileEncodee), dtype = int)\n",
    "    i = 0\n",
    "    for v in fileEncodee :\n",
    "        while v > 0 :\n",
    "            file[i] = d\n",
    "            i += 1\n",
    "            v -= 1\n",
    "        d -= 1\n",
    "    \n",
    "    return file"
   ]
  },
  {
   "cell_type": "code",
   "execution_count": 20,
   "id": "64419aae-14ab-4960-acb6-561809ff6bd4",
   "metadata": {},
   "outputs": [
    {
     "data": {
      "text/plain": [
       "array([5, 5, 3, 2, 2, 1, 0])"
      ]
     },
     "execution_count": 20,
     "metadata": {},
     "output_type": "execute_result"
    }
   ],
   "source": [
    "decode(fileEncodee)"
   ]
  },
  {
   "cell_type": "markdown",
   "id": "a553d4f6-9358-493d-97c2-43182eeefc47",
   "metadata": {},
   "source": [
    "### Encodage d'une station"
   ]
  },
  {
   "cell_type": "markdown",
   "id": "6aa876fc-c7ba-4c66-b85f-551e5703e5cd",
   "metadata": {},
   "source": [
    "Une station comportant $f$ files peut être représentée par une matrice avec $f$ éléments, chaque élément listant les états des tenders dans une file. On complète les files par des -1 pour les ramener toutes à la même longueur."
   ]
  },
  {
   "cell_type": "code",
   "execution_count": 74,
   "id": "c7fcf154-7bde-4beb-a5b6-aee5bd3879da",
   "metadata": {},
   "outputs": [],
   "source": [
    "def encodeStation(station, d) :\n",
    "    # Prend une station et renvoie la matrice comportant la valeur encodée de chaque ligne\n",
    "    \n",
    "    if type(station) == np.ndarray :\n",
    "        station = station.tolist()\n",
    "    \n",
    "    stationEncodee = []\n",
    "    for indexFile in range(len(station)) :\n",
    "        file = station[indexFile]\n",
    "        try :\n",
    "            finFile = file.index(-1)\n",
    "        except ValueError :\n",
    "            finFile = len(file)\n",
    "        stationEncodee.append(encode(file[:finFile], d))\n",
    "    \n",
    "    return np.array(stationEncodee, dtype = int)"
   ]
  },
  {
   "cell_type": "code",
   "execution_count": 62,
   "id": "4caa3e67-caf7-4cb3-8b34-b007e616a711",
   "metadata": {},
   "outputs": [
    {
     "data": {
      "text/plain": [
       "array([[0, 2, 0, 1, 2, 1, 1],\n",
       "       [0, 0, 0, 2, 0, 0, 0]])"
      ]
     },
     "execution_count": 62,
     "metadata": {},
     "output_type": "execute_result"
    }
   ],
   "source": [
    "station = [[5, 5, 3, 2, 2, 1, 0], [3, 3]]\n",
    "stationEncodee = encodeStation(station, 6)\n",
    "stationEncodee"
   ]
  },
  {
   "cell_type": "code",
   "execution_count": 88,
   "id": "acbde24c-2e56-4879-9a53-1197a9a59ee4",
   "metadata": {},
   "outputs": [],
   "source": [
    "def padStation(station) :\n",
    "    # Prend une station représentée sous forme de liste et la renvoie sous forme de np.array, complété de -1\n",
    "    \n",
    "    if type(station) == list :\n",
    "        longueurFiles = max([len(file) for file in station])\n",
    "        for indexFile, file in enumerate(station) :\n",
    "            station[indexFile] = file + [-1] * (longueurFiles - len(file))\n",
    "    \n",
    "    return np.array(station)"
   ]
  },
  {
   "cell_type": "code",
   "execution_count": 89,
   "id": "7586a565-7a6e-46d5-8217-d3af77e901a6",
   "metadata": {},
   "outputs": [
    {
     "data": {
      "text/plain": [
       "array([[ 5,  5,  3,  2,  2,  1,  0],\n",
       "       [ 3,  3, -1, -1, -1, -1, -1]])"
      ]
     },
     "execution_count": 89,
     "metadata": {},
     "output_type": "execute_result"
    }
   ],
   "source": [
    "padStation(station)"
   ]
  },
  {
   "cell_type": "code",
   "execution_count": 90,
   "id": "1d57e95a-c2fe-48ff-ad54-6c53a517a545",
   "metadata": {},
   "outputs": [],
   "source": [
    "def decodeStation(stationEncodee) :\n",
    "    # Prend une station encodée et renvoie la liste de ses files décodées\n",
    "    \n",
    "    if type(stationEncodee) == list :\n",
    "        stationEncodee = np.array(stationEncodee)\n",
    "    \n",
    "    station = []\n",
    "    \n",
    "    for indexFile in range(stationEncodee.shape[0]) :\n",
    "        fileEncodee = stationEncodee[indexFile, :]\n",
    "        station.append(decode(fileEncodee).tolist())\n",
    "        \n",
    "    return padStation(station)"
   ]
  },
  {
   "cell_type": "code",
   "execution_count": 91,
   "id": "f533aed4-d5dd-4269-86be-0293c8a3dee3",
   "metadata": {},
   "outputs": [
    {
     "data": {
      "text/plain": [
       "array([[ 5,  5,  3,  2,  2,  1,  0],\n",
       "       [ 3,  3, -1, -1, -1, -1, -1]])"
      ]
     },
     "execution_count": 91,
     "metadata": {},
     "output_type": "execute_result"
    }
   ],
   "source": [
    "decodeStation(stationEncodee)"
   ]
  },
  {
   "cell_type": "markdown",
   "id": "9f2f408d-b686-459b-ae3a-882cc0a43fbd",
   "metadata": {},
   "source": [
    "## Charge des tenders"
   ]
  },
  {
   "cell_type": "markdown",
   "id": "e32eb23e-7cba-45e2-af22-bb31d3dac2de",
   "metadata": {},
   "source": [
    "Une même fonction permet de réaliser la charge des stations et des files. Il faut néanmoins différencier le cas encodé et décodé."
   ]
  },
  {
   "cell_type": "code",
   "execution_count": 123,
   "id": "ae328298-882f-4977-a8a3-ef232ee8c59f",
   "metadata": {},
   "outputs": [],
   "source": [
    "def charge(station, d) :\n",
    "    # Prend une station (décodée) et la renvoie après que chaque tender ait été chargé de 1\n",
    "    \n",
    "    if type(station) == list :\n",
    "        station = padStation(station)\n",
    "        \n",
    "    station += ~np.isin(station, [-1, d])    \n",
    "    \n",
    "    return station"
   ]
  },
  {
   "cell_type": "code",
   "execution_count": 126,
   "id": "31ca9f3e-aff9-4028-8056-e214469a4a19",
   "metadata": {},
   "outputs": [
    {
     "data": {
      "text/plain": [
       "[[5, 5, 3, 2, 2, 1, 0], [3, 3, -1, -1, -1, -1, -1]]"
      ]
     },
     "execution_count": 126,
     "metadata": {},
     "output_type": "execute_result"
    }
   ],
   "source": [
    "station"
   ]
  },
  {
   "cell_type": "code",
   "execution_count": 125,
   "id": "ce29e0b8-82de-432c-86e5-0f6976f0ab96",
   "metadata": {},
   "outputs": [
    {
     "data": {
      "text/plain": [
       "array([[ 5,  5,  4,  3,  3,  2,  1],\n",
       "       [ 4,  4, -1, -1, -1, -1, -1]])"
      ]
     },
     "execution_count": 125,
     "metadata": {},
     "output_type": "execute_result"
    }
   ],
   "source": [
    "charge(station, 5)"
   ]
  },
  {
   "cell_type": "code",
   "execution_count": 133,
   "id": "2982afb3-eda7-48af-8bb2-43586082322a",
   "metadata": {},
   "outputs": [],
   "source": [
    "def chargeEncodee(station) :\n",
    "    # Prend une station (encodée) et la renvoie après que chaque tender ait été chargé de 1\n",
    "    \n",
    "    station = padStation(station)    \n",
    "    chargedStation = np.zeros(station.shape)\n",
    "    \n",
    "    for indexFile in range(station.shape[0]) :\n",
    "        chargedStation[indexFile, 0] = station[indexFile, 0]\n",
    "        chargedStation[indexFile, :-1] += station[indexFile, 1:]\n",
    "    \n",
    "    return chargedStation"
   ]
  },
  {
   "cell_type": "code",
   "execution_count": 136,
   "id": "90326d99-a1e2-4429-8d31-3b473cd28bb6",
   "metadata": {},
   "outputs": [
    {
     "data": {
      "text/plain": [
       "array([[0, 2, 0, 1, 2, 1, 1],\n",
       "       [0, 0, 0, 2, 0, 0, 0]])"
      ]
     },
     "execution_count": 136,
     "metadata": {},
     "output_type": "execute_result"
    }
   ],
   "source": [
    "stationEncodee"
   ]
  },
  {
   "cell_type": "code",
   "execution_count": 137,
   "id": "7c9159dd-ac53-4944-9490-deebcf0d70c3",
   "metadata": {},
   "outputs": [
    {
     "data": {
      "text/plain": [
       "array([[2., 0., 1., 2., 1., 1., 0.],\n",
       "       [0., 0., 2., 0., 0., 0., 0.]])"
      ]
     },
     "execution_count": 137,
     "metadata": {},
     "output_type": "execute_result"
    }
   ],
   "source": [
    "chargeEncodee(stationEncodee)"
   ]
  },
  {
   "cell_type": "code",
   "execution_count": 138,
   "id": "85709949-5901-4886-9c49-7228b75b13bf",
   "metadata": {},
   "outputs": [
    {
     "data": {
      "text/plain": [
       "array([[3., 2., 1., 1., 0., 0., 0.],\n",
       "       [2., 0., 0., 0., 0., 0., 0.]])"
      ]
     },
     "execution_count": 138,
     "metadata": {},
     "output_type": "execute_result"
    }
   ],
   "source": [
    "chargeEncodee(chargeEncodee(chargeEncodee(stationEncodee)))"
   ]
  },
  {
   "cell_type": "markdown",
   "id": "2f084e1e-3ed2-4e8f-b979-e9559080b4e8",
   "metadata": {},
   "source": [
    "## Réduction du nombre de configurations pour les stations"
   ]
  },
  {
   "cell_type": "markdown",
   "id": "0051147e-793a-483b-82d2-cc1641dfbf48",
   "metadata": {},
   "source": [
    "Les états de notre chaîne de Markov sont les configurations de la station. D'un point de vue de la satisfaction de la demande, cependant"
   ]
  }
 ],
 "metadata": {
  "kernelspec": {
   "display_name": "Python 3 (ipykernel)",
   "language": "python",
   "name": "python3"
  },
  "language_info": {
   "codemirror_mode": {
    "name": "ipython",
    "version": 3
   },
   "file_extension": ".py",
   "mimetype": "text/x-python",
   "name": "python",
   "nbconvert_exporter": "python",
   "pygments_lexer": "ipython3",
   "version": "3.10.4"
  }
 },
 "nbformat": 4,
 "nbformat_minor": 5
}
