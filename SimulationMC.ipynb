{
 "cells": [
  {
   "cell_type": "markdown",
   "id": "e70e0fd3-9355-403e-b82c-166a46350123",
   "metadata": {},
   "source": [
    "# EP Tender : simulation par chaînes de Markov"
   ]
  },
  {
   "cell_type": "markdown",
   "id": "c4c679df-9f5c-4814-8355-f9ffc84e9ac3",
   "metadata": {
    "tags": []
   },
   "source": [
    "## Importation des modules"
   ]
  },
  {
   "cell_type": "code",
   "execution_count": 1,
   "id": "d5b84098-d0f4-4e72-8a55-cb4848ec5765",
   "metadata": {},
   "outputs": [],
   "source": [
    "import numpy as np\n",
    "import matplotlib.pyplot as plt"
   ]
  },
  {
   "cell_type": "markdown",
   "id": "9becf9dc-5167-40c7-9b49-7d1cf1efd7ce",
   "metadata": {},
   "source": [
    "On importe aussi les fonctions définies dans le fichier Specifications_Modele"
   ]
  },
  {
   "cell_type": "code",
   "execution_count": 3,
   "id": "5eda3316-05fb-4dd3-b309-c0bc28413e52",
   "metadata": {},
   "outputs": [],
   "source": [
    "# !pip install ipynb\n",
    "from ipynb.fs.full.Specifications_modele import *"
   ]
  },
  {
   "cell_type": "markdown",
   "id": "f40b551e-964f-4c94-9057-b87cd9b432c5",
   "metadata": {},
   "source": [
    "## Graphiques"
   ]
  },
  {
   "cell_type": "markdown",
   "id": "048c557c-f5ba-474c-9881-b5b733e35de6",
   "metadata": {},
   "source": [
    "### Graphiques gloutons"
   ]
  },
  {
   "cell_type": "code",
   "execution_count": 5,
   "id": "8eaca359-fdbf-49ad-b6d2-9ffab9288887",
   "metadata": {
    "tags": []
   },
   "outputs": [
    {
     "name": "stdout",
     "output_type": "stream",
     "text": [
      "7.601282656784576\n"
     ]
    }
   ],
   "source": [
    "nTenders = 20\n",
    "nFiles = 3\n",
    "nCharge = 2\n",
    "listeEtat = listAllStations(nTenders, nFiles, nCharge)\n",
    "ajout = rangementGloutonSimplifie\n",
    "retrait = lambda x : donGloutonSimplifie(x, nCharge)\n",
    "charge = lambda x : chargeSimplifie(x, nCharge)\n",
    "theta = 5/6\n",
    "\n",
    "M = createTransitionMatrix(listeEtat, ajout, retrait, charge, theta)\n",
    "\n",
    "etatDepart = [[(nTenders // (nFiles - 1)) + 1, nCharge]] * (nTenders % (nFiles - 1))\n",
    "etatDepart += [[(nTenders // (nFiles - 1)), nCharge]] * (nFiles - 1 - (nTenders % (nFiles - 1)))\n",
    "etatDepart += [[0, 0]]\n",
    "etatDepart = np.array(etatDepart)\n",
    "\n",
    "etatArrivee = False\n",
    "\n",
    "i = 0\n",
    "j = 0\n",
    "\n",
    "while not np.array(listeEtat[i] == etatDepart).all() :\n",
    "    i += 1\n",
    "\n",
    "while not np.array(listeEtat[j] == etatArrivee).all() :\n",
    "    j += 1\n",
    "\n",
    "v, _ = expectedHittingTime(M, i, j)\n",
    "\n",
    "print(v)"
   ]
  },
  {
   "cell_type": "code",
   "execution_count": null,
   "id": "62cb775f-d9b7-4402-bf34-a23329a4d737",
   "metadata": {},
   "outputs": [],
   "source": [
    "thetaArray, expectedHittingTimes = plotExpectedHittingTime(nTenders, nFiles, nCharge, rangementGloutonSimplifie, donGloutonSimplifie, chargeSimplifie, res = 0.01, etatDepart = etatDepart)"
   ]
  },
  {
   "cell_type": "code",
   "execution_count": null,
   "id": "27b204de-a28c-4458-aef8-1b014fab2994",
   "metadata": {
    "tags": []
   },
   "outputs": [],
   "source": [
    "fig = plt.figure()\n",
    "ax = fig.add_axes(rect = [0.05, 0.05, 0.95, 0.95])\n",
    "\n",
    "ax.plot(thetaArray, expectedHittingTimes, color = blue)\n",
    "ax.set_ylim([0, 50])"
   ]
  },
  {
   "cell_type": "code",
   "execution_count": null,
   "id": "67522338-5d6e-47df-b8ca-0a965ee4d0f6",
   "metadata": {
    "tags": []
   },
   "outputs": [],
   "source": [
    "fig = plt.figure()\n",
    "ax = fig.add_axes(rect = [0.05, 0.05, 0.95, 0.95])\n",
    "Y = []\n",
    "\n",
    "for nFile in [2, 3, 4] :\n",
    "    thetaArray, expectedHittingTimes = plotExpectedHittingTime(6, nFile, 2, rangementGloutonSimplifie, donGloutonSimplifie, chargeSimplifie, res = 0.1)\n",
    "    Y.append(expectedHittingTimes)\n",
    "    print(nFile)\n",
    "    \n",
    "ax.plot(thetaArray, np.array(Y).transpose())\n",
    "ax.set_ylim([0, 50])\n",
    "ax.legend(['2 files', '3 files', '4 files'])\n",
    "ax.set_title('6 tenders, 2 niveaux de charge')\n",
    "plt.show()"
   ]
  },
  {
   "cell_type": "markdown",
   "id": "e02069e7-44e9-4475-9b92-90e6c9f8af18",
   "metadata": {},
   "source": [
    "### Graphiques pour indice linéaire"
   ]
  },
  {
   "cell_type": "code",
   "execution_count": null,
   "id": "d29b9a8f-aec9-4c9e-8050-51fbc34dc27d",
   "metadata": {
    "tags": []
   },
   "outputs": [],
   "source": [
    "nTenders = 20\n",
    "nFiles = 3\n",
    "nCharge = 2\n",
    "listeEtat = listAllStations(nTenders, nFiles, d)\n",
    "retrait = lambda x : donGloutonSimplifie(x, d)\n",
    "charge = lambda x : chargeSimplifie(x, d)\n",
    "theta = 5/6\n",
    "\n",
    "lbdArray = np.arange(1, 10 + 0.25, 0.25)\n",
    "tabTErr = []\n",
    "\n",
    "for lbd in lbdArray :\n",
    "    indice = lambda x : indiceLineaire(x, lbd)\n",
    "    ajout = lambda x : rangementIndiceSimplifie(x, indice)\n",
    "    M = createTransitionMatrix(listeEtat, ajout, retrait, charge, theta)\n",
    "    \n",
    "    etatDepart = [[(nTenders // (nFiles - 1)) + 1, nCharge]] * (nTenders % (nFiles - 1))\n",
    "    etatDepart += [[(nTenders // (nFiles - 1)), nCharge]] * (nFiles - 1 - (nTenders % (nFiles - 1)))\n",
    "    etatDepart += [[0, 0]]\n",
    "    etatDepart = np.array(etatDepart)\n",
    "    \n",
    "    etatArrivee = False\n",
    "    \n",
    "    i = 0\n",
    "    j = 0\n",
    "\n",
    "    while not np.array(listeEtat[i] == etatDepart).all() :\n",
    "        i += 1\n",
    "\n",
    "    while not np.array(listeEtat[j] == etatArrivee).all() :\n",
    "        j += 1\n",
    "    \n",
    "    tabTErr.append(expectedHittingTime(M, i, j)[0])\n",
    "\n",
    "print(tabTErr)"
   ]
  },
  {
   "cell_type": "code",
   "execution_count": null,
   "id": "f5207960-4e41-4173-aaa1-303efbdc12ef",
   "metadata": {
    "tags": []
   },
   "outputs": [],
   "source": [
    "Y = [5.47791836505727,\n",
    " 6.030111546934522,\n",
    " 6.355876349465076,\n",
    " 6.742220604119133,\n",
    " 6.961440015488954,\n",
    " 7.251570899599649,\n",
    " 7.371388850799515,\n",
    " 7.541218390033908,\n",
    " 7.576264818604656,\n",
    " 7.656724262102546,\n",
    " 7.663366109338309,\n",
    " 7.690640704517898,\n",
    " 7.693288240814784,\n",
    " 7.6814874478769415,\n",
    " 7.6821618376615515,\n",
    " 7.668450304043451,\n",
    " 7.668450304043451,\n",
    " 7.647648488095228,\n",
    " 7.647648488095228]\n",
    "\n",
    "X = [ 1. ,  1.5,  2. ,  2.5,  3. ,  3.5,  4. ,  4.5,  5. ,  5.5,  6. ,\n",
    "        6.5,  7. ,  7.5,  8. ,  8.5,  9. ,  9.5, 10.]\n",
    "\n",
    "savedCSV = []\n",
    "for i in range(len(X)) :\n",
    "    savedCSV += [[X[i], Y[i]]]\n",
    "    \n",
    "np.savetxt('indiceLin.csv',\n",
    "            savedCSV,\n",
    "            delimiter = ',',\n",
    "            fmt = ['%f', '%f'],\n",
    "            header = 'Lambda,TErr')"
   ]
  },
  {
   "cell_type": "code",
   "execution_count": null,
   "id": "b4b7e7f2-384a-42c4-9388-45827c482a21",
   "metadata": {
    "tags": []
   },
   "outputs": [],
   "source": [
    "lbdArray[::2]"
   ]
  },
  {
   "cell_type": "code",
   "execution_count": null,
   "id": "d7188796-b6a3-4fbe-849b-0d3d5f44faf7",
   "metadata": {
    "tags": []
   },
   "outputs": [],
   "source": [
    "tabTErr[::2]"
   ]
  },
  {
   "cell_type": "code",
   "execution_count": null,
   "id": "d4d2ef12-f9dc-4107-bbf9-8d803f529892",
   "metadata": {
    "tags": []
   },
   "outputs": [],
   "source": [
    "fig = plt.figure()\n",
    "ax = fig.add_axes(rect = [0.1, 0.1, 0.9, 0.9])\n",
    "\n",
    "ax.plot(lbdArray[::2], tabTErr[::2])\n",
    "\n",
    "ax.set_ylabel(\"Temps moyen jusqu'à l'arrivée du premier client qu'on\\nne peut pas immédiatement servir (en heures)\")\n",
    "ax.set_xlabel(\"Valeur du paramètre $\\lambda$\")\n",
    "ax.set_xlim([0, 10])\n",
    "ax.set_ylim([6, 8])\n",
    "ax.set_yticks(np.arange(6, 8.5, 0.5))\n",
    "\n",
    "ax.axhline(v, color = 'black', linestyle = 'dashed', linewidth = 1)\n",
    "ax.text(s = \"Valeur pour l'algorithme glouton :\\n\" + str(round(v,1)) + ' heures', x = 0.2, y = v - 0.15)\n",
    "\n",
    "ax.axhline(tabTErr[-13], color = 'red', linestyle = 'dashed', linewidth = 1, xmax = lbdArray[-13] / 10)\n",
    "ax.text(s = \"Valeur à l'optimum :\\n\" + str(round(tabTErr[-13],1)) + ' heures', color = 'red', x = 0.2, y = tabTErr[-13] + 0.05)\n",
    "\n",
    "ax.axvline(lbdArray[-13], color = 'red', linestyle = 'dashed', linewidth = 1, ymax = (tabTErr[-13] - 6) / 2)\n",
    "ax.text(s = \"$\\lambda$ optimal : \" + str(round(lbdArray[-13],1)), color = 'red', x = lbdArray[-13] + 0.2, y = 6.2)\n",
    "\n",
    "fig.show()"
   ]
  },
  {
   "cell_type": "markdown",
   "id": "8dfd0998-6af4-4cce-84c3-3680634bc209",
   "metadata": {},
   "source": [
    "### Graphiques pour indice logarithmique"
   ]
  },
  {
   "cell_type": "code",
   "execution_count": null,
   "id": "b2b81059-d2cb-48d1-83e0-c4222d2cfe4a",
   "metadata": {
    "tags": []
   },
   "outputs": [],
   "source": [
    "tabTErr"
   ]
  },
  {
   "cell_type": "code",
   "execution_count": null,
   "id": "02552e85-5702-4012-9148-ab5d4ef3c028",
   "metadata": {
    "tags": []
   },
   "outputs": [],
   "source": [
    "indice = lambda x : indiceLogarithmique(x, 1)\n",
    "ajout = lambda x : rangementIndiceSimplifie(x, indice)\n",
    "M = createTransitionMatrix(listeEtat, ajout, retrait, charge, theta)\n",
    "\n",
    "etatDepart = [[(nTenders // (nFiles - 1)) + 1, nCharge]] * (nTenders % (nFiles - 1))\n",
    "etatDepart += [[(nTenders // (nFiles - 1)), nCharge]] * (nFiles - 1 - (nTenders % (nFiles - 1)))\n",
    "etatDepart += [[0, 0]]\n",
    "etatDepart = np.array(etatDepart)\n",
    "\n",
    "etatArrivee = False\n",
    "\n",
    "i = 0\n",
    "j = 0\n",
    "\n",
    "while not np.array(listeEtat[i] == etatDepart).all() :\n",
    "    i += 1\n",
    "\n",
    "while not np.array(listeEtat[j] == etatArrivee).all() :\n",
    "    j += 1\n",
    "\n",
    "print(expectedHittingTime(M, i, j)[0])"
   ]
  },
  {
   "cell_type": "code",
   "execution_count": null,
   "id": "52855019-c098-431d-963f-4c57ca61e8a2",
   "metadata": {
    "tags": []
   },
   "outputs": [],
   "source": [
    "nTenders = 20\n",
    "nFiles = 3\n",
    "nCharge = 2\n",
    "listeEtat = listAllStations(nTenders, nFiles, d)\n",
    "retrait = lambda x : donGloutonSimplifie(x, d)\n",
    "charge = lambda x : chargeSimplifie(x, d)\n",
    "theta = 5/6\n",
    "\n",
    "lbdArray = np.arange(1.5, 8.5, 0.5)\n",
    "tabTErr = []\n",
    "\n",
    "for lbd in lbdArray :\n",
    "    indice = lambda x : indiceLogarithmique(x, lbd)\n",
    "    ajout = lambda x : rangementIndiceSimplifie(x, indice)\n",
    "    M = createTransitionMatrix(listeEtat, ajout, retrait, charge, theta)\n",
    "    \n",
    "    etatDepart = [[(nTenders // (nFiles - 1)) + 1, nCharge]] * (nTenders % (nFiles - 1))\n",
    "    etatDepart += [[(nTenders // (nFiles - 1)), nCharge]] * (nFiles - 1 - (nTenders % (nFiles - 1)))\n",
    "    etatDepart += [[0, 0]]\n",
    "    etatDepart = np.array(etatDepart)\n",
    "    \n",
    "    etatArrivee = False\n",
    "    \n",
    "    i = 0\n",
    "    j = 0\n",
    "\n",
    "    while not np.array(listeEtat[i] == etatDepart).all() :\n",
    "        i += 1\n",
    "\n",
    "    while not np.array(listeEtat[j] == etatArrivee).all() :\n",
    "        j += 1\n",
    "    \n",
    "    tabTErr.append(expectedHittingTime(M, i, j)[0])\n",
    "\n",
    "print(tabTErr)"
   ]
  },
  {
   "cell_type": "code",
   "execution_count": null,
   "id": "da850aa2-8e68-4f2e-a4e5-897173d35c6a",
   "metadata": {
    "tags": []
   },
   "outputs": [],
   "source": [
    "np.savetxt('indiceLog.csv',\n",
    "            [(lbdArray[i], tabTErr[i]) for i in range(len(tabTErr))],\n",
    "            delimiter = ',',\n",
    "            fmt = ['%f', '%f'])"
   ]
  },
  {
   "cell_type": "code",
   "execution_count": null,
   "id": "087ede29-7309-465c-8bce-3b2a4a9468b4",
   "metadata": {
    "tags": []
   },
   "outputs": [],
   "source": [
    "fig = plt.figure()\n",
    "ax = fig.add_axes(rect = [0.1, 0.1, 0.9, 0.9])\n",
    "\n",
    "ax.plot(lbdArray, tabTErr)\n",
    "\n",
    "ax.set_ylabel(\"Temps moyen jusqu'à l'arrivée du premier client qu'on\\nne peut pas immédiatement servir (en heures)\")\n",
    "ax.set_xlabel(\"Valeur du paramètre $\\lambda$\")\n",
    "ax.set_xlim([0, 10])\n",
    "ax.set_ylim([6, 8])\n",
    "ax.set_yticks(np.arange(6, 8.5, 0.5))\n",
    "\n",
    "ax.axhline(v, color = 'black', linestyle = 'dashed', linewidth = 1)\n",
    "ax.text(s = \"Valeur pour l'algorithme glouton :\\n\" + str(round(v,2)) + ' heures', x = 0.2, y = v - 0.15)\n",
    "\n",
    "ax.axhline(tabTErr[-8], color = 'red', linestyle = 'dashed', linewidth = 1, xmax = lbdArray[-8] / 10)\n",
    "ax.text(s = \"Valeur à l'optimum :\\n\" + str(round(tabTErr[-8],2)) + ' heures', color = 'red', x = 0.2, y = tabTErr[-8] + 0.05)\n",
    "\n",
    "ax.axvline(lbdArray[-8], color = 'red', linestyle = 'dashed', linewidth = 1, ymax = (tabTErr[-8] - 6) / 2)\n",
    "ax.text(s = \"$\\lambda$ optimal : \" + str(round(lbdArray[-8],2)), color = 'red', x = lbdArray[-8] + 0.2, y = 6.2)\n",
    "\n",
    "fig.show()"
   ]
  },
  {
   "cell_type": "markdown",
   "id": "267f2ed8-0f90-4fbb-a8e0-6dd1c5ac1a70",
   "metadata": {},
   "source": [
    "### Graphiques pour indice multiplicatif"
   ]
  },
  {
   "cell_type": "code",
   "execution_count": null,
   "id": "a4064671-1133-4271-aa86-ce9a97910a4c",
   "metadata": {
    "tags": []
   },
   "outputs": [],
   "source": [
    "etatDepart = [[(nTenders // (nFiles - 1)) + 1, nCharge]] * (nTenders % (nFiles - 1))\n",
    "etatDepart += [[(nTenders // (nFiles - 1)), nCharge]] * (nFiles - 1 - (nTenders % (nFiles - 1)))\n",
    "etatDepart += [[0, 0]]\n",
    "etatDepart = np.array(etatDepart)\n",
    "\n",
    "etatArrivee = False\n",
    "\n",
    "i = 0\n",
    "j = 0\n",
    "\n",
    "while not np.array(listeEtat[i] == etatDepart).all() :\n",
    "    i += 1\n",
    "\n",
    "while not np.array(listeEtat[j] == etatArrivee).all() :\n",
    "    j += 1"
   ]
  },
  {
   "cell_type": "code",
   "execution_count": null,
   "id": "0f733272-78dd-49b7-9c24-d1b95ea13e5c",
   "metadata": {
    "tags": []
   },
   "outputs": [],
   "source": [
    "nTenders = 20\n",
    "nFiles = 3\n",
    "nCharge = 2\n",
    "listeEtat = listAllStations(nTenders, nFiles, d)\n",
    "retrait = lambda x : donGloutonSimplifie(x, d)\n",
    "charge = lambda x : chargeSimplifie(x, d)\n",
    "theta = 5/6\n",
    "\n",
    "lbdArray = np.arange(0, 3.1, 0.1)\n",
    "tabTErr = []\n",
    "\n",
    "for lbd in lbdArray :\n",
    "    indice = lambda x : indiceMultiplicatif(x, lbd)\n",
    "    ajout = lambda x : rangementIndiceSimplifie(x, indice)\n",
    "    M = createTransitionMatrix(listeEtat, ajout, retrait, charge, theta)\n",
    "\n",
    "    \n",
    "    tabTErr.append(expectedHittingTime(M, i, j)[0])\n",
    "\n",
    "print(tabTErr)"
   ]
  },
  {
   "cell_type": "code",
   "execution_count": null,
   "id": "4235410d-fa70-4025-86b8-6ef2321d4475",
   "metadata": {
    "tags": []
   },
   "outputs": [],
   "source": [
    "np.savetxt('indiceMult.csv',\n",
    "            [(lbdArray[i], tabTErr[i]) for i in range(len(tabTErr))],\n",
    "            delimiter = ',',\n",
    "            fmt = ['%f', '%f'])"
   ]
  },
  {
   "cell_type": "code",
   "execution_count": null,
   "id": "9181aa6d-73c2-43c5-b3e5-df0dc6f5c2c8",
   "metadata": {
    "tags": []
   },
   "outputs": [],
   "source": [
    "fig = plt.figure()\n",
    "ax = fig.add_axes(rect = [0.1, 0.1, 0.9, 0.9])\n",
    "\n",
    "ax.plot(lbdArray, tabTErr)\n",
    "\n",
    "ax.set_ylabel(\"Temps moyen jusqu'à l'arrivée du premier client qu'on\\nne peut pas immédiatement servir (en heures)\")\n",
    "ax.set_xlabel(\"Valeur du paramètre $\\lambda$\")\n",
    "ax.set_xlim([0, 3])\n",
    "ax.set_ylim([6, 8])\n",
    "ax.set_yticks(np.arange(6, 8.5, 0.5))\n",
    "\n",
    "fig.show()"
   ]
  },
  {
   "cell_type": "markdown",
   "id": "ee626b09-6b23-4120-9290-ba9f17461ee7",
   "metadata": {},
   "source": [
    "### Graphiques pour indice multiplicatif ajusté"
   ]
  },
  {
   "cell_type": "code",
   "execution_count": null,
   "id": "7f1b604c-602d-440f-a701-6a91d267abde",
   "metadata": {
    "tags": []
   },
   "outputs": [],
   "source": [
    "nTenders = 20\n",
    "nFiles = 3\n",
    "nCharge = 2\n",
    "listeEtat = listAllStations(nTenders, nFiles, d)\n",
    "retrait = lambda x : donGloutonSimplifie(x, d)\n",
    "charge = lambda x : chargeSimplifie(x, d)\n",
    "theta = 5/6\n",
    "\n",
    "lbdArray = np.arange(0, 2.1, 0.2)\n",
    "tabTErr = []\n",
    "\n",
    "for lbd in lbdArray :\n",
    "    indice = lambda x : indiceMultiplicatifCorr(x, lbd, d)\n",
    "    ajout = lambda x : rangementIndiceSimplifie(x, indice)\n",
    "    M = createTransitionMatrix(listeEtat, ajout, retrait, charge, theta)\n",
    "    \n",
    "    etatDepart = [[(nTenders // (nFiles - 1)) + 1, nCharge]] * (nTenders % (nFiles - 1))\n",
    "    etatDepart += [[(nTenders // (nFiles - 1)), nCharge]] * (nFiles - 1 - (nTenders % (nFiles - 1)))\n",
    "    etatDepart += [[0, 0]]\n",
    "    etatDepart = np.array(etatDepart)\n",
    "    \n",
    "    etatArrivee = False\n",
    "    \n",
    "    i = 0\n",
    "    j = 0\n",
    "\n",
    "    while not np.array(listeEtat[i] == etatDepart).all() :\n",
    "        i += 1\n",
    "\n",
    "    while not np.array(listeEtat[j] == etatArrivee).all() :\n",
    "        j += 1\n",
    "    \n",
    "    tabTErr.append(expectedHittingTime(M, i, j)[0])\n",
    "\n",
    "print(tabTErr)"
   ]
  },
  {
   "cell_type": "code",
   "execution_count": null,
   "id": "51433ef4-5eff-4161-9d38-78df6058db00",
   "metadata": {
    "tags": []
   },
   "outputs": [],
   "source": [
    "np.savetxt('indiceMultCorr.csv',\n",
    "            [(lbdArray[i], tabTErr[i]) for i in range(len(tabTErr))],\n",
    "            delimiter = ',',\n",
    "            fmt = ['%f', '%f'])"
   ]
  },
  {
   "cell_type": "code",
   "execution_count": null,
   "id": "007bdcf5-1c22-4590-b5d2-383f87830751",
   "metadata": {
    "tags": []
   },
   "outputs": [],
   "source": [
    "fig = plt.figure()\n",
    "ax = fig.add_axes(rect = [0.1, 0.1, 0.9, 0.9])\n",
    "\n",
    "ax.plot(lbdArray[::1], tabTErr[::1])\n",
    "\n",
    "ax.set_ylabel(\"Temps moyen jusqu'à l'arrivée du premier client qu'on\\nne peut pas immédiatement servir (en heures)\")\n",
    "ax.set_xlabel(\"Valeur du paramètre $\\lambda$\")\n",
    "ax.set_xlim([0, 2])\n",
    "ax.set_ylim([6, 8])\n",
    "ax.set_yticks(np.arange(6, 8.5, 0.5))\n",
    "\n",
    "fig.show()"
   ]
  },
  {
   "cell_type": "markdown",
   "id": "e60f054b-4a1a-42e4-9c83-2e734865dc0c",
   "metadata": {},
   "source": [
    "### Graphiques pour indice puissance-logarithme"
   ]
  },
  {
   "cell_type": "code",
   "execution_count": null,
   "id": "36d2d4c7-b09e-4aae-a3b1-dc44a1c84cbe",
   "metadata": {
    "tags": []
   },
   "outputs": [],
   "source": [
    "nTenders = 20\n",
    "nFiles = 3\n",
    "nCharge = 2\n",
    "listeEtat = listAllStations(nTenders, nFiles, d)\n",
    "retrait = lambda x : donGloutonSimplifie(x, d)\n",
    "charge = lambda x : chargeSimplifie(x, d)\n",
    "theta = 5/6\n",
    "\n",
    "etatDepart = [[(nTenders // (nFiles - 1)) + 1, nCharge]] * (nTenders % (nFiles - 1))\n",
    "etatDepart += [[(nTenders // (nFiles - 1)), nCharge]] * (nFiles - 1 - (nTenders % (nFiles - 1)))\n",
    "etatDepart += [[0, 0]]\n",
    "etatDepart = np.array(etatDepart)\n",
    "\n",
    "etatArrivee = False\n",
    "\n",
    "i = 0\n",
    "j = 0\n",
    "\n",
    "while not np.array(listeEtat[i] == etatDepart).all() :\n",
    "    i += 1\n",
    "\n",
    "while not np.array(listeEtat[j] == etatArrivee).all() :\n",
    "    j += 1"
   ]
  },
  {
   "cell_type": "code",
   "execution_count": null,
   "id": "083c4180-f26a-4d59-bac9-b4c0829b1183",
   "metadata": {
    "tags": []
   },
   "outputs": [],
   "source": [
    "# On fractionne le calcul en deux et on change lambda à la main (valeurs : 0.2, 1/3, 0.5, 1, 2, 3)\n",
    "# pour diviser le calcul en plusieurs calculs plus courts\n",
    "\n",
    "lbd = 1/5\n",
    "\n",
    "tempTab = []\n",
    "muArray = np.arange(0, 1, 0.1).tolist()\n",
    "\n",
    "for mu in muArray :\n",
    "    indice = lambda x : indicePuisLog(x, lbd, mu)\n",
    "    ajout = lambda x : rangementIndiceSimplifie(x, indice)\n",
    "    M = createTransitionMatrix(listeEtat, ajout, retrait, charge, theta)\n",
    "\n",
    "    tempTab.append(expectedHittingTime(M, i, j)[0])\n",
    "\n",
    "tabTErr.append(tempTab)"
   ]
  },
  {
   "cell_type": "code",
   "execution_count": null,
   "id": "dd8828d7-ca70-4278-9319-94871be04638",
   "metadata": {
    "tags": []
   },
   "outputs": [],
   "source": [
    "lbd = 1/5\n",
    "\n",
    "tempTab = []\n",
    "muArray = np.arange(1, 11, 1).tolist()\n",
    "\n",
    "for mu in muArray :\n",
    "    indice = lambda x : indicePuisLog(x, lbd, mu)\n",
    "    ajout = lambda x : rangementIndiceSimplifie(x, indice)\n",
    "    M = createTransitionMatrix(listeEtat, ajout, retrait, charge, theta)\n",
    "\n",
    "    tempTab.append(expectedHittingTime(M, i, j)[0])\n",
    "\n",
    "tabTErr[-1] = tabTErr[-1] + tempTab"
   ]
  },
  {
   "cell_type": "code",
   "execution_count": null,
   "id": "35deaf37-1e08-457e-abb4-edd315fe125f",
   "metadata": {
    "tags": []
   },
   "outputs": [],
   "source": [
    "fig = plt.figure()\n",
    "ax = fig.add_axes(rect = [0.1, 0.1, 0.9, 0.9])\n",
    "\n",
    "ax.plot(np.arange(0, 1, 0.1).tolist() + np.arange(1, 11, 1).tolist(), np.array(tabTErr).transpose())\n",
    "\n",
    "fig.show()"
   ]
  },
  {
   "cell_type": "code",
   "execution_count": null,
   "id": "142490b2-d448-4af7-86ae-2a4fad6cce83",
   "metadata": {
    "tags": []
   },
   "outputs": [],
   "source": [
    "muArray = np.arange(0, 1, 0.1).tolist() + np.arange(1, 11, 1).tolist()\n",
    "\n",
    "np.savetxt('indicePuisLog.csv',\n",
    "            [tuple([muArray[i]]) +tuple(np.array(tabTErr).transpose()[i]) for i in range(len(muArray))],\n",
    "            delimiter = ',',\n",
    "            fmt = ['%f'] * (len(tabTErr) + 1))"
   ]
  },
  {
   "cell_type": "markdown",
   "id": "3fd71089-310d-402f-8156-91051755e043",
   "metadata": {},
   "source": [
    "### Graphiques pour indice puissance-log inversés"
   ]
  },
  {
   "cell_type": "code",
   "execution_count": null,
   "id": "5856159e-723c-41fb-aa82-b9f2a0a11581",
   "metadata": {
    "tags": []
   },
   "outputs": [],
   "source": [
    "nTenders = 20\n",
    "nFiles = 3\n",
    "nCharge = 2\n",
    "listeEtat = listAllStations(nTenders, nFiles, d)\n",
    "retrait = lambda x : donGloutonSimplifie(x, d)\n",
    "charge = lambda x : chargeSimplifie(x, d)\n",
    "theta = 5/6\n",
    "\n",
    "etatDepart = [[(nTenders // (nFiles - 1)) + 1, nCharge]] * (nTenders % (nFiles - 1))\n",
    "etatDepart += [[(nTenders // (nFiles - 1)), nCharge]] * (nFiles - 1 - (nTenders % (nFiles - 1)))\n",
    "etatDepart += [[0, 0]]\n",
    "etatDepart = np.array(etatDepart)\n",
    "\n",
    "etatArrivee = False\n",
    "\n",
    "i = 0\n",
    "j = 0\n",
    "\n",
    "while not np.array(listeEtat[i] == etatDepart).all() :\n",
    "    i += 1\n",
    "\n",
    "while not np.array(listeEtat[j] == etatArrivee).all() :\n",
    "    j += 1\n",
    "    \n",
    "tabTErr = []"
   ]
  },
  {
   "cell_type": "code",
   "execution_count": null,
   "id": "b452950a-43d4-4f4b-ace7-c5a20cb808d4",
   "metadata": {
    "tags": []
   },
   "outputs": [],
   "source": [
    "# On fractionne le calcul en deux et on change lambda à la main (valeurs : 0.2, 1/3, 0.5, 1, 2, 3)\n",
    "# pour diviser le calcul en plusieurs calculs plus courts\n",
    "\n",
    "lbd = 3\n",
    "\n",
    "tempTab = []\n",
    "muArray = np.arange(0, 1, 0.1).tolist()\n",
    "\n",
    "for mu in muArray :\n",
    "    indice = lambda x : indicePuisLogCorr(x, lbd, mu, d)\n",
    "    ajout = lambda x : rangementIndiceSimplifie(x, indice)\n",
    "    M = createTransitionMatrix(listeEtat, ajout, retrait, charge, theta)\n",
    "\n",
    "    tempTab.append(expectedHittingTime(M, i, j)[0])\n",
    "\n",
    "tabTErr.append(tempTab)"
   ]
  },
  {
   "cell_type": "code",
   "execution_count": null,
   "id": "0834aa8a-30a7-4c63-a207-23e1d61633a4",
   "metadata": {
    "tags": []
   },
   "outputs": [],
   "source": [
    "lbd = 3\n",
    "\n",
    "tempTab = []\n",
    "muArray = np.arange(1, 11, 1).tolist()\n",
    "\n",
    "for mu in muArray :\n",
    "    indice = lambda x : indicePuisLogCorr(x, lbd, mu, d)\n",
    "    ajout = lambda x : rangementIndiceSimplifie(x, indice)\n",
    "    M = createTransitionMatrix(listeEtat, ajout, retrait, charge, theta)\n",
    "\n",
    "    tempTab.append(expectedHittingTime(M, i, j)[0])\n",
    "\n",
    "tabTErr[-1] = tabTErr[-1] + tempTab"
   ]
  },
  {
   "cell_type": "code",
   "execution_count": null,
   "id": "0e052bed-423e-4d1e-8631-3fa36e9fae2a",
   "metadata": {
    "tags": []
   },
   "outputs": [],
   "source": [
    "fig = plt.figure()\n",
    "ax = fig.add_axes(rect = [0.1, 0.1, 0.9, 0.9])\n",
    "\n",
    "ax.plot(np.arange(0, 1, 0.1).tolist() + np.arange(1, 11, 1).tolist(), np.array(tabTErr).transpose())\n",
    "\n",
    "fig.show()"
   ]
  },
  {
   "cell_type": "code",
   "execution_count": null,
   "id": "fdc91372-383c-4e64-9179-2a082657ae94",
   "metadata": {
    "tags": []
   },
   "outputs": [],
   "source": [
    "muArray = np.arange(0, 1, 0.1).tolist() + np.arange(1, 11, 1).tolist()\n",
    "\n",
    "np.savetxt('indicePuisLogInv.csv',\n",
    "            [tuple([muArray[i]]) +tuple(np.array(tabTErr).transpose()[i]) for i in range(len(muArray))],\n",
    "            delimiter = ',',\n",
    "            fmt = ['%f'] * (len(tabTErr) + 1))"
   ]
  },
  {
   "cell_type": "markdown",
   "id": "359dde5a-688a-4230-846d-f810b33fc091",
   "metadata": {},
   "source": [
    "### Indices puissance"
   ]
  },
  {
   "cell_type": "code",
   "execution_count": null,
   "id": "429b25e0-9a85-4be5-a0c2-69d88f9cf64c",
   "metadata": {
    "tags": []
   },
   "outputs": [],
   "source": [
    "nTenders = 20\n",
    "nFiles = 3\n",
    "nCharge = 2\n",
    "listeEtat = listAllStations(nTenders, nFiles, d)\n",
    "retrait = lambda x : donGloutonSimplifie(x, d)\n",
    "charge = lambda x : chargeSimplifie(x, d)\n",
    "theta = 5/6\n",
    "\n",
    "etatDepart = [[(nTenders // (nFiles - 1)) + 1, nCharge]] * (nTenders % (nFiles - 1))\n",
    "etatDepart += [[(nTenders // (nFiles - 1)), nCharge]] * (nFiles - 1 - (nTenders % (nFiles - 1)))\n",
    "etatDepart += [[0, 0]]\n",
    "etatDepart = np.array(etatDepart)\n",
    "\n",
    "etatArrivee = False\n",
    "\n",
    "i = 0\n",
    "j = 0\n",
    "\n",
    "while not np.array(listeEtat[i] == etatDepart).all() :\n",
    "    i += 1\n",
    "\n",
    "while not np.array(listeEtat[j] == etatArrivee).all() :\n",
    "    j += 1\n",
    "    \n",
    "tabTErr = []"
   ]
  },
  {
   "cell_type": "code",
   "execution_count": null,
   "id": "71a0a8ff-7b97-4aff-aa08-4708e555bfca",
   "metadata": {
    "tags": []
   },
   "outputs": [],
   "source": [
    "# On fractionne le calcul en deux et on change lambda à la main (valeurs : 0.2, 1/3, 0.5, 1, 2, 3)\n",
    "# pour diviser le calcul en plusieurs calculs plus courts\n",
    "\n",
    "lbd = 3\n",
    "\n",
    "tempTab = []\n",
    "muArray = np.arange(0, 1, 0.1).tolist()\n",
    "\n",
    "for mu in muArray :\n",
    "    indice = lambda x : indicePuis(x, lbd, mu)\n",
    "    ajout = lambda x : rangementIndiceSimplifie(x, indice)\n",
    "    M = createTransitionMatrix(listeEtat, ajout, retrait, charge, theta)\n",
    "\n",
    "    tempTab.append(expectedHittingTime(M, i, j)[0])\n",
    "\n",
    "tabTErr.append(tempTab)"
   ]
  },
  {
   "cell_type": "code",
   "execution_count": null,
   "id": "89d3095c-cfa8-448d-823b-9b271c552c8f",
   "metadata": {
    "tags": []
   },
   "outputs": [],
   "source": [
    "lbd = 3\n",
    "\n",
    "tempTab = []\n",
    "muArray = np.arange(1, 11, 1).tolist()\n",
    "\n",
    "for mu in muArray :\n",
    "    indice = lambda x : indicePuis(x, lbd, mu)\n",
    "    ajout = lambda x : rangementIndiceSimplifie(x, indice)\n",
    "    M = createTransitionMatrix(listeEtat, ajout, retrait, charge, theta)\n",
    "\n",
    "    tempTab.append(expectedHittingTime(M, i, j)[0])\n",
    "\n",
    "tabTErr[-1] = tabTErr[-1] + tempTab"
   ]
  },
  {
   "cell_type": "code",
   "execution_count": null,
   "id": "2443ac1f-510e-4b8b-bbd4-2d72a1b2be65",
   "metadata": {
    "tags": []
   },
   "outputs": [],
   "source": [
    "fig = plt.figure()\n",
    "ax = fig.add_axes(rect = [0.1, 0.1, 0.9, 0.9])\n",
    "\n",
    "ax.plot(np.arange(0, 1, 0.1).tolist() + np.arange(1, 11, 1).tolist(), np.array(tabTErr).transpose())\n",
    "\n",
    "ax.set_xlim([0, 1])\n",
    "\n",
    "fig.show()"
   ]
  },
  {
   "cell_type": "code",
   "execution_count": null,
   "id": "33cae91d-d2f4-4e08-897c-55d7d70db817",
   "metadata": {
    "tags": []
   },
   "outputs": [],
   "source": [
    "muArray = np.arange(0, 1, 0.1).tolist() + np.arange(1, 11, 1).tolist()\n",
    "\n",
    "np.savetxt('indicePuis.csv',\n",
    "            [tuple([muArray[i]]) +tuple(np.array(tabTErr).transpose()[i]) for i in range(len(muArray))],\n",
    "            delimiter = ',',\n",
    "            fmt = ['%f'] * (len(tabTErr) + 1))"
   ]
  },
  {
   "cell_type": "markdown",
   "id": "bb15ab34-a96a-4929-8499-414e91c97b77",
   "metadata": {},
   "source": [
    "### Indices puissance inversés"
   ]
  },
  {
   "cell_type": "code",
   "execution_count": null,
   "id": "94cba7a3-21ae-4e83-8093-7072ff02721c",
   "metadata": {
    "tags": []
   },
   "outputs": [],
   "source": [
    "nTenders = 20\n",
    "nFiles = 3\n",
    "nCharge = 2\n",
    "listeEtat = listAllStations(nTenders, nFiles, d)\n",
    "retrait = lambda x : donGloutonSimplifie(x, d)\n",
    "charge = lambda x : chargeSimplifie(x, d)\n",
    "theta = 5/6\n",
    "\n",
    "etatDepart = [[(nTenders // (nFiles - 1)) + 1, nCharge]] * (nTenders % (nFiles - 1))\n",
    "etatDepart += [[(nTenders // (nFiles - 1)), nCharge]] * (nFiles - 1 - (nTenders % (nFiles - 1)))\n",
    "etatDepart += [[0, 0]]\n",
    "etatDepart = np.array(etatDepart)\n",
    "\n",
    "etatArrivee = False\n",
    "\n",
    "i = 0\n",
    "j = 0\n",
    "\n",
    "while not np.array(listeEtat[i] == etatDepart).all() :\n",
    "    i += 1\n",
    "\n",
    "while not np.array(listeEtat[j] == etatArrivee).all() :\n",
    "    j += 1\n",
    "    \n",
    "tabTErr = []"
   ]
  },
  {
   "cell_type": "code",
   "execution_count": null,
   "id": "5bb99e8d-5959-41f4-9d85-082908796217",
   "metadata": {
    "tags": []
   },
   "outputs": [],
   "source": [
    "# On fractionne le calcul en deux et on change lambda à la main (valeurs : 0.2, 1/3, 0.5, 1, 2, 3)\n",
    "# pour diviser le calcul en plusieurs calculs plus courts\n",
    "\n",
    "lbd = 3\n",
    "\n",
    "tempTab = []\n",
    "muArray = np.arange(0, 1, 0.1).tolist()\n",
    "\n",
    "for mu in muArray :\n",
    "    indice = lambda x : indicePuisCorr(x, lbd, mu, d)\n",
    "    ajout = lambda x : rangementIndiceSimplifie(x, indice)\n",
    "    M = createTransitionMatrix(listeEtat, ajout, retrait, charge, theta)\n",
    "\n",
    "    tempTab.append(expectedHittingTime(M, i, j)[0])\n",
    "\n",
    "tabTErr.append(tempTab)"
   ]
  },
  {
   "cell_type": "code",
   "execution_count": null,
   "id": "fe0eeac5-597b-4b88-8374-a0d06f6b202b",
   "metadata": {
    "tags": []
   },
   "outputs": [],
   "source": [
    "lbd = 3\n",
    "\n",
    "tempTab = []\n",
    "muArray = np.arange(1, 11, 1).tolist()\n",
    "\n",
    "for mu in muArray :\n",
    "    indice = lambda x : indicePuisCorr(x, lbd, mu, d)\n",
    "    ajout = lambda x : rangementIndiceSimplifie(x, indice)\n",
    "    M = createTransitionMatrix(listeEtat, ajout, retrait, charge, theta)\n",
    "\n",
    "    tempTab.append(expectedHittingTime(M, i, j)[0])\n",
    "\n",
    "tabTErr[-1] = tabTErr[-1] + tempTab"
   ]
  },
  {
   "cell_type": "code",
   "execution_count": null,
   "id": "a2de9e9e-2b97-48d4-9ce2-b9d4f1e1c9ee",
   "metadata": {
    "tags": []
   },
   "outputs": [],
   "source": [
    "fig = plt.figure()\n",
    "ax = fig.add_axes(rect = [0.1, 0.1, 0.9, 0.9])\n",
    "\n",
    "ax.plot(np.arange(0, 1, 0.1).tolist() + np.arange(1, 11, 1).tolist(), np.array(tabTErr).transpose())\n",
    "\n",
    "ax.set_xlim([0, 1])\n",
    "\n",
    "fig.show()"
   ]
  },
  {
   "cell_type": "code",
   "execution_count": null,
   "id": "a3439d0f-4958-417e-a208-b7188c0943fc",
   "metadata": {
    "tags": []
   },
   "outputs": [],
   "source": [
    "muArray = np.arange(0, 1, 0.1).tolist() + np.arange(1, 11, 1).tolist()\n",
    "\n",
    "np.savetxt('indicePuisCorr.csv',\n",
    "            [tuple([muArray[i]]) +tuple(np.array(tabTErr).transpose()[i]) for i in range(len(muArray))],\n",
    "            delimiter = ',',\n",
    "            fmt = ['%f'] * (len(tabTErr) + 1))"
   ]
  },
  {
   "cell_type": "markdown",
   "id": "7611ca44-8000-4298-adb3-86c4fa8f1a57",
   "metadata": {},
   "source": [
    "### Sensibilité à une méspécification des paramètres"
   ]
  },
  {
   "cell_type": "code",
   "execution_count": null,
   "id": "541125da-c140-49b1-93aa-78d6142e2057",
   "metadata": {
    "tags": []
   },
   "outputs": [],
   "source": [
    "tabIndices = []\n",
    "\n",
    "nTenders = 20\n",
    "nFiles = 3\n",
    "nCharge = 2\n",
    "listeEtat = listAllStations(nTenders, nFiles, d)\n",
    "retrait = lambda x : donGloutonSimplifie(x, d)\n",
    "charge = lambda x : chargeSimplifie(x, d)\n",
    "\n",
    "rhoArray = [1/2, 1, 2, 3, 4, 5, 6, 7, 8, 9, 10, 15, 20, 30]\n",
    "thetaArray = [rho / (rho + 1) for rho in rhoArray]\n",
    "\n",
    "indice = lambda x : indiceLineaire(x, 30)\n",
    "tabIndices.append(indice)\n",
    "\n",
    "indice = lambda x : indiceLineaire(x, 7)\n",
    "tabIndices.append(indice)\n",
    "\n",
    "indice = lambda x : indiceLogarithmique(x, 3.5)\n",
    "tabIndices.append(indice)\n",
    "\n",
    "indice = lambda x : indiceMultiplicatif(x, 0.6)\n",
    "tabIndices.append(indice)\n",
    "\n",
    "indice = lambda x : indicePuis(x, 0.5, 0.1)\n",
    "tabIndices.append(indice)\n",
    "\n",
    "indice = lambda x : indicePuisCorr(x, 3, 0.2, d)\n",
    "tabIndices.append(indice)\n",
    "\n",
    "indice = lambda x : indicePuisLog(x, 0.2, 0.1)\n",
    "tabIndices.append(indice)\n",
    "\n",
    "indice = lambda x : indicePuisLogCorr(x, 3, 0.9, d)\n",
    "tabIndices.append(indice)\n",
    "\n",
    "tabTErr = []"
   ]
  },
  {
   "cell_type": "code",
   "execution_count": null,
   "id": "c8d6982b-4297-424f-9ca0-ff826e10ba25",
   "metadata": {
    "tags": []
   },
   "outputs": [],
   "source": [
    "etatDepart = [[(nTenders // (nFiles - 1)) + 1, nCharge]] * (nTenders % (nFiles - 1))\n",
    "etatDepart += [[(nTenders // (nFiles - 1)), nCharge]] * (nFiles - 1 - (nTenders % (nFiles - 1)))\n",
    "etatDepart += [[0, 0]]\n",
    "etatDepart = np.array(etatDepart)\n",
    "\n",
    "etatArrivee = False\n",
    "\n",
    "i = 0\n",
    "j = 0\n",
    "\n",
    "while not np.array(listeEtat[i] == etatDepart).all() :\n",
    "    i += 1\n",
    "\n",
    "while not np.array(listeEtat[j] == etatArrivee).all() :\n",
    "    j += 1"
   ]
  },
  {
   "cell_type": "code",
   "execution_count": null,
   "id": "cf93d463-5904-4399-b145-5752abd02997",
   "metadata": {
    "tags": []
   },
   "outputs": [],
   "source": [
    "indexTheta = 13\n",
    "theta = thetaArray[indexTheta]\n",
    "\n",
    "tempTab = []\n",
    "for indice in tabIndices :\n",
    "    ajout = lambda x : rangementIndiceSimplifie(x, indice)\n",
    "    M = createTransitionMatrix(listeEtat, ajout, retrait, charge, theta)\n",
    "    tempTab.append(expectedHittingTime(M, i, j)[0])\n",
    "\n",
    "tabTErr.append(tempTab)"
   ]
  },
  {
   "cell_type": "code",
   "execution_count": null,
   "id": "d62f94da-cbb4-44de-a283-c1d799409ade",
   "metadata": {
    "tags": []
   },
   "outputs": [],
   "source": [
    "x = tabTErr[8]"
   ]
  },
  {
   "cell_type": "code",
   "execution_count": null,
   "id": "60461418-cb1e-4cc9-9d25-27228ed8abad",
   "metadata": {
    "tags": []
   },
   "outputs": [],
   "source": [
    "[np.sign(x[1:] - x[0]) for x in tabTErr]"
   ]
  },
  {
   "cell_type": "code",
   "execution_count": null,
   "id": "4d518c53-e54c-4884-a946-5e7a065b62c9",
   "metadata": {
    "tags": []
   },
   "outputs": [],
   "source": [
    "fig = plt.figure()\n",
    "ax = fig.add_axes(rect = [0.1, 0.1, 0.9, 0.9])\n",
    "\n",
    "ax.plot(rhoArray[2:11], [np.log(abs(x[1:] - x[0]) / x[0]) for x in [y[:6] + y[7:] for y in tabTErr[2:11]]])\n",
    "\n",
    "fig.show()"
   ]
  },
  {
   "cell_type": "code",
   "execution_count": null,
   "id": "6f90a030-bd28-4e03-a9a1-b014b8770585",
   "metadata": {
    "tags": []
   },
   "outputs": [],
   "source": [
    "np.savetxt('algRobusteNice.csv',\n",
    "           [tuple([rhoArray[2:11][i]]) + tuple([100 * abs(x[1:] - x[0]) / x[0] for x in [y[:6] + y[7:] for y in tabTErr[2:11]]][i]) for i in range(9)],\n",
    "            delimiter = ',',\n",
    "            fmt = ['%f'] * (len(tabTErr[0]) - 1))"
   ]
  },
  {
   "cell_type": "code",
   "execution_count": null,
   "id": "e8c4322c-473a-476e-bc02-b3ea16ca39e5",
   "metadata": {
    "tags": []
   },
   "outputs": [],
   "source": [
    "np.savetxt('algRobuste.csv',\n",
    "            [tuple([rhoArray[i]]) +tuple(np.array(tabTErr)[i]) for i in range(len(rhoArray))],\n",
    "            delimiter = ',',\n",
    "            fmt = ['%f'] * (len(tabTErr[0]) + 1))"
   ]
  }
 ],
 "metadata": {
  "kernelspec": {
   "display_name": "Python 3 (ipykernel)",
   "language": "python",
   "name": "python3"
  },
  "language_info": {
   "codemirror_mode": {
    "name": "ipython",
    "version": 3
   },
   "file_extension": ".py",
   "mimetype": "text/x-python",
   "name": "python",
   "nbconvert_exporter": "python",
   "pygments_lexer": "ipython3",
   "version": "3.10.9"
  }
 },
 "nbformat": 4,
 "nbformat_minor": 5
}
