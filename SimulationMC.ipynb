{
 "cells": [
  {
   "cell_type": "markdown",
   "id": "e70e0fd3-9355-403e-b82c-166a46350123",
   "metadata": {},
   "source": [
    "# EP Tender : simulation par chaînes de Markov"
   ]
  },
  {
   "cell_type": "markdown",
   "id": "e635e44b-8eaa-4eb2-85c7-00220446fd35",
   "metadata": {
    "jp-MarkdownHeadingCollapsed": true,
    "tags": []
   },
   "source": [
    "## Description du modèle"
   ]
  },
  {
   "cell_type": "markdown",
   "id": "c1e4ee58-6326-4dbe-8652-5616bc7a3bc6",
   "metadata": {},
   "source": [
    "On considère une station comportant $f$ files, pour un total de $n$ tenders en circulation. Chaque tender comporte $d + 1$ états de charge, numérotés de 0 à $d$. À 0 un tender est complètement déchargé, et à $d$ il est complètement chargé.\n",
    "\n",
    "On utilise un modèle à temps discret.\n",
    "\n",
    "Les voitures clientes arrivent de sorte que l'écart temporel entre la $i$-ième voiture et la $(i+1)$-ième est de loi géométrique de paramètre $\\lambda$. Lorsqu'elles arrivent elles doivent prendre un tender complètement chargé qu'elles ramènent complètement déchargé au début de l'étape suivante.\n",
    "\n",
    "Fatalement, un jour plus de $n$ voitures arriveront en même temps et alors la demande ne pourra pas être satisfaite. On note $T_\\mathrm{bug}$ le premier temps où la demande en Tender est insatisfaite et on s'intéresse à son espérance. On cherche à trouver, pour un processus de rangement et de sélection des tenders donné, l'espérance de $T_\\mathrm{bug}$, qu'on souhaite maximal.\n",
    "\n",
    "Chaque étape temporelle se déroule comme suit :\n",
    "1. Tous les tenders dans la station gagnent un niveau de charge, pour un niveau maximum de $d$.\n",
    "2. Les tenders partis à l'étape précédente sont rangés dans la station.\n",
    "3. Les nouvelles voitures clientes arrivent et des tenders chargés leur sont attribués.\n",
    "4. Si la demande a pu être satisfaite, on passe au temps suivant."
   ]
  },
  {
   "cell_type": "markdown",
   "id": "c4c679df-9f5c-4814-8355-f9ffc84e9ac3",
   "metadata": {
    "jp-MarkdownHeadingCollapsed": true,
    "tags": []
   },
   "source": [
    "## Importation des modules"
   ]
  },
  {
   "cell_type": "code",
   "execution_count": 1,
   "id": "d5b84098-d0f4-4e72-8a55-cb4848ec5765",
   "metadata": {},
   "outputs": [],
   "source": [
    "import numpy as np"
   ]
  },
  {
   "cell_type": "markdown",
   "id": "4f7d2b1b-9e24-4adc-b960-8586acf2113c",
   "metadata": {
    "jp-MarkdownHeadingCollapsed": true,
    "tags": []
   },
   "source": [
    "## Encodage des états"
   ]
  },
  {
   "cell_type": "markdown",
   "id": "97af9297-df4f-4416-b2af-ed584a16c446",
   "metadata": {
    "jp-MarkdownHeadingCollapsed": true,
    "tags": []
   },
   "source": [
    "### Encodage d'une file simple"
   ]
  },
  {
   "cell_type": "markdown",
   "id": "0bdaf193-dd0a-4cd0-8fac-e27ce6a88cfa",
   "metadata": {},
   "source": [
    "Une file donnée contient un certain nombre de tenders, chacun à un état de charge donné. Remarquons que les tenders les plus au fond sont ceux arrivés le plus tôt, ils sont donc les plus chargés. On peut donc représenter une file par une suite décroissante d'entiers entre 0 et $d$, de longueur au plus $n$. Si $d < n$ il peut être plus efficace d'encoder cette suite par une suite de $d + 1$ entiers positifs, de somme au plus $n$, représentant le nombre de tenders de niveau de charge $d$ dans la file, puis le nombre de tenders de niveau de charge $d - 1$, et ainsi de suite jusque $0$."
   ]
  },
  {
   "cell_type": "code",
   "execution_count": 2,
   "id": "94549481-5b2a-44af-a149-65ab72270433",
   "metadata": {},
   "outputs": [],
   "source": [
    "def encode(file, d) :\n",
    "# Prend une suite décroissante d'entiers positifs entre 0 et d, et renvoie le nombre d'entiers pour chaque valeur\n",
    "\n",
    "    fileEncodee = np.zeros(d + 1, dtype = int)\n",
    "    for charge in file :\n",
    "        fileEncodee[d - charge] += 1\n",
    "    \n",
    "    return fileEncodee"
   ]
  },
  {
   "cell_type": "code",
   "execution_count": 3,
   "id": "9b924991-dab9-4c33-a5a4-a9578764e7fe",
   "metadata": {},
   "outputs": [
    {
     "data": {
      "text/plain": [
       "array([0, 2, 0, 1, 2, 1, 1])"
      ]
     },
     "execution_count": 3,
     "metadata": {},
     "output_type": "execute_result"
    }
   ],
   "source": [
    "file = [5, 5, 3, 2, 2, 1, 0]\n",
    "fileEncodee = encode(file, 6)\n",
    "fileEncodee"
   ]
  },
  {
   "cell_type": "code",
   "execution_count": 4,
   "id": "aff610da-f208-4078-a3ed-8ec6afa1ebd4",
   "metadata": {},
   "outputs": [],
   "source": [
    "def decode(fileEncodee) :\n",
    "    # Prend une suite d'entiers positifs, et renvoie une suite d'entiers, de longueur la somme de la suite originale\n",
    "    # et prenant chaque valeur le nombre de fois indiqué par la suite de départ, de sorte à se terminer par la valeur 0\n",
    "    \n",
    "    d = len(fileEncodee) - 1\n",
    "    file = np.zeros(sum(fileEncodee), dtype = int)\n",
    "    i = 0\n",
    "    for v in fileEncodee :\n",
    "        while v > 0 :\n",
    "            file[i] = d\n",
    "            i += 1\n",
    "            v -= 1\n",
    "        d -= 1\n",
    "    \n",
    "    return file"
   ]
  },
  {
   "cell_type": "code",
   "execution_count": 5,
   "id": "64419aae-14ab-4960-acb6-561809ff6bd4",
   "metadata": {},
   "outputs": [
    {
     "data": {
      "text/plain": [
       "array([5, 5, 3, 2, 2, 1, 0])"
      ]
     },
     "execution_count": 5,
     "metadata": {},
     "output_type": "execute_result"
    }
   ],
   "source": [
    "decode(fileEncodee)"
   ]
  },
  {
   "cell_type": "markdown",
   "id": "a553d4f6-9358-493d-97c2-43182eeefc47",
   "metadata": {
    "jp-MarkdownHeadingCollapsed": true,
    "tags": []
   },
   "source": [
    "### Encodage d'une station"
   ]
  },
  {
   "cell_type": "markdown",
   "id": "6aa876fc-c7ba-4c66-b85f-551e5703e5cd",
   "metadata": {},
   "source": [
    "Une station comportant $f$ files peut être représentée par une matrice avec $f$ éléments, chaque élément listant les états des tenders dans une file. On complète les files par des -1 pour les ramener toutes à la même longueur."
   ]
  },
  {
   "cell_type": "code",
   "execution_count": 6,
   "id": "c7fcf154-7bde-4beb-a5b6-aee5bd3879da",
   "metadata": {},
   "outputs": [],
   "source": [
    "def encodeStation(station, d) :\n",
    "    # Prend une station et renvoie la matrice comportant la valeur encodée de chaque ligne\n",
    "    \n",
    "    if type(station) == np.ndarray :\n",
    "        station = station.tolist()\n",
    "    \n",
    "    stationEncodee = []\n",
    "    for indexFile in range(len(station)) :\n",
    "        file = station[indexFile]\n",
    "        try :\n",
    "            finFile = file.index(-1)\n",
    "        except ValueError :\n",
    "            finFile = len(file)\n",
    "        stationEncodee.append(encode(file[:finFile], d))\n",
    "    \n",
    "    return np.array(stationEncodee, dtype = int)"
   ]
  },
  {
   "cell_type": "code",
   "execution_count": 7,
   "id": "4caa3e67-caf7-4cb3-8b34-b007e616a711",
   "metadata": {},
   "outputs": [
    {
     "data": {
      "text/plain": [
       "array([[0, 2, 0, 1, 2, 1, 1],\n",
       "       [0, 0, 0, 2, 0, 0, 0]])"
      ]
     },
     "execution_count": 7,
     "metadata": {},
     "output_type": "execute_result"
    }
   ],
   "source": [
    "station = [[5, 5, 3, 2, 2, 1, 0], [3, 3]]\n",
    "stationEncodee = encodeStation(station, 6)\n",
    "stationEncodee"
   ]
  },
  {
   "cell_type": "code",
   "execution_count": 8,
   "id": "acbde24c-2e56-4879-9a53-1197a9a59ee4",
   "metadata": {},
   "outputs": [],
   "source": [
    "def padStation(station) :\n",
    "    # Prend une station représentée sous forme de liste et la renvoie sous forme de np.array, complété de -1\n",
    "    \n",
    "    if type(station) == list :\n",
    "        longueurFiles = max([len(file) for file in station])\n",
    "        for indexFile, file in enumerate(station) :\n",
    "            station[indexFile] = file + [-1] * (longueurFiles - len(file))\n",
    "    \n",
    "    return np.array(station)"
   ]
  },
  {
   "cell_type": "code",
   "execution_count": 9,
   "id": "7586a565-7a6e-46d5-8217-d3af77e901a6",
   "metadata": {},
   "outputs": [
    {
     "data": {
      "text/plain": [
       "array([[ 5,  5,  3,  2,  2,  1,  0],\n",
       "       [ 3,  3, -1, -1, -1, -1, -1]])"
      ]
     },
     "execution_count": 9,
     "metadata": {},
     "output_type": "execute_result"
    }
   ],
   "source": [
    "padStation(station)"
   ]
  },
  {
   "cell_type": "code",
   "execution_count": 10,
   "id": "1d57e95a-c2fe-48ff-ad54-6c53a517a545",
   "metadata": {},
   "outputs": [],
   "source": [
    "def decodeStation(stationEncodee) :\n",
    "    # Prend une station encodée et renvoie la liste de ses files décodées\n",
    "    \n",
    "    if type(stationEncodee) == list :\n",
    "        stationEncodee = np.array(stationEncodee)\n",
    "    \n",
    "    station = []\n",
    "    \n",
    "    for indexFile in range(stationEncodee.shape[0]) :\n",
    "        fileEncodee = stationEncodee[indexFile, :]\n",
    "        station.append(decode(fileEncodee).tolist())\n",
    "        \n",
    "    return padStation(station)"
   ]
  },
  {
   "cell_type": "code",
   "execution_count": 11,
   "id": "f533aed4-d5dd-4269-86be-0293c8a3dee3",
   "metadata": {},
   "outputs": [
    {
     "data": {
      "text/plain": [
       "array([[ 5,  5,  3,  2,  2,  1,  0],\n",
       "       [ 3,  3, -1, -1, -1, -1, -1]])"
      ]
     },
     "execution_count": 11,
     "metadata": {},
     "output_type": "execute_result"
    }
   ],
   "source": [
    "decodeStation(stationEncodee)"
   ]
  },
  {
   "cell_type": "markdown",
   "id": "9f2f408d-b686-459b-ae3a-882cc0a43fbd",
   "metadata": {
    "jp-MarkdownHeadingCollapsed": true,
    "tags": []
   },
   "source": [
    "## Charge des tenders"
   ]
  },
  {
   "cell_type": "markdown",
   "id": "e32eb23e-7cba-45e2-af22-bb31d3dac2de",
   "metadata": {},
   "source": [
    "Une même fonction permet de réaliser la charge des stations et des files. Il faut néanmoins différencier le cas encodé et décodé."
   ]
  },
  {
   "cell_type": "code",
   "execution_count": 12,
   "id": "ae328298-882f-4977-a8a3-ef232ee8c59f",
   "metadata": {},
   "outputs": [],
   "source": [
    "def charge(station, d) :\n",
    "    # Prend une station (décodée) et la renvoie après que chaque tender ait été chargé de 1\n",
    "    \n",
    "    station = station.copy()\n",
    "    \n",
    "    if type(station) == list :\n",
    "        station = padStation(station)\n",
    "        \n",
    "    station += ~np.isin(station, [-1, d])    \n",
    "    \n",
    "    return station"
   ]
  },
  {
   "cell_type": "code",
   "execution_count": 13,
   "id": "31ca9f3e-aff9-4028-8056-e214469a4a19",
   "metadata": {},
   "outputs": [
    {
     "data": {
      "text/plain": [
       "[[5, 5, 3, 2, 2, 1, 0], [3, 3, -1, -1, -1, -1, -1]]"
      ]
     },
     "execution_count": 13,
     "metadata": {},
     "output_type": "execute_result"
    }
   ],
   "source": [
    "station"
   ]
  },
  {
   "cell_type": "code",
   "execution_count": 14,
   "id": "ce29e0b8-82de-432c-86e5-0f6976f0ab96",
   "metadata": {},
   "outputs": [
    {
     "data": {
      "text/plain": [
       "array([[ 5,  5,  4,  3,  3,  2,  1],\n",
       "       [ 4,  4, -1, -1, -1, -1, -1]])"
      ]
     },
     "execution_count": 14,
     "metadata": {},
     "output_type": "execute_result"
    }
   ],
   "source": [
    "charge(station, 5)"
   ]
  },
  {
   "cell_type": "code",
   "execution_count": 15,
   "id": "2982afb3-eda7-48af-8bb2-43586082322a",
   "metadata": {},
   "outputs": [],
   "source": [
    "def chargeEncodee(station) :\n",
    "    # Prend une station (encodée) et la renvoie après que chaque tender ait été chargé de 1\n",
    "    \n",
    "    station = padStation(station)    \n",
    "    chargedStation = np.zeros(station.shape)\n",
    "    \n",
    "    for indexFile in range(station.shape[0]) :\n",
    "        chargedStation[indexFile, 0] = station[indexFile, 0]\n",
    "        chargedStation[indexFile, :-1] += station[indexFile, 1:]\n",
    "    \n",
    "    return chargedStation"
   ]
  },
  {
   "cell_type": "code",
   "execution_count": 16,
   "id": "90326d99-a1e2-4429-8d31-3b473cd28bb6",
   "metadata": {},
   "outputs": [
    {
     "data": {
      "text/plain": [
       "array([[0, 2, 0, 1, 2, 1, 1],\n",
       "       [0, 0, 0, 2, 0, 0, 0]])"
      ]
     },
     "execution_count": 16,
     "metadata": {},
     "output_type": "execute_result"
    }
   ],
   "source": [
    "stationEncodee"
   ]
  },
  {
   "cell_type": "code",
   "execution_count": 17,
   "id": "7c9159dd-ac53-4944-9490-deebcf0d70c3",
   "metadata": {},
   "outputs": [
    {
     "data": {
      "text/plain": [
       "array([[2., 0., 1., 2., 1., 1., 0.],\n",
       "       [0., 0., 2., 0., 0., 0., 0.]])"
      ]
     },
     "execution_count": 17,
     "metadata": {},
     "output_type": "execute_result"
    }
   ],
   "source": [
    "chargeEncodee(stationEncodee)"
   ]
  },
  {
   "cell_type": "code",
   "execution_count": 18,
   "id": "85709949-5901-4886-9c49-7228b75b13bf",
   "metadata": {},
   "outputs": [
    {
     "data": {
      "text/plain": [
       "array([[3., 2., 1., 1., 0., 0., 0.],\n",
       "       [2., 0., 0., 0., 0., 0., 0.]])"
      ]
     },
     "execution_count": 18,
     "metadata": {},
     "output_type": "execute_result"
    }
   ],
   "source": [
    "chargeEncodee(chargeEncodee(chargeEncodee(stationEncodee)))"
   ]
  },
  {
   "cell_type": "markdown",
   "id": "2f084e1e-3ed2-4e8f-b979-e9559080b4e8",
   "metadata": {
    "jp-MarkdownHeadingCollapsed": true,
    "tags": []
   },
   "source": [
    "## Réduction du nombre de configurations pour les stations"
   ]
  },
  {
   "cell_type": "markdown",
   "id": "0051147e-793a-483b-82d2-cc1641dfbf48",
   "metadata": {},
   "source": [
    "Les états de notre chaîne de Markov sont les configurations de la station. D'un point de vue de la satisfaction de la demande, cependant, certaines configurations sont équivalentes : on peut permuter librement les files. Ainsi, on ne s'intéresse qu'aux configurations où le nombre de tenders par file est décroissant, et les files avec le même nombre de tenders sont ordonnées selon l'ordre lexicographique décroissant. Remarquons que l'ordre lexicographique est le même qu'on soit en version encodée ou décodée, en revanche la contrainte imposée par le nombre de tenders dans chaque file s'exprime différemment selon que la station est encodée ou non."
   ]
  },
  {
   "cell_type": "markdown",
   "id": "537890b7-590b-40d3-a811-435a56433e75",
   "metadata": {
    "jp-MarkdownHeadingCollapsed": true,
    "tags": []
   },
   "source": [
    "### Parcours d'ensembles de suite dans l'ordre lexicographique décroissant"
   ]
  },
  {
   "cell_type": "markdown",
   "id": "26e4c755-3ad2-434c-acff-82cbb17ba1f6",
   "metadata": {},
   "source": [
    "Dans la suite, nous allons avoir besoin de fonctions élémentaires permettant de parcourir, dans l'ordre lexicographique décroissant, l'ensemble des suites vérifiant des contraintes données."
   ]
  },
  {
   "cell_type": "code",
   "execution_count": 19,
   "id": "ff6c0ff7-712e-40bd-8270-a43145913ff4",
   "metadata": {},
   "outputs": [],
   "source": [
    "def suiteSuivanteDecSumCst(l) :\n",
    "    # Permet de parcourir l'ensemble des suites décroissantes de longueur et somme données, selon l'ordre lexicographique\n",
    "    # décroissant. Renvoie False quand on a atteint le dernier état.\n",
    "    \n",
    "    l = l.copy()\n",
    "    i = len(l) - 1\n",
    "    curSum = 1\n",
    "    \n",
    "    while i >= 0 and curSum > (l[i] - 1) * (len(l) - 1 - i):\n",
    "        curSum += l[i]\n",
    "        i -= 1\n",
    "    \n",
    "    if i >= 0 :\n",
    "        l[i] -= 1\n",
    "        j = i + 1\n",
    "        while curSum > 0 :\n",
    "            l[j] = min([curSum, l[i]])\n",
    "            curSum -= l[j]\n",
    "            j += 1\n",
    "        while j < len(l) :\n",
    "            l[j] = 0\n",
    "            j += 1\n",
    "    else :\n",
    "        l = False\n",
    "    \n",
    "    return l    "
   ]
  },
  {
   "cell_type": "code",
   "execution_count": 20,
   "id": "cb5b8979-3f7a-452b-a2ec-eb9838c2a2f3",
   "metadata": {},
   "outputs": [
    {
     "name": "stdout",
     "output_type": "stream",
     "text": [
      "[5, 4, 2, 0]\n",
      "[5, 4, 1, 1]\n",
      "[5, 3, 3, 0]\n",
      "[5, 3, 2, 1]\n",
      "[5, 2, 2, 2]\n",
      "[4, 4, 3, 0]\n",
      "[4, 4, 2, 1]\n",
      "[4, 3, 3, 1]\n",
      "[4, 3, 2, 2]\n",
      "[3, 3, 3, 2]\n"
     ]
    }
   ],
   "source": [
    "l = [5, 4, 2, 0]\n",
    "while type(l) != bool :\n",
    "    print(l)\n",
    "    l = suiteSuivanteDecSumCst(l)"
   ]
  },
  {
   "cell_type": "code",
   "execution_count": 21,
   "id": "34a5ea04-b03c-4bfa-9439-2234e7328aee",
   "metadata": {},
   "outputs": [],
   "source": [
    "def suiteSuivanteSumCst(l) :\n",
    "    # Permet de parcourir l'ensemble des suites de longueur et somme données, selon l'ordre lexicographique\n",
    "    # décroissant. Renvoie False quand on a atteint le dernier état.\n",
    "    \n",
    "    l = l.copy()\n",
    "    \n",
    "    if len(l) >= 2 :\n",
    "        i = len(l) - 2\n",
    "        curSum = l[i + 1]\n",
    "    \n",
    "        while i >= 0 :\n",
    "            if l[i] >= 1 :\n",
    "                l[i] -= 1\n",
    "                l[i + 1] = curSum + 1\n",
    "                l[(i + 2):] = [0] * (len(l) - 2 - i)\n",
    "                break\n",
    "            else :\n",
    "                curSum += l[i]\n",
    "                i -= 1\n",
    "        \n",
    "        if i == -1 :\n",
    "            l = False\n",
    "            \n",
    "    else :\n",
    "        l = False\n",
    "    \n",
    "    return l"
   ]
  },
  {
   "cell_type": "code",
   "execution_count": 22,
   "id": "3f1c9d60-fc31-4b0a-806d-2877c5a933d4",
   "metadata": {},
   "outputs": [
    {
     "name": "stdout",
     "output_type": "stream",
     "text": [
      "[3, 0, 0]\n",
      "[2, 1, 0]\n",
      "[2, 0, 1]\n",
      "[1, 2, 0]\n",
      "[1, 1, 1]\n",
      "[1, 0, 2]\n",
      "[0, 3, 0]\n",
      "[0, 2, 1]\n",
      "[0, 1, 2]\n",
      "[0, 0, 3]\n"
     ]
    }
   ],
   "source": [
    "l = [3, 0, 0]\n",
    "while type(l) != bool :\n",
    "    print(l)\n",
    "    l = suiteSuivanteSumCst(l)"
   ]
  },
  {
   "cell_type": "code",
   "execution_count": 23,
   "id": "9121f86f-1395-447d-8a70-c359c08c19f1",
   "metadata": {},
   "outputs": [],
   "source": [
    "def suiteSuivanteDec(l) :\n",
    "    # Permet de parcourir l'ensemble des suites décroissantes de longueur donnée, selon l'ordre lexicographique\n",
    "    # décroissant. Renvoie False quand on a atteint le dernier état. On spécifie la valeur maximale en commençant par\n",
    "    # d, d, d, ..., d\n",
    "    \n",
    "    l = l.copy()\n",
    "    i = len(l) - 1\n",
    "    \n",
    "    while i >= 0 :\n",
    "        if l[i] >= 1 :\n",
    "            l[i] -= 1\n",
    "            l[(i+1):] = [l[i]] * (len(l) - 1 - i)\n",
    "            break\n",
    "        i -= 1\n",
    "        \n",
    "    if i == -1 :\n",
    "        l = False\n",
    "    \n",
    "    return l"
   ]
  },
  {
   "cell_type": "code",
   "execution_count": 24,
   "id": "23bda17d-6135-4907-8d49-d71a5eb1508a",
   "metadata": {},
   "outputs": [
    {
     "name": "stdout",
     "output_type": "stream",
     "text": [
      "[3, 3, 3]\n",
      "[3, 3, 2]\n",
      "[3, 3, 1]\n",
      "[3, 3, 0]\n",
      "[3, 2, 2]\n",
      "[3, 2, 1]\n",
      "[3, 2, 0]\n",
      "[3, 1, 1]\n",
      "[3, 1, 0]\n",
      "[3, 0, 0]\n",
      "[2, 2, 2]\n",
      "[2, 2, 1]\n",
      "[2, 2, 0]\n",
      "[2, 1, 1]\n",
      "[2, 1, 0]\n",
      "[2, 0, 0]\n",
      "[1, 1, 1]\n",
      "[1, 1, 0]\n",
      "[1, 0, 0]\n",
      "[0, 0, 0]\n"
     ]
    }
   ],
   "source": [
    "l = [3, 3, 3]\n",
    "\n",
    "while type(l) != bool :\n",
    "    print(l)\n",
    "    l = suiteSuivanteDec(l)"
   ]
  },
  {
   "cell_type": "markdown",
   "id": "1c4e622c-1a62-4a8b-8455-72c4f575c363",
   "metadata": {
    "jp-MarkdownHeadingCollapsed": true,
    "tags": []
   },
   "source": [
    "### Parcours de l'ensemble des configurations possibles pour une station"
   ]
  },
  {
   "cell_type": "markdown",
   "id": "ea3f488d-d0cb-400e-9c40-38ea110fde13",
   "metadata": {},
   "source": [
    "Pour les stations encodées, on a :"
   ]
  },
  {
   "cell_type": "code",
   "execution_count": 25,
   "id": "3ede62c5-d73e-4740-aee1-c9023ef5f5ff",
   "metadata": {},
   "outputs": [],
   "source": [
    "def etatEncodeSuivant(etat) :\n",
    "    # Permet de parcourir l'ensemble des états possibles pour une station avec un nombre donné de tenders déjà\n",
    "    # répartis entre les files, sans répéter deux états équivalents. Parcourt la répartition dans chaque file\n",
    "    # dans l'ordre lexicographique décroissant. Les stations sont sous forme encodée.\n",
    "    \n",
    "    etat = etat.copy()\n",
    "    \n",
    "    nFile = etat.shape[0]\n",
    "    curFile = nFile - 1\n",
    "    \n",
    "    while curFile >= 0 :\n",
    "        file = etat[curFile, :]\n",
    "        \n",
    "        if type(suiteSuivanteSumCst(file)) == bool :\n",
    "            file[0] = sum(file)\n",
    "            file[1:] = 0\n",
    "            etat[curFile, :] = file\n",
    "        else :\n",
    "            file = suiteSuivanteSumCst(file)\n",
    "            etat[curFile, :] = file\n",
    "            \n",
    "            # On s'assure que les files avec le même nombre de tenders sont bien plus petites selon l'ordre lexicographique\n",
    "            j = curFile + 1\n",
    "            nbTenders = sum(file)\n",
    "            while j < nFile and etat[j, 0] == nbTenders :\n",
    "                etat[j, :] = file\n",
    "            \n",
    "            break\n",
    "\n",
    "        curFile -= 1\n",
    "    \n",
    "    if curFile == -1 :\n",
    "        etat = False\n",
    "        \n",
    "    return etat"
   ]
  },
  {
   "cell_type": "code",
   "execution_count": 26,
   "id": "cd69f2ff-6cdb-4070-96c8-d471413ce056",
   "metadata": {},
   "outputs": [],
   "source": [
    "def stationEncodeeSuivante(station) :\n",
    "    # Permet de parcourir l'ensemble des états possibles pour une station avec un nombre donné de tenders,\n",
    "    # sans répéter deux états équivalents. Parcourt la répartition des tenders par file selon l'ordre lexicographique\n",
    "    # décroissant, puis à répartition donnée chaque file dans l'ordre lexicographique décroissant. Les stations sont sous\n",
    "    # forme encodée.\n",
    "    \n",
    "    station = station.copy()\n",
    "    \n",
    "    if type(etatEncodeSuivant(station)) != bool :\n",
    "        station = etatEncodeSuivant(station)\n",
    "    else :\n",
    "        tenderParFile = np.sum(station, axis = 1)\n",
    "        if type(suiteSuivanteDecSumCst(tenderParFile)) == bool :\n",
    "            station = False\n",
    "        else :\n",
    "            tenderParFile = suiteSuivanteDecSumCst(tenderParFile)\n",
    "            station[:, :] = 0\n",
    "            station[:, 0] = tenderParFile\n",
    "    \n",
    "    return station"
   ]
  },
  {
   "cell_type": "code",
   "execution_count": 27,
   "id": "e28883d4-f70b-48cf-858e-1247bf50fe8b",
   "metadata": {},
   "outputs": [
    {
     "name": "stdout",
     "output_type": "stream",
     "text": [
      "[[4 0]\n",
      " [0 0]]\n",
      "[[3 1]\n",
      " [0 0]]\n",
      "[[2 2]\n",
      " [0 0]]\n",
      "[[1 3]\n",
      " [0 0]]\n",
      "[[0 4]\n",
      " [0 0]]\n",
      "[[3 0]\n",
      " [1 0]]\n",
      "[[3 0]\n",
      " [0 1]]\n",
      "[[2 1]\n",
      " [1 0]]\n",
      "[[2 1]\n",
      " [0 1]]\n",
      "[[1 2]\n",
      " [1 0]]\n",
      "[[1 2]\n",
      " [0 1]]\n",
      "[[0 3]\n",
      " [1 0]]\n",
      "[[0 3]\n",
      " [0 1]]\n",
      "[[2 0]\n",
      " [2 0]]\n",
      "[[2 0]\n",
      " [1 1]]\n",
      "[[2 0]\n",
      " [0 2]]\n",
      "[[1 1]\n",
      " [1 1]]\n",
      "[[1 1]\n",
      " [0 2]]\n",
      "[[0 2]\n",
      " [0 2]]\n"
     ]
    }
   ],
   "source": [
    "etat = np.array([[4, 0], [0, 0]])\n",
    "\n",
    "while type(etat) != bool :\n",
    "    print(etat)\n",
    "    etat = stationEncodeeSuivante(etat)"
   ]
  },
  {
   "cell_type": "markdown",
   "id": "0e7ec139-5668-4325-88fb-7ba13a8d968e",
   "metadata": {},
   "source": [
    "Pour les stations décodées, on a :"
   ]
  },
  {
   "cell_type": "code",
   "execution_count": 28,
   "id": "60010531-2bef-40d9-9172-53f886ca8f34",
   "metadata": {},
   "outputs": [],
   "source": [
    "def etatDecodeSuivant(etat, d) :\n",
    "    # Permet de parcourir l'ensemble des états possibles pour une station avec un nombre donné de tenders déjà\n",
    "    # répartis entre les files, sans répéter deux états équivalents. Parcourt la répartition dans chaque file\n",
    "    # dans l'ordre lexicographique décroissant. Les stations sont sous forme décodée, avec des états de charge de 0 à d.\n",
    "    \n",
    "    etat = etat.copy()\n",
    "    \n",
    "    nFile = etat.shape[0]\n",
    "    curFile = nFile - 1\n",
    "    \n",
    "    while curFile >= 0 :\n",
    "        \n",
    "        file = etat[curFile, :]\n",
    "        try :\n",
    "            finFile = file.tolist().index(-1)\n",
    "        except ValueError :\n",
    "            finFile = len(file)\n",
    "            \n",
    "        if finFile >= 1 :\n",
    "            file = file[:finFile]\n",
    "\n",
    "            if type(suiteSuivanteDec(file)) == bool :\n",
    "                file[:] = d\n",
    "            else :\n",
    "                file = suiteSuivanteDec(file)\n",
    "                etat[curFile, :finFile] = file\n",
    "\n",
    "                # On s'assure que les files avec le même nombre de tenders sont bien plus petites selon l'ordre lexicographique\n",
    "                j = curFile + 1\n",
    "                while j < nFile and etat[j, finFile - 1] != -1 :\n",
    "                    etat[j, :finFile] = file\n",
    "                    j += 1\n",
    "                \n",
    "                break\n",
    "\n",
    "        curFile -= 1\n",
    "    \n",
    "    if curFile == -1 :\n",
    "        etat = False\n",
    "        \n",
    "    return etat"
   ]
  },
  {
   "cell_type": "code",
   "execution_count": 29,
   "id": "631daa35-f390-4ef3-81c7-377407b48fd8",
   "metadata": {},
   "outputs": [],
   "source": [
    "def stationDecodeeSuivante(station, d) :\n",
    "    # Permet de parcourir l'ensemble des états possibles pour une station avec un nombre donné de tenders,\n",
    "    # sans répéter deux états équivalents. Parcourt la répartition des tenders par file selon l'ordre lexicographique\n",
    "    # décroissant, puis à répartition donnée chaque file dans l'ordre lexicographique décroissant. Les stations sont sous\n",
    "    # forme encodée.\n",
    "    \n",
    "    station = padStation(station)\n",
    "    \n",
    "    if type(etatDecodeSuivant(station, d)) != bool :\n",
    "        station = etatDecodeSuivant(station, d)\n",
    "    else :\n",
    "        tenderParFile = np.sum(station >= 0, axis = 1)\n",
    "        if type(suiteSuivanteDecSumCst(tenderParFile)) == bool :\n",
    "            station = False\n",
    "        else :\n",
    "            tenderParFile = suiteSuivanteDecSumCst(tenderParFile)\n",
    "            station[:, :] = -1\n",
    "            for i in range(station.shape[0]) :\n",
    "                for j in range(tenderParFile[i]) :\n",
    "                    station[i, j] = d\n",
    "    \n",
    "    return station"
   ]
  },
  {
   "cell_type": "code",
   "execution_count": 30,
   "id": "a6ba740e-5f3b-4baa-b31f-9f96106dc70a",
   "metadata": {},
   "outputs": [
    {
     "name": "stdout",
     "output_type": "stream",
     "text": [
      "[[ 1  1  1  1]\n",
      " [-1 -1 -1 -1]]\n",
      "[[ 1  1  1  0]\n",
      " [-1 -1 -1 -1]]\n",
      "[[ 1  1  0  0]\n",
      " [-1 -1 -1 -1]]\n",
      "[[ 1  0  0  0]\n",
      " [-1 -1 -1 -1]]\n",
      "[[ 0  0  0  0]\n",
      " [-1 -1 -1 -1]]\n",
      "[[ 1  1  1 -1]\n",
      " [ 1 -1 -1 -1]]\n",
      "[[ 1  1  1 -1]\n",
      " [ 0 -1 -1 -1]]\n",
      "[[ 1  1  0 -1]\n",
      " [ 1 -1 -1 -1]]\n",
      "[[ 1  1  0 -1]\n",
      " [ 0 -1 -1 -1]]\n",
      "[[ 1  0  0 -1]\n",
      " [ 1 -1 -1 -1]]\n",
      "[[ 1  0  0 -1]\n",
      " [ 0 -1 -1 -1]]\n",
      "[[ 0  0  0 -1]\n",
      " [ 1 -1 -1 -1]]\n",
      "[[ 0  0  0 -1]\n",
      " [ 0 -1 -1 -1]]\n",
      "[[ 1  1 -1 -1]\n",
      " [ 1  1 -1 -1]]\n",
      "[[ 1  1 -1 -1]\n",
      " [ 1  0 -1 -1]]\n",
      "[[ 1  1 -1 -1]\n",
      " [ 0  0 -1 -1]]\n",
      "[[ 1  0 -1 -1]\n",
      " [ 1  0 -1 -1]]\n",
      "[[ 1  0 -1 -1]\n",
      " [ 0  0 -1 -1]]\n",
      "[[ 0  0 -1 -1]\n",
      " [ 0  0 -1 -1]]\n"
     ]
    }
   ],
   "source": [
    "etat = padStation([[1, 1, 1, 1], []])\n",
    "\n",
    "while type(etat) != bool :\n",
    "    print(etat)\n",
    "    etat = stationDecodeeSuivante(etat, 1)"
   ]
  },
  {
   "cell_type": "markdown",
   "id": "c1ab26a5-2ba2-4c9d-ac56-69ed1e053dfd",
   "metadata": {
    "jp-MarkdownHeadingCollapsed": true,
    "tags": []
   },
   "source": [
    "## Simplification supplémentaire"
   ]
  },
  {
   "cell_type": "markdown",
   "id": "24f3b032-3c60-4078-8cc2-115667f641a4",
   "metadata": {},
   "source": [
    "En fait, on remarque qu'on ne peut accéder aux tenders les plus loins dans une file qu'une fois le premier tender parti : il devra donc avoir été entièrement rechargé, et tous ceux arrivés antérieurement le seront de même. Les seules informations pertinentes pour une file sont donc le nombre de tenders présents, et le niveau de charge du plus récent arrivé."
   ]
  },
  {
   "cell_type": "code",
   "execution_count": 31,
   "id": "bb639c33-14f4-4f87-b9aa-aa4ded595021",
   "metadata": {},
   "outputs": [],
   "source": [
    "def simplifie(station, encode = False) :\n",
    "    # Prend une station, sa forme, encodée ou non, spécifiée par le paramètre encode (default False) et renvoie sa forme simplifiée\n",
    "    \n",
    "    if encode :\n",
    "        newStation = np.zeros([station.shape[0], 2], dtype = int)\n",
    "        for i in range(station.shape[0]) :\n",
    "            curCharge = station.shape[1] - 1\n",
    "            while curCharge >= 0 and station[i, curCharge] == 0 :\n",
    "                curCharge -= 1\n",
    "            if curCharge != -1 :\n",
    "                newStation[i, 1] = station.shape[1] - 1 - curCharge\n",
    "            newStation[i, 0] = np.sum(station[i, :])\n",
    "    else :\n",
    "        station = padStation(station)\n",
    "        newStation = np.zeros([station.shape[0], 2], dtype = int)\n",
    "        for i in range(station.shape[0]) :\n",
    "            try :\n",
    "                finFile = station[i, :].tolist().index(-1)\n",
    "            except ValueError :\n",
    "                finFile = station.shape[1]\n",
    "            newStation[i, 0] = finFile\n",
    "            if finFile >= 1 :\n",
    "                newStation[i, 1] = station[i, finFile - 1]\n",
    "    \n",
    "    return newStation"
   ]
  },
  {
   "cell_type": "code",
   "execution_count": 32,
   "id": "c169a59b-267e-4f92-94ff-29f81c384972",
   "metadata": {},
   "outputs": [
    {
     "data": {
      "text/plain": [
       "array([[4, 1],\n",
       "       [1, 0]])"
      ]
     },
     "execution_count": 32,
     "metadata": {},
     "output_type": "execute_result"
    }
   ],
   "source": [
    "simplifie([[1, 1, 1, 1], [0]])"
   ]
  },
  {
   "cell_type": "code",
   "execution_count": 33,
   "id": "5991951f-5703-492e-ae4b-0e9832b3f940",
   "metadata": {},
   "outputs": [
    {
     "data": {
      "text/plain": [
       "array([[4, 1],\n",
       "       [0, 0]])"
      ]
     },
     "execution_count": 33,
     "metadata": {},
     "output_type": "execute_result"
    }
   ],
   "source": [
    "simplifie(np.array([[4, 0], [0, 0]]), True)"
   ]
  },
  {
   "cell_type": "markdown",
   "id": "2dbf9cab-b7bb-4d52-bd13-bb009e66c0cb",
   "metadata": {},
   "source": [
    "On adapte aussi l'algorithme de charge."
   ]
  },
  {
   "cell_type": "code",
   "execution_count": 34,
   "id": "aa6b280e-dc51-4777-8a5a-0755fbc898f9",
   "metadata": {},
   "outputs": [],
   "source": [
    "def chargeSimplifie(station, d) :\n",
    "    # Renvoie la même station simplifiée après que tous les tenders aient été chargés de 1\n",
    "    \n",
    "    station = station.copy()\n",
    "        \n",
    "    for i in range(station.shape[0]) :\n",
    "        if station[i, 0] != 0 and station[i, 1] != d :\n",
    "            station[i, 1] += 1\n",
    "    \n",
    "    return station"
   ]
  },
  {
   "cell_type": "markdown",
   "id": "ed34d086-cec0-4ac3-91f2-4d92818b7bcd",
   "metadata": {},
   "source": [
    "Lister l'ensemble des configurations possibles est désormais plus simple :"
   ]
  },
  {
   "cell_type": "code",
   "execution_count": 35,
   "id": "b5a5d20d-6c58-4759-8325-6146587075c5",
   "metadata": {},
   "outputs": [],
   "source": [
    "def etatSimplifieSuivant(station, d) :\n",
    "    # Passe d'un état simplifié à l'ordre, à nombre de tenders par file donné, selon l'ordre lexicographique décroissant pour les niveaux de charge\n",
    "    \n",
    "    station = station.copy()\n",
    "    \n",
    "    curFile = station.shape[0] - 1\n",
    "    \n",
    "    while curFile >= 0 :\n",
    "        if station[curFile, 1] >= 1 :\n",
    "            station[curFile, 1] -= 1\n",
    "            j = curFile + 1\n",
    "            while j < station.shape[0] and station[curFile, 0] == station[j, 0] :\n",
    "                station[j, 1] = station[curFile, 1]\n",
    "                j += 1\n",
    "            break\n",
    "        elif station[curFile, 0] != 0 :\n",
    "            station[curFile, 1] = d\n",
    "        curFile -= 1\n",
    "        \n",
    "    if curFile == -1 :\n",
    "        station = False\n",
    "    \n",
    "    return station"
   ]
  },
  {
   "cell_type": "code",
   "execution_count": 36,
   "id": "9ecc3720-6552-42cb-8b66-e8c22641d309",
   "metadata": {},
   "outputs": [],
   "source": [
    "def stationSimplifieeSuivante(station, d) :\n",
    "    # Permet de parcourir l'ensemble des états possibles pour une station sous forme simplifiee avec un nombre donné de tenders,\n",
    "    # sans répéter deux états équivalents. Parcourt la répartition des tenders par file selon l'ordre lexicographique\n",
    "    # décroissant.\n",
    "    \n",
    "    station = station.copy()\n",
    "    \n",
    "    if type(etatSimplifieSuivant(station, d)) != bool :\n",
    "        station = etatSimplifieSuivant(station, d)\n",
    "    else :\n",
    "        tenderParFile = station[:, 0]\n",
    "        if type(suiteSuivanteDecSumCst(tenderParFile)) == bool :\n",
    "            station = False\n",
    "        else :\n",
    "            tenderParFile = suiteSuivanteDecSumCst(tenderParFile)\n",
    "            station[:, 1] = d\n",
    "            station[:, 0] = tenderParFile\n",
    "    \n",
    "    return station"
   ]
  },
  {
   "cell_type": "code",
   "execution_count": 37,
   "id": "eeacf407-d3d5-46b3-a266-ae48e434b300",
   "metadata": {},
   "outputs": [
    {
     "name": "stdout",
     "output_type": "stream",
     "text": [
      "[[4 2]\n",
      " [0 0]]\n",
      "[[4 1]\n",
      " [0 0]]\n",
      "[[4 0]\n",
      " [0 0]]\n",
      "[[3 2]\n",
      " [1 2]]\n",
      "[[3 2]\n",
      " [1 1]]\n",
      "[[3 2]\n",
      " [1 0]]\n",
      "[[3 1]\n",
      " [1 2]]\n",
      "[[3 1]\n",
      " [1 1]]\n",
      "[[3 1]\n",
      " [1 0]]\n",
      "[[3 0]\n",
      " [1 2]]\n",
      "[[3 0]\n",
      " [1 1]]\n",
      "[[3 0]\n",
      " [1 0]]\n",
      "[[2 2]\n",
      " [2 2]]\n",
      "[[2 2]\n",
      " [2 1]]\n",
      "[[2 2]\n",
      " [2 0]]\n",
      "[[2 1]\n",
      " [2 1]]\n",
      "[[2 1]\n",
      " [2 0]]\n",
      "[[2 0]\n",
      " [2 0]]\n"
     ]
    }
   ],
   "source": [
    "etatSimplifie = simplifie([[2, 2, 2, 2], []])\n",
    "\n",
    "while type(etatSimplifie) != bool :\n",
    "    print(etatSimplifie)\n",
    "    etatSimplifie = stationSimplifieeSuivante(etatSimplifie, 2)"
   ]
  },
  {
   "cell_type": "markdown",
   "id": "3f180170-d236-4aa3-a85a-29204b9a7a1b",
   "metadata": {
    "jp-MarkdownHeadingCollapsed": true,
    "tags": []
   },
   "source": [
    "## Liste des stations"
   ]
  },
  {
   "cell_type": "code",
   "execution_count": 38,
   "id": "47530745-e038-44b3-ba0d-4306f0df6e4d",
   "metadata": {},
   "outputs": [],
   "source": [
    "def listAllStations(nTenders, nFiles, d, forme = 'simplifie') :\n",
    "    listStations = []\n",
    "    \n",
    "    if not forme in ['decode', 'encode', 'simplifie'] :\n",
    "        forme = 'simplifie'\n",
    "    \n",
    "    if forme == 'simplifie' :\n",
    "        station = np.zeros([nFiles, 2])\n",
    "        station[0, 0] = nTenders\n",
    "        station[0, 1] = d\n",
    "\n",
    "        while type(station) != bool :\n",
    "            listStations.append(station)\n",
    "            station = stationSimplifieeSuivante(station, d)\n",
    "\n",
    "    elif forme == 'encode' :\n",
    "        station = np.zeros([nFiles, d + 1])\n",
    "        station[0, 0] = nTenders\n",
    "\n",
    "        while type(station) != bool :\n",
    "            listStations.append(station)\n",
    "            station = stationEncodeeSuivante(station)\n",
    "    else :\n",
    "        station = padStation([[d] * nTenders] + [[]] * (nFiles - 1))\n",
    "\n",
    "        while type(station) != bool :\n",
    "            listStations.append(station)\n",
    "            station = stationDecodeeSuivante(station, d)\n",
    "    \n",
    "    listStations.append(False) # Indique erreur\n",
    "    \n",
    "    return listStations"
   ]
  },
  {
   "cell_type": "code",
   "execution_count": 39,
   "id": "ce82382c-53f2-4894-894e-7f8c0d29f0ca",
   "metadata": {},
   "outputs": [
    {
     "data": {
      "text/plain": [
       "[array([[4., 2.],\n",
       "        [0., 0.]]),\n",
       " array([[4., 1.],\n",
       "        [0., 0.]]),\n",
       " array([[4., 0.],\n",
       "        [0., 0.]]),\n",
       " array([[3., 2.],\n",
       "        [1., 2.]]),\n",
       " array([[3., 2.],\n",
       "        [1., 1.]]),\n",
       " array([[3., 2.],\n",
       "        [1., 0.]]),\n",
       " array([[3., 1.],\n",
       "        [1., 2.]]),\n",
       " array([[3., 1.],\n",
       "        [1., 1.]]),\n",
       " array([[3., 1.],\n",
       "        [1., 0.]]),\n",
       " array([[3., 0.],\n",
       "        [1., 2.]]),\n",
       " array([[3., 0.],\n",
       "        [1., 1.]]),\n",
       " array([[3., 0.],\n",
       "        [1., 0.]]),\n",
       " array([[2., 2.],\n",
       "        [2., 2.]]),\n",
       " array([[2., 2.],\n",
       "        [2., 1.]]),\n",
       " array([[2., 2.],\n",
       "        [2., 0.]]),\n",
       " array([[2., 1.],\n",
       "        [2., 1.]]),\n",
       " array([[2., 1.],\n",
       "        [2., 0.]]),\n",
       " array([[2., 0.],\n",
       "        [2., 0.]]),\n",
       " False]"
      ]
     },
     "execution_count": 39,
     "metadata": {},
     "output_type": "execute_result"
    }
   ],
   "source": [
    "listAllStations(4, 2, 2)"
   ]
  },
  {
   "cell_type": "code",
   "execution_count": 40,
   "id": "c10126a9-1328-495a-9fbe-a0676c358cdd",
   "metadata": {},
   "outputs": [
    {
     "data": {
      "text/plain": [
       "[array([[4., 0., 0.],\n",
       "        [0., 0., 0.]]),\n",
       " array([[3., 1., 0.],\n",
       "        [0., 0., 0.]]),\n",
       " array([[3., 0., 1.],\n",
       "        [0., 0., 0.]]),\n",
       " array([[2., 2., 0.],\n",
       "        [0., 0., 0.]]),\n",
       " array([[2., 1., 1.],\n",
       "        [0., 0., 0.]]),\n",
       " array([[2., 0., 2.],\n",
       "        [0., 0., 0.]]),\n",
       " array([[1., 3., 0.],\n",
       "        [0., 0., 0.]]),\n",
       " array([[1., 2., 1.],\n",
       "        [0., 0., 0.]]),\n",
       " array([[1., 1., 2.],\n",
       "        [0., 0., 0.]]),\n",
       " array([[1., 0., 3.],\n",
       "        [0., 0., 0.]]),\n",
       " array([[0., 4., 0.],\n",
       "        [0., 0., 0.]]),\n",
       " array([[0., 3., 1.],\n",
       "        [0., 0., 0.]]),\n",
       " array([[0., 2., 2.],\n",
       "        [0., 0., 0.]]),\n",
       " array([[0., 1., 3.],\n",
       "        [0., 0., 0.]]),\n",
       " array([[0., 0., 4.],\n",
       "        [0., 0., 0.]]),\n",
       " array([[3., 0., 0.],\n",
       "        [1., 0., 0.]]),\n",
       " array([[3., 0., 0.],\n",
       "        [0., 1., 0.]]),\n",
       " array([[3., 0., 0.],\n",
       "        [0., 0., 1.]]),\n",
       " array([[2., 1., 0.],\n",
       "        [1., 0., 0.]]),\n",
       " array([[2., 1., 0.],\n",
       "        [0., 1., 0.]]),\n",
       " array([[2., 1., 0.],\n",
       "        [0., 0., 1.]]),\n",
       " array([[2., 0., 1.],\n",
       "        [1., 0., 0.]]),\n",
       " array([[2., 0., 1.],\n",
       "        [0., 1., 0.]]),\n",
       " array([[2., 0., 1.],\n",
       "        [0., 0., 1.]]),\n",
       " array([[1., 2., 0.],\n",
       "        [1., 0., 0.]]),\n",
       " array([[1., 2., 0.],\n",
       "        [0., 1., 0.]]),\n",
       " array([[1., 2., 0.],\n",
       "        [0., 0., 1.]]),\n",
       " array([[1., 1., 1.],\n",
       "        [1., 0., 0.]]),\n",
       " array([[1., 1., 1.],\n",
       "        [0., 1., 0.]]),\n",
       " array([[1., 1., 1.],\n",
       "        [0., 0., 1.]]),\n",
       " array([[1., 0., 2.],\n",
       "        [1., 0., 0.]]),\n",
       " array([[1., 0., 2.],\n",
       "        [0., 1., 0.]]),\n",
       " array([[1., 0., 2.],\n",
       "        [0., 0., 1.]]),\n",
       " array([[0., 3., 0.],\n",
       "        [1., 0., 0.]]),\n",
       " array([[0., 3., 0.],\n",
       "        [0., 1., 0.]]),\n",
       " array([[0., 3., 0.],\n",
       "        [0., 0., 1.]]),\n",
       " array([[0., 2., 1.],\n",
       "        [1., 0., 0.]]),\n",
       " array([[0., 2., 1.],\n",
       "        [0., 1., 0.]]),\n",
       " array([[0., 2., 1.],\n",
       "        [0., 0., 1.]]),\n",
       " array([[0., 1., 2.],\n",
       "        [1., 0., 0.]]),\n",
       " array([[0., 1., 2.],\n",
       "        [0., 1., 0.]]),\n",
       " array([[0., 1., 2.],\n",
       "        [0., 0., 1.]]),\n",
       " array([[0., 0., 3.],\n",
       "        [1., 0., 0.]]),\n",
       " array([[0., 0., 3.],\n",
       "        [0., 1., 0.]]),\n",
       " array([[0., 0., 3.],\n",
       "        [0., 0., 1.]]),\n",
       " array([[2., 0., 0.],\n",
       "        [2., 0., 0.]]),\n",
       " array([[2., 0., 0.],\n",
       "        [1., 1., 0.]]),\n",
       " array([[2., 0., 0.],\n",
       "        [1., 0., 1.]]),\n",
       " array([[2., 0., 0.],\n",
       "        [0., 2., 0.]]),\n",
       " array([[2., 0., 0.],\n",
       "        [0., 1., 1.]]),\n",
       " array([[2., 0., 0.],\n",
       "        [0., 0., 2.]]),\n",
       " array([[1., 1., 0.],\n",
       "        [1., 1., 0.]]),\n",
       " array([[1., 1., 0.],\n",
       "        [1., 0., 1.]]),\n",
       " array([[1., 1., 0.],\n",
       "        [0., 2., 0.]]),\n",
       " array([[1., 1., 0.],\n",
       "        [0., 1., 1.]]),\n",
       " array([[1., 1., 0.],\n",
       "        [0., 0., 2.]]),\n",
       " array([[1., 0., 1.],\n",
       "        [1., 0., 1.]]),\n",
       " array([[1., 0., 1.],\n",
       "        [0., 2., 0.]]),\n",
       " array([[1., 0., 1.],\n",
       "        [0., 1., 1.]]),\n",
       " array([[1., 0., 1.],\n",
       "        [0., 0., 2.]]),\n",
       " array([[0., 2., 0.],\n",
       "        [0., 2., 0.]]),\n",
       " array([[0., 2., 0.],\n",
       "        [0., 1., 1.]]),\n",
       " array([[0., 2., 0.],\n",
       "        [0., 0., 2.]]),\n",
       " array([[0., 1., 1.],\n",
       "        [0., 1., 1.]]),\n",
       " array([[0., 1., 1.],\n",
       "        [0., 0., 2.]]),\n",
       " array([[0., 0., 2.],\n",
       "        [0., 0., 2.]]),\n",
       " False]"
      ]
     },
     "execution_count": 40,
     "metadata": {},
     "output_type": "execute_result"
    }
   ],
   "source": [
    "listAllStations(4, 2, 2, forme = 'encode')"
   ]
  },
  {
   "cell_type": "code",
   "execution_count": 41,
   "id": "d58a70e1-7e3c-4586-a5a8-6667770c4128",
   "metadata": {},
   "outputs": [
    {
     "data": {
      "text/plain": [
       "[array([[ 2,  2,  2,  2],\n",
       "        [-1, -1, -1, -1]]),\n",
       " array([[ 2,  2,  2,  1],\n",
       "        [-1, -1, -1, -1]]),\n",
       " array([[ 2,  2,  2,  0],\n",
       "        [-1, -1, -1, -1]]),\n",
       " array([[ 2,  2,  1,  1],\n",
       "        [-1, -1, -1, -1]]),\n",
       " array([[ 2,  2,  1,  0],\n",
       "        [-1, -1, -1, -1]]),\n",
       " array([[ 2,  2,  0,  0],\n",
       "        [-1, -1, -1, -1]]),\n",
       " array([[ 2,  1,  1,  1],\n",
       "        [-1, -1, -1, -1]]),\n",
       " array([[ 2,  1,  1,  0],\n",
       "        [-1, -1, -1, -1]]),\n",
       " array([[ 2,  1,  0,  0],\n",
       "        [-1, -1, -1, -1]]),\n",
       " array([[ 2,  0,  0,  0],\n",
       "        [-1, -1, -1, -1]]),\n",
       " array([[ 1,  1,  1,  1],\n",
       "        [-1, -1, -1, -1]]),\n",
       " array([[ 1,  1,  1,  0],\n",
       "        [-1, -1, -1, -1]]),\n",
       " array([[ 1,  1,  0,  0],\n",
       "        [-1, -1, -1, -1]]),\n",
       " array([[ 1,  0,  0,  0],\n",
       "        [-1, -1, -1, -1]]),\n",
       " array([[ 0,  0,  0,  0],\n",
       "        [-1, -1, -1, -1]]),\n",
       " array([[ 2,  2,  2, -1],\n",
       "        [ 2, -1, -1, -1]]),\n",
       " array([[ 2,  2,  2, -1],\n",
       "        [ 1, -1, -1, -1]]),\n",
       " array([[ 2,  2,  2, -1],\n",
       "        [ 0, -1, -1, -1]]),\n",
       " array([[ 2,  2,  1, -1],\n",
       "        [ 2, -1, -1, -1]]),\n",
       " array([[ 2,  2,  1, -1],\n",
       "        [ 1, -1, -1, -1]]),\n",
       " array([[ 2,  2,  1, -1],\n",
       "        [ 0, -1, -1, -1]]),\n",
       " array([[ 2,  2,  0, -1],\n",
       "        [ 2, -1, -1, -1]]),\n",
       " array([[ 2,  2,  0, -1],\n",
       "        [ 1, -1, -1, -1]]),\n",
       " array([[ 2,  2,  0, -1],\n",
       "        [ 0, -1, -1, -1]]),\n",
       " array([[ 2,  1,  1, -1],\n",
       "        [ 2, -1, -1, -1]]),\n",
       " array([[ 2,  1,  1, -1],\n",
       "        [ 1, -1, -1, -1]]),\n",
       " array([[ 2,  1,  1, -1],\n",
       "        [ 0, -1, -1, -1]]),\n",
       " array([[ 2,  1,  0, -1],\n",
       "        [ 2, -1, -1, -1]]),\n",
       " array([[ 2,  1,  0, -1],\n",
       "        [ 1, -1, -1, -1]]),\n",
       " array([[ 2,  1,  0, -1],\n",
       "        [ 0, -1, -1, -1]]),\n",
       " array([[ 2,  0,  0, -1],\n",
       "        [ 2, -1, -1, -1]]),\n",
       " array([[ 2,  0,  0, -1],\n",
       "        [ 1, -1, -1, -1]]),\n",
       " array([[ 2,  0,  0, -1],\n",
       "        [ 0, -1, -1, -1]]),\n",
       " array([[ 1,  1,  1, -1],\n",
       "        [ 2, -1, -1, -1]]),\n",
       " array([[ 1,  1,  1, -1],\n",
       "        [ 1, -1, -1, -1]]),\n",
       " array([[ 1,  1,  1, -1],\n",
       "        [ 0, -1, -1, -1]]),\n",
       " array([[ 1,  1,  0, -1],\n",
       "        [ 2, -1, -1, -1]]),\n",
       " array([[ 1,  1,  0, -1],\n",
       "        [ 1, -1, -1, -1]]),\n",
       " array([[ 1,  1,  0, -1],\n",
       "        [ 0, -1, -1, -1]]),\n",
       " array([[ 1,  0,  0, -1],\n",
       "        [ 2, -1, -1, -1]]),\n",
       " array([[ 1,  0,  0, -1],\n",
       "        [ 1, -1, -1, -1]]),\n",
       " array([[ 1,  0,  0, -1],\n",
       "        [ 0, -1, -1, -1]]),\n",
       " array([[ 0,  0,  0, -1],\n",
       "        [ 2, -1, -1, -1]]),\n",
       " array([[ 0,  0,  0, -1],\n",
       "        [ 1, -1, -1, -1]]),\n",
       " array([[ 0,  0,  0, -1],\n",
       "        [ 0, -1, -1, -1]]),\n",
       " array([[ 2,  2, -1, -1],\n",
       "        [ 2,  2, -1, -1]]),\n",
       " array([[ 2,  2, -1, -1],\n",
       "        [ 2,  1, -1, -1]]),\n",
       " array([[ 2,  2, -1, -1],\n",
       "        [ 2,  0, -1, -1]]),\n",
       " array([[ 2,  2, -1, -1],\n",
       "        [ 1,  1, -1, -1]]),\n",
       " array([[ 2,  2, -1, -1],\n",
       "        [ 1,  0, -1, -1]]),\n",
       " array([[ 2,  2, -1, -1],\n",
       "        [ 0,  0, -1, -1]]),\n",
       " array([[ 2,  1, -1, -1],\n",
       "        [ 2,  1, -1, -1]]),\n",
       " array([[ 2,  1, -1, -1],\n",
       "        [ 2,  0, -1, -1]]),\n",
       " array([[ 2,  1, -1, -1],\n",
       "        [ 1,  1, -1, -1]]),\n",
       " array([[ 2,  1, -1, -1],\n",
       "        [ 1,  0, -1, -1]]),\n",
       " array([[ 2,  1, -1, -1],\n",
       "        [ 0,  0, -1, -1]]),\n",
       " array([[ 2,  0, -1, -1],\n",
       "        [ 2,  0, -1, -1]]),\n",
       " array([[ 2,  0, -1, -1],\n",
       "        [ 1,  1, -1, -1]]),\n",
       " array([[ 2,  0, -1, -1],\n",
       "        [ 1,  0, -1, -1]]),\n",
       " array([[ 2,  0, -1, -1],\n",
       "        [ 0,  0, -1, -1]]),\n",
       " array([[ 1,  1, -1, -1],\n",
       "        [ 1,  1, -1, -1]]),\n",
       " array([[ 1,  1, -1, -1],\n",
       "        [ 1,  0, -1, -1]]),\n",
       " array([[ 1,  1, -1, -1],\n",
       "        [ 0,  0, -1, -1]]),\n",
       " array([[ 1,  0, -1, -1],\n",
       "        [ 1,  0, -1, -1]]),\n",
       " array([[ 1,  0, -1, -1],\n",
       "        [ 0,  0, -1, -1]]),\n",
       " array([[ 0,  0, -1, -1],\n",
       "        [ 0,  0, -1, -1]]),\n",
       " False]"
      ]
     },
     "execution_count": 41,
     "metadata": {},
     "output_type": "execute_result"
    }
   ],
   "source": [
    "listAllStations(4, 2, 2, forme = 'decode')"
   ]
  },
  {
   "cell_type": "markdown",
   "id": "e8efdfa0-6ba2-422c-b233-2df9105d01d6",
   "metadata": {
    "jp-MarkdownHeadingCollapsed": true,
    "tags": []
   },
   "source": [
    "## Rangement d'une station désordonnée"
   ]
  },
  {
   "cell_type": "markdown",
   "id": "609912f9-72ac-43ed-bd68-6fc1ceaa717c",
   "metadata": {
    "jp-MarkdownHeadingCollapsed": true,
    "tags": []
   },
   "source": [
    "### Station décodée"
   ]
  },
  {
   "cell_type": "markdown",
   "id": "2fa27180-e59f-4cc7-85fa-2d6bde3c6f0b",
   "metadata": {},
   "source": [
    "À faire"
   ]
  },
  {
   "cell_type": "markdown",
   "id": "95b9bed7-649c-4503-af90-94d43ebb3dc9",
   "metadata": {
    "jp-MarkdownHeadingCollapsed": true,
    "tags": []
   },
   "source": [
    "### Station encodée"
   ]
  },
  {
   "cell_type": "markdown",
   "id": "4a51bc6b-e9cb-40c0-840e-9d7e0ae7d4de",
   "metadata": {},
   "source": [
    "À faire"
   ]
  },
  {
   "cell_type": "markdown",
   "id": "54c18e7a-a984-4ebf-a21f-b52893c8a2c3",
   "metadata": {
    "jp-MarkdownHeadingCollapsed": true,
    "tags": []
   },
   "source": [
    "### Station simplifiée"
   ]
  },
  {
   "cell_type": "code",
   "execution_count": 42,
   "id": "ceaaf1c3-ba78-4072-ae2b-bc73fb3964c6",
   "metadata": {},
   "outputs": [],
   "source": [
    "def rangeStationSimplifiee(station) :\n",
    "    \n",
    "    station = station.copy()\n",
    "    \n",
    "    maxCharge = max(station[:, 1])\n",
    "    sortingTable = (maxCharge + 1) * station[:, 0] + station[:, 1]\n",
    "    \n",
    "    newIndices = np.argsort(sortingTable)\n",
    "    \n",
    "    station = station[newIndices[::-1], :]\n",
    "    \n",
    "    return station"
   ]
  },
  {
   "cell_type": "code",
   "execution_count": 43,
   "id": "ff9d8ace-f0ea-449a-ac80-611d9a0b5afa",
   "metadata": {},
   "outputs": [
    {
     "data": {
      "text/plain": [
       "array([[ 4,  2],\n",
       "       [ 2, 10],\n",
       "       [ 1,  3],\n",
       "       [ 1,  2]])"
      ]
     },
     "execution_count": 43,
     "metadata": {},
     "output_type": "execute_result"
    }
   ],
   "source": [
    "station = np.array([[4, 2], [1, 2], [1, 3], [2, 10]])\n",
    "station = rangeStationSimplifiee(station)\n",
    "station"
   ]
  },
  {
   "cell_type": "markdown",
   "id": "0bff68f7-6bd2-488d-bab7-871219c243dc",
   "metadata": {
    "tags": []
   },
   "source": [
    "## Algorithmes de décision"
   ]
  },
  {
   "cell_type": "markdown",
   "id": "fe0fa738-b2de-48b8-b533-5c57e3efc144",
   "metadata": {},
   "source": [
    "Il nous faut maintenant décider des algorithmes de décision pour le rangement et l'attribution des tenders. On peut modéliser ces algorithmes par des fonctions $f$ qui prennent en entrée l'état de la station, $S$, et renvoient $f(S)$, l'état de la station après y avoir ajouté le tender déchargé. Plusieurs tenders peuvent arriver en même temps, avec notre modèle, on devrait donc avoir une fonction $f(S, k)$ où $k$ est le nombre de tenders qui arrivent à une étape temporelle donnée, et la valeur prise est l'état de la station après y avoir rangé tous les tenders. Cependant, en pratique, on ne voit arriver qu'une voiture à la fois, et on n'anticipe pas quand les prochaines voitures arriveront, on décide donc de manière itérative : $f(f(S, k), 1) = f(S, k + 1)$ et on n'a donc besoin de connaître que $f(S) = f(S, 1)$.\n",
    "\n",
    "**On ne travaille pour l'instant qu'avec la version simplifiée des stations.**"
   ]
  },
  {
   "cell_type": "markdown",
   "id": "2da56937-4838-4821-971c-29adc402fbb2",
   "metadata": {},
   "source": [
    "### Algorithme glouton"
   ]
  },
  {
   "cell_type": "markdown",
   "id": "4fb4e55b-fb3d-4d1b-9357-37e66f95aa62",
   "metadata": {},
   "source": [
    "Un algorithme naïf, qu'on qualifiera de glouton, consiste à ranger les tenders là où ils dérangent le moins, c'est à dire dans la file où le tender accessible est le moins chargé (pour ne pas bloquer l'accès aux tenders plus chargés des autres files).\n",
    "\n",
    "De même les tenders sont prélevés dans la file contenant le moins de tenders parmi les files entièrement chargées.\n",
    "\n",
    "Cet algorithme consiste à maximiser la durée pour laquelle on est capable de servir l'offre dans le pire des cas possible (analogie avec la statistique : estimateur min-max). Pire veut dire : on suppose qu'à la période suivante, on a le plus grand nombre de clients qu'on est capable de servir si on a fait le choix le plus favorable - puis, parmi les choix compatibles, à la période suivante, on suppose qu'on a le plus grand nombre de clients possibles, etc.\n",
    "Dans la même logique, vider en priorité les files les moins remplies permet de les libérer plus vite. Ainsi, si toutes les files venaient à être remplies et chargées, nous en libérerions une plus vite et aurions donc moins de chance de devoir 'sacrifier' des tenders déjà chargés.\n",
    "\n",
    "**N.B. : pas très compliqué de montrer que comportement cyclique - on prend toujours dans la même file, et on range toujours dans la même file (une fois toutes les files rendues non-vides), jusqu'à ce qu'on ait vidé la première file. Alors on se met à la remplir et on prélève dans une autre file (si possible)**"
   ]
  },
  {
   "cell_type": "code",
   "execution_count": 44,
   "id": "0d2591b2-6860-4cb9-b572-26778aec1473",
   "metadata": {},
   "outputs": [],
   "source": [
    "def rangementGloutonSimplifie(station) :\n",
    "    \n",
    "    station = station.copy()\n",
    "    \n",
    "    curFile = station.shape[0] - 1\n",
    "    \n",
    "    while curFile >= 0 and station[curFile, 0] == 0 :\n",
    "        curFile -= 1\n",
    "    \n",
    "    if curFile == -1 :\n",
    "        station[0, 0] = 1\n",
    "    else :\n",
    "        minCharge = min(station[:(curFile+1), 1])\n",
    "        while station[curFile, 1] != minCharge :\n",
    "            curFile -= 1\n",
    "        \n",
    "        station[curFile, 1] = 0\n",
    "        station[curFile, 0] += 1\n",
    "        station = rangeStationSimplifiee(station)\n",
    "    \n",
    "    return station"
   ]
  },
  {
   "cell_type": "code",
   "execution_count": 45,
   "id": "0f1c1987-19f8-4eb2-870e-aec1333794b1",
   "metadata": {},
   "outputs": [
    {
     "data": {
      "text/plain": [
       "array([[ 4,  2],\n",
       "       [ 2, 10],\n",
       "       [ 1,  3],\n",
       "       [ 1,  2]])"
      ]
     },
     "execution_count": 45,
     "metadata": {},
     "output_type": "execute_result"
    }
   ],
   "source": [
    "station"
   ]
  },
  {
   "cell_type": "code",
   "execution_count": 46,
   "id": "3276e44c-aa07-4889-bc64-6d6658e1827c",
   "metadata": {},
   "outputs": [
    {
     "data": {
      "text/plain": [
       "array([[ 4,  2],\n",
       "       [ 2, 10],\n",
       "       [ 2,  0],\n",
       "       [ 1,  3]])"
      ]
     },
     "execution_count": 46,
     "metadata": {},
     "output_type": "execute_result"
    }
   ],
   "source": [
    "rangementGloutonSimplifie(station)"
   ]
  },
  {
   "cell_type": "code",
   "execution_count": 59,
   "id": "7be2f0d1-ea31-4b74-93d6-52ddf935c788",
   "metadata": {},
   "outputs": [],
   "source": [
    "def donGloutonSimplifie(station, d) :\n",
    "    \n",
    "    station = station.copy()\n",
    "    \n",
    "    curFile = station.shape[0] - 1\n",
    "    \n",
    "    while curFile >= 0 and station[curFile, 1] != d :\n",
    "        curFile -= 1\n",
    "    \n",
    "    if curFile == -1 :\n",
    "        station = False\n",
    "    else :\n",
    "        station[curFile, 0] -= 1\n",
    "        if station[curFile, 0] == 0 :\n",
    "            station[curFile, 1] = 0\n",
    "    \n",
    "        station = rangeStationSimplifiee(station)\n",
    "    \n",
    "    return station"
   ]
  },
  {
   "cell_type": "code",
   "execution_count": 48,
   "id": "0746a8cf-aff3-4206-ac35-6b861878752c",
   "metadata": {},
   "outputs": [
    {
     "data": {
      "text/plain": [
       "array([[ 4,  2],\n",
       "       [ 1, 10],\n",
       "       [ 1,  3],\n",
       "       [ 1,  2]])"
      ]
     },
     "execution_count": 48,
     "metadata": {},
     "output_type": "execute_result"
    }
   ],
   "source": [
    "donGloutonSimplifie(station, 10)"
   ]
  },
  {
   "cell_type": "markdown",
   "id": "89adf4c9-b5f8-4f59-980d-b4fe2f304a8b",
   "metadata": {},
   "source": [
    "## Création de la matrice de transition"
   ]
  },
  {
   "cell_type": "markdown",
   "id": "c4ef8de0-8feb-4f23-b4c2-3adb2eaa26eb",
   "metadata": {},
   "source": [
    "Pour rappel, l'écart entre la date d'arrivée de la $i$-ième voiture et celle de la $(i+1)$-ième suit une loi géométrique de paramètre $\\lambda$. Pour simplifier, on change (de manière équivalente) le déroulement de chaque étape temporelle comme suit :\n",
    "1. Les nouvelles voitures clientes arrivent et des tenders chargés leur sont attribués.\n",
    "2. Tous les tenders dans la station gagnent un niveau de charge, pour un niveau maximum de $d$.\n",
    "3. Les tenders partis reviennent et sont rangés dans la station.\n",
    "4. Si la demande a pu être satisfaite, on passe au temps suivant.\n",
    "\n",
    "Pour obtenir une chaîne de Markov irréductible, on crée un nouvel état, False, qui dénote que la demande n'a pas pu être satisfaite, et à partir de cet état on repart vers un état arbitraire. On cherche donc le temps moyen pour atteindre False."
   ]
  },
  {
   "cell_type": "code",
   "execution_count": 49,
   "id": "8fb5fc57-6189-4d18-8f6f-458a92cd93d3",
   "metadata": {},
   "outputs": [],
   "source": [
    "rng = np.random.default_rng(1964)"
   ]
  },
  {
   "cell_type": "code",
   "execution_count": 57,
   "id": "d0d28aa6-8e64-4edd-8672-28145956eb30",
   "metadata": {},
   "outputs": [],
   "source": [
    "def createTransitionMatrix(listeEtat, ajout, retrait, charge, lbd) :\n",
    "    \n",
    "    transitionMatrix = np.zeros([len(listeEtat)] * 2)\n",
    "    \n",
    "    for i in range(len(listeEtat) - 1) :\n",
    "        curStation = listeEtat[i]\n",
    "        nClients = 0\n",
    "        curProb = lbd\n",
    "        \n",
    "        while type(curStation) != bool :\n",
    "            ghostStation = charge(curStation)\n",
    "            for k in range(nClients) :\n",
    "                ghostStation = ajout(ghostStation)\n",
    "            j = 0\n",
    "            while not (listeEtat[j] == ghostStation).all() :\n",
    "                j += 1\n",
    "            transitionMatrix[i, j] += curProb # Même si on reviendra pas deux fois au même état\n",
    "            curProb *= (1 - lbd)\n",
    "            nClients += 1\n",
    "            curStation = retrait(curStation)\n",
    "        \n",
    "        transitionMatrix[i, len(listeEtat) - 1] = 1 - np.sum(transitionMatrix[i, :])\n",
    "        \n",
    "    return transitionMatrix"
   ]
  },
  {
   "cell_type": "code",
   "execution_count": 51,
   "id": "d3d9d927-d606-476e-98c1-10fef1b0f5ab",
   "metadata": {},
   "outputs": [
    {
     "data": {
      "text/plain": [
       "array([[3, 2],\n",
       "       [1, 2]])"
      ]
     },
     "execution_count": 51,
     "metadata": {},
     "output_type": "execute_result"
    }
   ],
   "source": [
    "np.array([[3, 2], [1, 2]])"
   ]
  },
  {
   "cell_type": "code",
   "execution_count": 61,
   "id": "c8300e3e-495e-4114-bc9e-607bee3fed69",
   "metadata": {},
   "outputs": [
    {
     "name": "stdout",
     "output_type": "stream",
     "text": [
      "[[0.5     0.      0.46875 0.      0.      0.      0.      0.      0.\n",
      "  0.      0.      0.      0.      0.      0.      0.      0.      0.\n",
      "  0.03125]\n",
      " [0.5     0.      0.      0.      0.      0.      0.      0.      0.\n",
      "  0.      0.      0.      0.      0.      0.      0.      0.      0.\n",
      "  0.5    ]\n",
      " [0.      0.5     0.      0.      0.      0.      0.      0.      0.\n",
      "  0.      0.      0.      0.      0.      0.      0.      0.      0.\n",
      "  0.5    ]\n",
      " [0.      0.      0.46875 0.5     0.      0.      0.      0.      0.\n",
      "  0.      0.      0.      0.      0.      0.      0.      0.      0.\n",
      "  0.03125]\n",
      " [0.      0.      0.0625  0.5     0.      0.      0.      0.      0.\n",
      "  0.125   0.      0.      0.      0.      0.25    0.      0.      0.\n",
      "  0.0625 ]\n",
      " [0.      0.      0.0625  0.      0.5     0.      0.      0.      0.\n",
      "  0.125   0.      0.      0.      0.      0.25    0.      0.      0.\n",
      "  0.0625 ]\n",
      " [0.      0.      0.25    0.5     0.      0.      0.      0.      0.\n",
      "  0.      0.      0.      0.      0.      0.      0.      0.      0.\n",
      "  0.25   ]\n",
      " [0.      0.      0.      0.5     0.      0.      0.      0.      0.\n",
      "  0.      0.      0.      0.      0.      0.      0.      0.      0.\n",
      "  0.5    ]\n",
      " [0.      0.      0.      0.      0.5     0.      0.      0.      0.\n",
      "  0.      0.      0.      0.      0.      0.      0.      0.      0.\n",
      "  0.5    ]\n",
      " [0.      0.      0.25    0.      0.      0.      0.5     0.      0.\n",
      "  0.      0.      0.      0.      0.      0.      0.      0.      0.\n",
      "  0.25   ]\n",
      " [0.      0.      0.      0.      0.      0.      0.5     0.      0.\n",
      "  0.      0.      0.      0.      0.      0.      0.      0.      0.\n",
      "  0.5    ]\n",
      " [0.      0.      0.      0.      0.      0.      0.      0.5     0.\n",
      "  0.      0.      0.      0.      0.      0.      0.      0.      0.\n",
      "  0.5    ]\n",
      " [0.      0.      0.21875 0.      0.      0.      0.      0.      0.\n",
      "  0.      0.      0.      0.5     0.      0.25    0.      0.      0.\n",
      "  0.03125]\n",
      " [0.      0.      0.125   0.      0.      0.      0.      0.      0.\n",
      "  0.      0.      0.      0.5     0.      0.25    0.      0.      0.\n",
      "  0.125  ]\n",
      " [0.      0.      0.125   0.      0.      0.      0.      0.      0.\n",
      "  0.25    0.      0.      0.      0.5     0.      0.      0.      0.\n",
      "  0.125  ]\n",
      " [0.      0.      0.      0.      0.      0.      0.      0.      0.\n",
      "  0.      0.      0.      0.5     0.      0.      0.      0.      0.\n",
      "  0.5    ]\n",
      " [0.      0.      0.      0.      0.      0.      0.      0.      0.\n",
      "  0.      0.      0.      0.      0.5     0.      0.      0.      0.\n",
      "  0.5    ]\n",
      " [0.      0.      0.      0.      0.      0.      0.      0.      0.\n",
      "  0.      0.      0.      0.      0.      0.      0.5     0.      0.\n",
      "  0.5    ]\n",
      " [0.      0.      0.      0.      0.      0.      0.      0.      0.\n",
      "  0.      0.      0.      0.      0.      0.      0.      0.      0.\n",
      "  0.     ]]\n"
     ]
    }
   ],
   "source": [
    "nTenders = 4\n",
    "nFiles = 2\n",
    "d = 2\n",
    "listeEtat = listAllStations(nTenders, nFiles, d)\n",
    "ajout = rangementGloutonSimplifie\n",
    "retrait = lambda x : donGloutonSimplifie(x, d)\n",
    "charge = lambda x : chargeSimplifie(x, d)\n",
    "lbd = 1/2\n",
    "M = createTransitionMatrix(listeEtat, ajout, retrait, charge, lbd)\n",
    "print(M)"
   ]
  },
  {
   "cell_type": "code",
   "execution_count": 63,
   "id": "93abe9ba-6a57-47c0-8287-a3f74eb6b305",
   "metadata": {},
   "outputs": [
    {
     "name": "stdout",
     "output_type": "stream",
     "text": [
      "Help on function solve in module numpy.linalg:\n",
      "\n",
      "solve(a, b)\n",
      "    Solve a linear matrix equation, or system of linear scalar equations.\n",
      "    \n",
      "    Computes the \"exact\" solution, `x`, of the well-determined, i.e., full\n",
      "    rank, linear matrix equation `ax = b`.\n",
      "    \n",
      "    Parameters\n",
      "    ----------\n",
      "    a : (..., M, M) array_like\n",
      "        Coefficient matrix.\n",
      "    b : {(..., M,), (..., M, K)}, array_like\n",
      "        Ordinate or \"dependent variable\" values.\n",
      "    \n",
      "    Returns\n",
      "    -------\n",
      "    x : {(..., M,), (..., M, K)} ndarray\n",
      "        Solution to the system a x = b.  Returned shape is identical to `b`.\n",
      "    \n",
      "    Raises\n",
      "    ------\n",
      "    LinAlgError\n",
      "        If `a` is singular or not square.\n",
      "    \n",
      "    See Also\n",
      "    --------\n",
      "    scipy.linalg.solve : Similar function in SciPy.\n",
      "    \n",
      "    Notes\n",
      "    -----\n",
      "    \n",
      "    .. versionadded:: 1.8.0\n",
      "    \n",
      "    Broadcasting rules apply, see the `numpy.linalg` documentation for\n",
      "    details.\n",
      "    \n",
      "    The solutions are computed using LAPACK routine ``_gesv``.\n",
      "    \n",
      "    `a` must be square and of full-rank, i.e., all rows (or, equivalently,\n",
      "    columns) must be linearly independent; if either is not true, use\n",
      "    `lstsq` for the least-squares best \"solution\" of the\n",
      "    system/equation.\n",
      "    \n",
      "    References\n",
      "    ----------\n",
      "    .. [1] G. Strang, *Linear Algebra and Its Applications*, 2nd Ed., Orlando,\n",
      "           FL, Academic Press, Inc., 1980, pg. 22.\n",
      "    \n",
      "    Examples\n",
      "    --------\n",
      "    Solve the system of equations ``x0 + 2 * x1 = 1`` and ``3 * x0 + 5 * x1 = 2``:\n",
      "    \n",
      "    >>> a = np.array([[1, 2], [3, 5]])\n",
      "    >>> b = np.array([1, 2])\n",
      "    >>> x = np.linalg.solve(a, b)\n",
      "    >>> x\n",
      "    array([-1.,  1.])\n",
      "    \n",
      "    Check that the solution is correct:\n",
      "    \n",
      "    >>> np.allclose(np.dot(a, x), b)\n",
      "    True\n",
      "\n"
     ]
    }
   ],
   "source": [
    "help(np.linalg.solve)"
   ]
  },
  {
   "cell_type": "code",
   "execution_count": 64,
   "id": "ce2be7ff-e763-419e-adb5-a1553d6bd0ef",
   "metadata": {},
   "outputs": [
    {
     "ename": "SyntaxError",
     "evalue": "incomplete input (3063183419.py, line 3)",
     "output_type": "error",
     "traceback": [
      "\u001b[0;36m  Cell \u001b[0;32mIn[64], line 3\u001b[0;36m\u001b[0m\n\u001b[0;31m    np.linalg.solve(M,\u001b[0m\n\u001b[0m                       ^\u001b[0m\n\u001b[0;31mSyntaxError\u001b[0m\u001b[0;31m:\u001b[0m incomplete input\n"
     ]
    }
   ],
   "source": [
    "b = np.array([1] * (M.shape[0] - 1) + [0])\n",
    "\n",
    "np.linalg.solve(M, "
   ]
  }
 ],
 "metadata": {
  "kernelspec": {
   "display_name": "Python 3 (ipykernel)",
   "language": "python",
   "name": "python3"
  },
  "language_info": {
   "codemirror_mode": {
    "name": "ipython",
    "version": 3
   },
   "file_extension": ".py",
   "mimetype": "text/x-python",
   "name": "python",
   "nbconvert_exporter": "python",
   "pygments_lexer": "ipython3",
   "version": "3.10.4"
  }
 },
 "nbformat": 4,
 "nbformat_minor": 5
}
