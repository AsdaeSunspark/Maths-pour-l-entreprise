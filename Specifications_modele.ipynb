{
 "cells": [
  {
   "cell_type": "markdown",
   "id": "e70e0fd3-9355-403e-b82c-166a46350123",
   "metadata": {},
   "source": [
    "# EP Tender : simulation par chaînes de Markov"
   ]
  },
  {
   "cell_type": "markdown",
   "id": "e635e44b-8eaa-4eb2-85c7-00220446fd35",
   "metadata": {
    "tags": []
   },
   "source": [
    "## Description du modèle"
   ]
  },
  {
   "cell_type": "markdown",
   "id": "c1e4ee58-6326-4dbe-8652-5616bc7a3bc6",
   "metadata": {},
   "source": [
    "On considère une station comportant $f$ files, pour un total de $N$ tenders en circulation. Chaque tender comporte $d + 1$ états de charge, numérotés de 0 à $d$. À 0 un tender est complètement déchargé, et à $d$ il est complètement chargé.\n",
    "\n",
    "On utilise un modèle à temps discret.\n",
    "\n",
    "Les voitures clientes arrivent de sorte que l'écart temporel entre la $i$-ième voiture et la $(i+1)$-ième est de loi géométrique de paramètre $\\lambda$. Lorsqu'elles arrivent elles doivent prendre un tender complètement chargé qu'elles ramènent complètement déchargé au début de l'étape suivante.\n",
    "\n",
    "Fatalement, un jour plus de $N$ voitures arriveront en même temps et alors la demande ne pourra pas être satisfaite. On note $T_\\mathrm{bug}$ le premier temps où la demande en Tender est insatisfaite et on s'intéresse à son espérance. On cherche à trouver, pour un processus de rangement et de sélection des tenders donné, l'espérance de $T_\\mathrm{bug}$, qu'on souhaite maximal.\n",
    "\n",
    "Chaque étape temporelle se déroule comme suit :\n",
    "1. Tous les tenders dans la station gagnent un niveau de charge, pour un niveau maximum de $d$.\n",
    "2. Les tenders partis à l'étape précédente sont rangés dans la station.\n",
    "3. Les nouvelles voitures clientes arrivent et des tenders chargés leur sont attribués.\n",
    "4. Si la demande a pu être satisfaite, on passe au temps suivant."
   ]
  },
  {
   "cell_type": "markdown",
   "id": "c4c679df-9f5c-4814-8355-f9ffc84e9ac3",
   "metadata": {
    "tags": []
   },
   "source": [
    "## Importation des modules"
   ]
  },
  {
   "cell_type": "code",
   "execution_count": null,
   "id": "d5b84098-d0f4-4e72-8a55-cb4848ec5765",
   "metadata": {},
   "outputs": [],
   "source": [
    "import numpy as np\n",
    "import matplotlib.pyplot as plt"
   ]
  },
  {
   "cell_type": "markdown",
   "id": "c1ab26a5-2ba2-4c9d-ac56-69ed1e053dfd",
   "metadata": {
    "tags": []
   },
   "source": [
    "## Encodage des états de la station"
   ]
  },
  {
   "cell_type": "markdown",
   "id": "24f3b032-3c60-4078-8cc2-115667f641a4",
   "metadata": {},
   "source": [
    "On remarque tout d'abord qu'on ne peut accéder aux tenders les plus loins dans une file qu'une fois le premier tender parti : il devra donc avoir été entièrement rechargé, et tous ceux arrivés antérieurement le seront de même. Les seules informations pertinentes pour une file sont donc le nombre de tenders présents, et le niveau de charge du plus récemment arrivé.  \n",
    "  \n",
    "On encodera donc dans la suite les stations sous la forme de matrice de taille $f \\times 2$, où la première colonne désigne le nombre de tenders dans chaque station et la seconde colonne le niveau de charge du tender le plus récemment arrivé pour chaque file.  \n",
    "Comme on peut permuter les files sans affecter la capacité à servir la demande, on se restreint aux états pour lesquels les files sont de longueurs décroissantes (et, au sein des files de même longueur, de niveau de charge décroissant)."
   ]
  },
  {
   "cell_type": "markdown",
   "id": "e6f39251-c91f-4777-9b03-42f1de9bb2c6",
   "metadata": {
    "tags": []
   },
   "source": [
    "## Charge des tenders"
   ]
  },
  {
   "cell_type": "markdown",
   "id": "2dbf9cab-b7bb-4d52-bd13-bb009e66c0cb",
   "metadata": {},
   "source": [
    "L'algorithme de charge s'écrit simplement dans le cas où les files chargent tous les tenders en même temps."
   ]
  },
  {
   "cell_type": "code",
   "execution_count": null,
   "id": "aa6b280e-dc51-4777-8a5a-0755fbc898f9",
   "metadata": {},
   "outputs": [],
   "source": [
    "def chargeSimplifie(station, d) :\n",
    "    # Renvoie la même station simplifiée après que tous les tenders aient été chargés de 1\n",
    "    \n",
    "    station = station.copy()\n",
    "        \n",
    "    for i in range(station.shape[0]) :\n",
    "        if station[i, 0] != 0 and station[i, 1] != d :\n",
    "            station[i, 1] += 1\n",
    "    \n",
    "    return station"
   ]
  },
  {
   "cell_type": "markdown",
   "id": "ed34d086-cec0-4ac3-91f2-4d92818b7bcd",
   "metadata": {
    "tags": []
   },
   "source": [
    "## Liste des stations"
   ]
  },
  {
   "cell_type": "markdown",
   "id": "7956a5fc-c1f3-4ada-bef4-424fcc734d08",
   "metadata": {},
   "source": [
    "On peut désormais lister l'ensemble des états possibles pour les stations."
   ]
  },
  {
   "cell_type": "markdown",
   "id": "537890b7-590b-40d3-a811-435a56433e75",
   "metadata": {
    "tags": []
   },
   "source": [
    "### Parcours d'ensembles de suite dans l'ordre lexicographique décroissant"
   ]
  },
  {
   "cell_type": "markdown",
   "id": "26e4c755-3ad2-434c-acff-82cbb17ba1f6",
   "metadata": {},
   "source": [
    "Dans la suite, nous allons avoir besoin de fonctions élémentaires permettant de parcourir, dans l'ordre lexicographique décroissant, l'ensemble des suites vérifiant des contraintes données."
   ]
  },
  {
   "cell_type": "code",
   "execution_count": null,
   "id": "ff6c0ff7-712e-40bd-8270-a43145913ff4",
   "metadata": {},
   "outputs": [],
   "source": [
    "def suiteSuivanteDecSumCst(l) :\n",
    "    # Permet de parcourir l'ensemble des suites décroissantes de longueur et somme données, selon l'ordre lexicographique\n",
    "    # décroissant. Renvoie False quand on a atteint le dernier état.\n",
    "    \n",
    "    l = l.copy()\n",
    "    i = len(l) - 1\n",
    "    curSum = 1\n",
    "    \n",
    "    while i >= 0 and curSum > (l[i] - 1) * (len(l) - 1 - i):\n",
    "        curSum += l[i]\n",
    "        i -= 1\n",
    "    \n",
    "    if i >= 0 :\n",
    "        l[i] -= 1\n",
    "        j = i + 1\n",
    "        while curSum > 0 :\n",
    "            l[j] = min([curSum, l[i]])\n",
    "            curSum -= l[j]\n",
    "            j += 1\n",
    "        while j < len(l) :\n",
    "            l[j] = 0\n",
    "            j += 1\n",
    "    else :\n",
    "        l = False\n",
    "    \n",
    "    return l    "
   ]
  },
  {
   "cell_type": "markdown",
   "id": "93ba3f6c-94b1-4796-942d-f43506776f4a",
   "metadata": {
    "tags": []
   },
   "source": [
    "### D'un état à l'autre, avec les tailles de file fixées"
   ]
  },
  {
   "cell_type": "code",
   "execution_count": null,
   "id": "b5a5d20d-6c58-4759-8325-6146587075c5",
   "metadata": {
    "tags": []
   },
   "outputs": [],
   "source": [
    "def etatSimplifieSuivant(station, d) :\n",
    "    # Passe d'un état simplifié à l'autre, à nombre de tenders par file donné, selon\n",
    "    # l'ordre lexicographique décroissant pour les niveaux de charge\n",
    "    \n",
    "    station = station.copy()\n",
    "    \n",
    "    curFile = station.shape[0] - 1\n",
    "    \n",
    "    while curFile >= 0 :\n",
    "        if station[curFile, 1] >= 1 :\n",
    "            station[curFile, 1] -= 1\n",
    "            j = curFile + 1\n",
    "            while j < station.shape[0] and station[curFile, 0] == station[j, 0] :\n",
    "                station[j, 1] = station[curFile, 1]\n",
    "                j += 1\n",
    "            break\n",
    "        elif station[curFile, 0] != 0 :\n",
    "            station[curFile, 1] = d\n",
    "        curFile -= 1\n",
    "        \n",
    "    if curFile == -1 :\n",
    "        station = False\n",
    "    \n",
    "    return station"
   ]
  },
  {
   "cell_type": "markdown",
   "id": "39dbe7d6-4e79-46f1-88a3-336a510af331",
   "metadata": {
    "tags": []
   },
   "source": [
    "### D'un état à l'autre"
   ]
  },
  {
   "cell_type": "code",
   "execution_count": null,
   "id": "9ecc3720-6552-42cb-8b66-e8c22641d309",
   "metadata": {},
   "outputs": [],
   "source": [
    "def stationSimplifieeSuivante(station, d) :\n",
    "    # Permet de parcourir l'ensemble des états possibles pour une station sous forme\n",
    "    # simplifiee avec un nombre donné de tenders, sans répéter deux états équivalents.\n",
    "    # Parcourt la répartition des tenders par file selon l'ordre lexicographique\n",
    "    # décroissant.\n",
    "    \n",
    "    station = station.copy()\n",
    "    \n",
    "    if type(etatSimplifieSuivant(station, d)) != bool :\n",
    "        station = etatSimplifieSuivant(station, d)\n",
    "    else :\n",
    "        tenderParFile = station[:, 0]\n",
    "        if type(suiteSuivanteDecSumCst(tenderParFile)) == bool :\n",
    "            station = False\n",
    "        else :\n",
    "            tenderParFile = suiteSuivanteDecSumCst(tenderParFile)\n",
    "            station[:, 0] = tenderParFile\n",
    "            for i in range(station.shape[0]) :\n",
    "                if tenderParFile[i] != 0 :\n",
    "                    station[i, 1] = d\n",
    "                else :\n",
    "                    station[i, 1] = 0\n",
    "    \n",
    "    return station"
   ]
  },
  {
   "cell_type": "markdown",
   "id": "3f180170-d236-4aa3-a85a-29204b9a7a1b",
   "metadata": {
    "tags": []
   },
   "source": [
    "### Liste des stations"
   ]
  },
  {
   "cell_type": "code",
   "execution_count": null,
   "id": "47530745-e038-44b3-ba0d-4306f0df6e4d",
   "metadata": {
    "tags": []
   },
   "outputs": [],
   "source": [
    "def listAllStations(nTenders, nFiles, d) :\n",
    "    \n",
    "    listStations = []\n",
    "    \n",
    "    station = np.zeros([nFiles, 2])\n",
    "    station[0, 0] = nTenders\n",
    "    station[0, 1] = d\n",
    "\n",
    "    while type(station) != bool :\n",
    "        listStations.append(station)\n",
    "        station = stationSimplifieeSuivante(station, d)\n",
    "    \n",
    "    listStations.append(False) # Indique erreur\n",
    "    \n",
    "    return listStations"
   ]
  },
  {
   "cell_type": "code",
   "execution_count": null,
   "id": "0d843d08-cea7-42ef-bb14-15ed07341b64",
   "metadata": {
    "tags": []
   },
   "outputs": [],
   "source": [
    "listAllStations(2, 3, 1)"
   ]
  },
  {
   "cell_type": "code",
   "execution_count": null,
   "id": "4336c4fa-4455-47fd-941c-12543344bc4e",
   "metadata": {
    "tags": []
   },
   "outputs": [],
   "source": [
    "listAllStations(4, 2, 2)"
   ]
  },
  {
   "cell_type": "markdown",
   "id": "e8efdfa0-6ba2-422c-b233-2df9105d01d6",
   "metadata": {
    "tags": []
   },
   "source": [
    "## Rangement d'une station désordonnée"
   ]
  },
  {
   "cell_type": "markdown",
   "id": "53d6c3f2-62e1-4e44-9834-a3cfc9401a06",
   "metadata": {},
   "source": [
    "Le rangement de tenders dans une file peut conduire la station à ne plus avoir ses files dans l'ordre décroissant. Il faut donc être capable de remettre la station dans l'ordre."
   ]
  },
  {
   "cell_type": "code",
   "execution_count": null,
   "id": "ceaaf1c3-ba78-4072-ae2b-bc73fb3964c6",
   "metadata": {
    "tags": []
   },
   "outputs": [],
   "source": [
    "def rangeStationSimplifiee(station) :\n",
    "    \n",
    "    station = station.copy()\n",
    "    \n",
    "    maxCharge = max(station[:, 1])\n",
    "    sortingTable = (maxCharge + 1) * station[:, 0] + station[:, 1]\n",
    "    \n",
    "    newIndices = np.argsort(sortingTable)\n",
    "    \n",
    "    station = station[newIndices[::-1], :]\n",
    "    \n",
    "    return station"
   ]
  },
  {
   "cell_type": "markdown",
   "id": "0bff68f7-6bd2-488d-bab7-871219c243dc",
   "metadata": {
    "tags": []
   },
   "source": [
    "## Algorithmes de décision"
   ]
  },
  {
   "cell_type": "markdown",
   "id": "fe0fa738-b2de-48b8-b533-5c57e3efc144",
   "metadata": {},
   "source": [
    "Il nous faut maintenant décider des algorithmes de décision pour le rangement et l'attribution des tenders. On peut modéliser ces algorithmes par des fonctions $f$ qui prennent en entrée l'état de la station, $S$, et renvoient $f(S)$, l'état de la station après y avoir ajouté le tender déchargé. Plusieurs tenders peuvent arriver en même temps, avec notre modèle, on devrait donc avoir une fonction $f(S, k)$ où $k$ est le nombre de tenders qui arrivent à une étape temporelle donnée, et la valeur prise est l'état de la station après y avoir rangé tous les tenders. Cependant, en pratique, on ne voit arriver qu'une voiture à la fois, et on n'anticipe pas quand les prochaines voitures arriveront, on décide donc de manière itérative : $f(f(S, k), 1) = f(S, k + 1)$ et on n'a donc besoin de connaître que $f(S) = f(S, 1)$."
   ]
  },
  {
   "cell_type": "markdown",
   "id": "2da56937-4838-4821-971c-29adc402fbb2",
   "metadata": {},
   "source": [
    "### Algorithme glouton"
   ]
  },
  {
   "cell_type": "markdown",
   "id": "4fb4e55b-fb3d-4d1b-9357-37e66f95aa62",
   "metadata": {},
   "source": [
    "On code ici l'algorithme glouton détaillé dans le rapport."
   ]
  },
  {
   "cell_type": "code",
   "execution_count": null,
   "id": "0d2591b2-6860-4cb9-b572-26778aec1473",
   "metadata": {
    "tags": []
   },
   "outputs": [],
   "source": [
    "def rangementGloutonSimplifie(station) :\n",
    "    \n",
    "    station = station.copy()\n",
    "    \n",
    "    curFile = station.shape[0] - 1\n",
    "    \n",
    "    if station[curFile, 0] == 0 :\n",
    "        station[curFile, 0] += 1\n",
    "    else :\n",
    "        minCharge = min(station[:(curFile+1), 1])\n",
    "        while station[curFile, 1] != minCharge :\n",
    "            curFile -= 1\n",
    "        station[curFile, 1] = 0\n",
    "        station[curFile, 0] += 1\n",
    "        \n",
    "    station = rangeStationSimplifiee(station)\n",
    "    \n",
    "    return station"
   ]
  },
  {
   "cell_type": "code",
   "execution_count": null,
   "id": "7be2f0d1-ea31-4b74-93d6-52ddf935c788",
   "metadata": {
    "tags": []
   },
   "outputs": [],
   "source": [
    "def donGloutonSimplifie(station, d) :\n",
    "    \n",
    "    station = station.copy()\n",
    "    \n",
    "    curFile = station.shape[0] - 1\n",
    "    \n",
    "    while curFile >= 0 and station[curFile, 1] != d :\n",
    "        curFile -= 1\n",
    "    \n",
    "    if curFile == -1 :\n",
    "        station = False\n",
    "    else :\n",
    "        station[curFile, 0] -= 1\n",
    "        if station[curFile, 0] == 0 :\n",
    "            station[curFile, 1] = 0\n",
    "    \n",
    "        station = rangeStationSimplifiee(station)\n",
    "    \n",
    "    return station"
   ]
  },
  {
   "cell_type": "markdown",
   "id": "837256d9-5c08-4d93-91e6-cc07b235ab2b",
   "metadata": {},
   "source": [
    "### Algorithmes basés sur un indice"
   ]
  },
  {
   "cell_type": "markdown",
   "id": "42c2f2ee-4c60-4212-b942-4ac9fbd5baec",
   "metadata": {},
   "source": [
    "On code ici l'algorithme basé sur une classe d'indice, comme détaillé dans la section 6 du rapport. Le choix de la file d'où l'on extrait les tenders reste le même que pour l'algorithme glouton, car ce choix est optimal."
   ]
  },
  {
   "cell_type": "code",
   "execution_count": null,
   "id": "87cd88f1-4e12-4165-ab43-b0332260a6f5",
   "metadata": {
    "tags": []
   },
   "outputs": [],
   "source": [
    "def rangementIndiceSimplifie(station, indice) :\n",
    "    \n",
    "    station = station.copy()\n",
    "    \n",
    "    fileRangement = np.argmin([indice(station[station.shape[0] - 1 - i, :]) for i in range(station.shape[0])])\n",
    "    station[station.shape[0] - 1 - fileRangement, 0] += 1\n",
    "    station[station.shape[0] - 1 - fileRangement, 1] = 0\n",
    "        \n",
    "    station = rangeStationSimplifiee(station)\n",
    "    \n",
    "    return station"
   ]
  },
  {
   "cell_type": "markdown",
   "id": "3cb328ad-8a9d-4d99-a92c-e6136ebb49fe",
   "metadata": {},
   "source": [
    "### Indices"
   ]
  },
  {
   "cell_type": "code",
   "execution_count": null,
   "id": "b39567fc-45fc-4b3a-96b1-ac06d52bb454",
   "metadata": {
    "tags": []
   },
   "outputs": [],
   "source": [
    "def indiceLineaire(file, lbd) :\n",
    "    return lbd * file[1] + file[0]"
   ]
  },
  {
   "cell_type": "code",
   "execution_count": null,
   "id": "c472977c-3bb2-4a8a-9ac9-cfccac799150",
   "metadata": {
    "tags": []
   },
   "outputs": [],
   "source": [
    "def indiceLogarithmique(file, lbd) :\n",
    "    if file[0] != 0 and file[1] != 0 : \n",
    "        v = np.log(lbd) * file[1] + np.log(file[0])\n",
    "    else :\n",
    "        v = - np.inf\n",
    "    return v"
   ]
  },
  {
   "cell_type": "code",
   "execution_count": null,
   "id": "f70e36d5-cf2d-421e-b58b-f8ef947e31ba",
   "metadata": {
    "tags": []
   },
   "outputs": [],
   "source": [
    "def indiceMultiplicatif(file, lbd) :\n",
    "    return file[1] * file[0]**lbd"
   ]
  },
  {
   "cell_type": "code",
   "execution_count": null,
   "id": "f4bed383-aac3-4b35-97a1-70c3ba2edf6e",
   "metadata": {
    "tags": []
   },
   "outputs": [],
   "source": [
    "def indiceMultiplicatifCorr(file, lbd, d) :\n",
    "    if file[1] == d :\n",
    "        return np.inf\n",
    "    else :\n",
    "        return file[0]**lbd / (d - file[1])"
   ]
  },
  {
   "cell_type": "code",
   "execution_count": null,
   "id": "7bd1e48c-fbfa-4e58-8e38-7060611abcd9",
   "metadata": {
    "tags": []
   },
   "outputs": [],
   "source": [
    "def indicePuis(file, lbd, mu) :\n",
    "    return file[1]**lbd + mu * file[0]"
   ]
  },
  {
   "cell_type": "code",
   "execution_count": null,
   "id": "4d5b5e0c-0298-45c8-b87a-6bc5c5cc07ea",
   "metadata": {
    "tags": []
   },
   "outputs": [],
   "source": [
    "def indicePuisCorr(file, lbd, mu, d) :\n",
    "    return mu * file[0] - (d - file[1]) ** lbd"
   ]
  },
  {
   "cell_type": "code",
   "execution_count": null,
   "id": "2ceba1e0-64ee-488c-b93a-2310d3c506d6",
   "metadata": {
    "tags": []
   },
   "outputs": [],
   "source": [
    "def indicePuisLog(file, lbd, mu) :\n",
    "    if file[0] == 0 :\n",
    "        return - np.inf\n",
    "    else :\n",
    "        return file[1]**lbd + mu * np.log(file[0])"
   ]
  },
  {
   "cell_type": "code",
   "execution_count": null,
   "id": "f3831af2-a03c-488a-900c-528ef93b4db2",
   "metadata": {
    "tags": []
   },
   "outputs": [],
   "source": [
    "def indicePuisLogCorr(file, lbd, mu, d) :\n",
    "    if file[0] == 0 :\n",
    "        return - np.inf\n",
    "    else :\n",
    "        return mu * np.log(file[0]) - (d - file[1])**lbd"
   ]
  },
  {
   "cell_type": "markdown",
   "id": "89adf4c9-b5f8-4f59-980d-b4fe2f304a8b",
   "metadata": {},
   "source": [
    "## Création de la matrice de transition"
   ]
  },
  {
   "cell_type": "markdown",
   "id": "c4ef8de0-8feb-4f23-b4c2-3adb2eaa26eb",
   "metadata": {},
   "source": [
    "Pour rappel, l'écart entre la date d'arrivée de la $i$-ième voiture et celle de la $(i+1)$-ième suit une loi géométrique de paramètre $\\lambda$. Pour simplifier, on change (de manière équivalente) le déroulement de chaque étape temporelle comme suit :\n",
    "1. Les nouvelles voitures clientes arrivent et des tenders chargés leur sont attribués.\n",
    "2. Tous les tenders dans la station gagnent un niveau de charge, pour un niveau maximum de $d$.\n",
    "3. Les tenders partis reviennent et sont rangés dans la station.\n",
    "4. Si la demande a pu être satisfaite, on passe au temps suivant.\n",
    "\n",
    "Pour obtenir une chaîne de Markov irréductible, on crée un nouvel état, False, qui dénote que la demande n'a pas pu être satisfaite, et à partir de cet état on repart vers un état arbitraire. On cherche donc le temps moyen pour atteindre False."
   ]
  },
  {
   "cell_type": "code",
   "execution_count": null,
   "id": "8fb5fc57-6189-4d18-8f6f-458a92cd93d3",
   "metadata": {
    "tags": []
   },
   "outputs": [],
   "source": [
    "rng = np.random.default_rng(1964)"
   ]
  },
  {
   "cell_type": "code",
   "execution_count": null,
   "id": "d0d28aa6-8e64-4edd-8672-28145956eb30",
   "metadata": {
    "tags": []
   },
   "outputs": [],
   "source": [
    "def createTransitionMatrix(listeEtat, ajout, retrait, charge, theta) :\n",
    "    \n",
    "    transitionMatrix = np.zeros([len(listeEtat)] * 2)\n",
    "    \n",
    "    for i in range(len(listeEtat) - 1) :\n",
    "        curStation = listeEtat[i]\n",
    "        nClients = 0\n",
    "        curProb = 1 - theta\n",
    "        \n",
    "        while type(curStation) != bool :\n",
    "            ghostStation = charge(curStation)\n",
    "            for k in range(nClients) :\n",
    "                ghostStation = ajout(ghostStation)\n",
    "            j = 0\n",
    "            while not (listeEtat[j] == ghostStation).all() :\n",
    "                j += 1\n",
    "            transitionMatrix[i, j] += curProb # Même si on reviendra pas deux fois au même état\n",
    "            curProb *= theta\n",
    "            nClients += 1\n",
    "            curStation = retrait(curStation)\n",
    "        \n",
    "        transitionMatrix[i, len(listeEtat) - 1] = 1 - np.sum(transitionMatrix[i, :])\n",
    "    \n",
    "    transitionMatrix[len(listeEtat) - 1, :] = 1 / len(listeEtat)\n",
    "        \n",
    "    return transitionMatrix"
   ]
  },
  {
   "cell_type": "code",
   "execution_count": null,
   "id": "37d065c1-2eb6-4e87-bef3-915586e48c68",
   "metadata": {
    "tags": []
   },
   "outputs": [],
   "source": [
    "def expectedHittingTime(M, i, j) :\n",
    "    # Returns expected hitting time from i to j using transition matrix M\n",
    "    \n",
    "    M = M.copy()\n",
    "    M[j, :] = 0\n",
    "    \n",
    "    b = np.array([1] * M.shape[0])\n",
    "    b[j] = 0\n",
    "    \n",
    "    v = np.linalg.solve(np.identity(M.shape[0]) - M, b)\n",
    "    \n",
    "    return v[i], v"
   ]
  },
  {
   "cell_type": "code",
   "execution_count": null,
   "id": "47253157-55bc-438b-9627-ad360b96dd8a",
   "metadata": {
    "tags": []
   },
   "outputs": [],
   "source": [
    "def plotExpectedHittingTime(nTenders, nFiles, nCharge, ajout, retrait, charge, res = 0.05, etatDepart = None, etatArrivee = None) :\n",
    "    \n",
    "    if type(etatDepart) != np.ndarray :\n",
    "        etatDepart = [[(nTenders // (nFiles - 1)) + 1, nCharge]] * (nTenders % (nFiles - 1))\n",
    "        etatDepart += [[(nTenders // (nFiles - 1)), nCharge]] * (nFiles - 1 - (nTenders % (nFiles - 1)))\n",
    "        etatDepart += [[0, 0]]\n",
    "        etatDepart = np.array(etatDepart)\n",
    "    \n",
    "    if type(etatArrivee) != np.ndarray :\n",
    "        etatArrivee = False\n",
    "    \n",
    "    \n",
    "    listeEtat = listAllStations(nTenders, nFiles, nCharge)    \n",
    "    ajout = rangementGloutonSimplifie\n",
    "    retraitBis = lambda x : retrait(x, nCharge)\n",
    "    chargeBis = lambda x : chargeSimplifie(x, nCharge)\n",
    "    \n",
    "    i = 0\n",
    "    j = 0\n",
    "    \n",
    "    while not np.array(listeEtat[i] == etatDepart).all() :\n",
    "        i += 1\n",
    "    \n",
    "    while not np.array(listeEtat[j] == etatArrivee).all() :\n",
    "        j += 1\n",
    "    \n",
    "    \n",
    "    thetaArray = np.arange(res, 1, res)\n",
    "    expectedHittingTimes = []\n",
    "    \n",
    "    for theta in thetaArray :\n",
    "        M = createTransitionMatrix(listeEtat, ajout, retraitBis, chargeBis, theta)\n",
    "        expectedHittingTimes.append(expectedHittingTime(M, i, j)[0])\n",
    "\n",
    "    return thetaArray, expectedHittingTimes"
   ]
  }
 ],
 "metadata": {
  "kernelspec": {
   "display_name": "Python 3 (ipykernel)",
   "language": "python",
   "name": "python3"
  },
  "language_info": {
   "codemirror_mode": {
    "name": "ipython",
    "version": 3
   },
   "file_extension": ".py",
   "mimetype": "text/x-python",
   "name": "python",
   "nbconvert_exporter": "python",
   "pygments_lexer": "ipython3",
   "version": "3.10.9"
  }
 },
 "nbformat": 4,
 "nbformat_minor": 5
}
