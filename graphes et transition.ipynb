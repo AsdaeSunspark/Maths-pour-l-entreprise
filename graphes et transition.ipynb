{
 "cells": [
  {
   "cell_type": "markdown",
   "id": "e70e0fd3-9355-403e-b82c-166a46350123",
   "metadata": {},
   "source": [
    "# EP Tender : simulation par chaînes de Markov"
   ]
  },
  {
   "cell_type": "markdown",
   "id": "e635e44b-8eaa-4eb2-85c7-00220446fd35",
   "metadata": {
    "jp-MarkdownHeadingCollapsed": true,
    "tags": []
   },
   "source": [
    "## Description du modèle"
   ]
  },
  {
   "cell_type": "markdown",
   "id": "c1e4ee58-6326-4dbe-8652-5616bc7a3bc6",
   "metadata": {},
   "source": [
    "On considère une station comportant $f$ files, pour un total de $n$ tenders en circulation. Chaque tender comporte $d + 1$ états de charge, numérotés de 0 à $d$. À 0 un tender est complètement déchargé, et à $d$ il est complètement chargé.\n",
    "\n",
    "On utilise un modèle à temps discret.\n",
    "\n",
    "Les voitures clientes arrivent de sorte que l'écart temporel entre la $i$-ième voiture et la $(i+1)$-ième est de loi géométrique de paramètre $\\lambda$. Lorsqu'elles arrivent elles doivent prendre un tender complètement chargé qu'elles ramènent complètement déchargé au début de l'étape suivante.\n",
    "\n",
    "Fatalement, un jour plus de $n$ voitures arriveront en même temps et alors la demande ne pourra pas être satisfaite. On note $T_\\mathrm{bug}$ le premier temps où la demande en Tender est insatisfaite et on s'intéresse à son espérance. On cherche à trouver, pour un processus de rangement et de sélection des tenders donné, l'espérance de $T_\\mathrm{bug}$, qu'on souhaite maximal.\n",
    "\n",
    "Chaque étape temporelle se déroule comme suit :\n",
    "1. Tous les tenders dans la station gagnent un niveau de charge, pour un niveau maximum de $d$.\n",
    "2. Les tenders partis à l'étape précédente sont rangés dans la station.\n",
    "3. Les nouvelles voitures clientes arrivent et des tenders chargés leur sont attribués.\n",
    "4. Si la demande a pu être satisfaite, on passe au temps suivant."
   ]
  },
  {
   "cell_type": "markdown",
   "id": "c4c679df-9f5c-4814-8355-f9ffc84e9ac3",
   "metadata": {
    "jp-MarkdownHeadingCollapsed": true,
    "tags": []
   },
   "source": [
    "## Importation des modules"
   ]
  },
  {
   "cell_type": "code",
   "execution_count": 1,
   "id": "d5b84098-d0f4-4e72-8a55-cb4848ec5765",
   "metadata": {},
   "outputs": [],
   "source": [
    "import numpy as np"
   ]
  },
  {
   "cell_type": "markdown",
   "id": "4f7d2b1b-9e24-4adc-b960-8586acf2113c",
   "metadata": {
    "jp-MarkdownHeadingCollapsed": true,
    "tags": []
   },
   "source": [
    "## Encodage des états"
   ]
  },
  {
   "cell_type": "markdown",
   "id": "97af9297-df4f-4416-b2af-ed584a16c446",
   "metadata": {
    "jp-MarkdownHeadingCollapsed": true,
    "tags": []
   },
   "source": [
    "### Encodage d'une file simple"
   ]
  },
  {
   "cell_type": "markdown",
   "id": "0bdaf193-dd0a-4cd0-8fac-e27ce6a88cfa",
   "metadata": {},
   "source": [
    "Une file donnée contient un certain nombre de tenders, chacun à un état de charge donné. Remarquons que les tenders les plus au fond sont ceux arrivés le plus tôt, ils sont donc les plus chargés. On peut donc représenter une file par une suite décroissante d'entiers entre 0 et $d$, de longueur au plus $n$. Si $d < n$ il peut être plus efficace d'encoder cette suite par une suite de $d + 1$ entiers positifs, de somme au plus $n$, représentant le nombre de tenders de niveau de charge $d$ dans la file, puis le nombre de tenders de niveau de charge $d - 1$, et ainsi de suite jusque $0$."
   ]
  },
  {
   "cell_type": "code",
   "execution_count": 2,
   "id": "94549481-5b2a-44af-a149-65ab72270433",
   "metadata": {},
   "outputs": [],
   "source": [
    "def encode(file, d) :\n",
    "# Prend une suite décroissante d'entiers positifs entre 0 et d, et renvoie le nombre d'entiers pour chaque valeur\n",
    "\n",
    "    fileEncodee = np.zeros(d + 1, dtype = int)\n",
    "    for charge in file :\n",
    "        fileEncodee[d - charge] += 1\n",
    "    \n",
    "    return fileEncodee"
   ]
  },
  {
   "cell_type": "code",
   "execution_count": 3,
   "id": "9b924991-dab9-4c33-a5a4-a9578764e7fe",
   "metadata": {},
   "outputs": [
    {
     "data": {
      "text/plain": [
       "array([0, 2, 0, 1, 2, 1, 1])"
      ]
     },
     "execution_count": 3,
     "metadata": {},
     "output_type": "execute_result"
    }
   ],
   "source": [
    "file = [5, 5, 3, 2, 2, 1, 0]\n",
    "fileEncodee = encode(file, 6)\n",
    "fileEncodee"
   ]
  },
  {
   "cell_type": "code",
   "execution_count": 4,
   "id": "aff610da-f208-4078-a3ed-8ec6afa1ebd4",
   "metadata": {},
   "outputs": [],
   "source": [
    "def decode(fileEncodee) :\n",
    "    # Prend une suite d'entiers positifs, et renvoie une suite d'entiers, de longueur la somme de la suite originale\n",
    "    # et prenant chaque valeur le nombre de fois indiqué par la suite de départ, de sorte à se terminer par la valeur 0\n",
    "    \n",
    "    d = len(fileEncodee) - 1\n",
    "    file = np.zeros(sum(fileEncodee), dtype = int)\n",
    "    i = 0\n",
    "    for v in fileEncodee :\n",
    "        while v > 0 :\n",
    "            file[i] = d\n",
    "            i += 1\n",
    "            v -= 1\n",
    "        d -= 1\n",
    "    \n",
    "    return file"
   ]
  },
  {
   "cell_type": "code",
   "execution_count": 5,
   "id": "64419aae-14ab-4960-acb6-561809ff6bd4",
   "metadata": {},
   "outputs": [
    {
     "data": {
      "text/plain": [
       "array([5, 5, 3, 2, 2, 1, 0])"
      ]
     },
     "execution_count": 5,
     "metadata": {},
     "output_type": "execute_result"
    }
   ],
   "source": [
    "decode(fileEncodee)"
   ]
  },
  {
   "cell_type": "markdown",
   "id": "a553d4f6-9358-493d-97c2-43182eeefc47",
   "metadata": {
    "jp-MarkdownHeadingCollapsed": true,
    "tags": []
   },
   "source": [
    "### Encodage d'une station"
   ]
  },
  {
   "cell_type": "markdown",
   "id": "6aa876fc-c7ba-4c66-b85f-551e5703e5cd",
   "metadata": {},
   "source": [
    "Une station comportant $f$ files peut être représentée par une matrice avec $f$ éléments, chaque élément listant les états des tenders dans une file. On complète les files par des -1 pour les ramener toutes à la même longueur."
   ]
  },
  {
   "cell_type": "code",
   "execution_count": 6,
   "id": "c7fcf154-7bde-4beb-a5b6-aee5bd3879da",
   "metadata": {},
   "outputs": [],
   "source": [
    "def encodeStation(station, d) :\n",
    "    # Prend une station et renvoie la matrice comportant la valeur encodée de chaque ligne\n",
    "    \n",
    "    if type(station) == np.ndarray :\n",
    "        station = station.tolist()\n",
    "    \n",
    "    stationEncodee = []\n",
    "    for indexFile in range(len(station)) :\n",
    "        file = station[indexFile]\n",
    "        try :\n",
    "            finFile = file.index(-1)\n",
    "        except ValueError :\n",
    "            finFile = len(file)\n",
    "        stationEncodee.append(encode(file[:finFile], d))\n",
    "    \n",
    "    return np.array(stationEncodee, dtype = int)"
   ]
  },
  {
   "cell_type": "code",
   "execution_count": 7,
   "id": "4caa3e67-caf7-4cb3-8b34-b007e616a711",
   "metadata": {},
   "outputs": [
    {
     "data": {
      "text/plain": [
       "array([[0, 2, 0, 1, 2, 1, 1],\n",
       "       [0, 0, 0, 2, 0, 0, 0]])"
      ]
     },
     "execution_count": 7,
     "metadata": {},
     "output_type": "execute_result"
    }
   ],
   "source": [
    "station = [[5, 5, 3, 2, 2, 1, 0], [3, 3]]\n",
    "stationEncodee = encodeStation(station, 6)\n",
    "stationEncodee"
   ]
  },
  {
   "cell_type": "code",
   "execution_count": 8,
   "id": "acbde24c-2e56-4879-9a53-1197a9a59ee4",
   "metadata": {},
   "outputs": [],
   "source": [
    "def padStation(station) :\n",
    "    # Prend une station représentée sous forme de liste et la renvoie sous forme de np.array, complété de -1\n",
    "    \n",
    "    if type(station) == list :\n",
    "        longueurFiles = max([len(file) for file in station])\n",
    "        for indexFile, file in enumerate(station) :\n",
    "            station[indexFile] = file + [-1] * (longueurFiles - len(file))\n",
    "    \n",
    "    return np.array(station)"
   ]
  },
  {
   "cell_type": "code",
   "execution_count": 9,
   "id": "7586a565-7a6e-46d5-8217-d3af77e901a6",
   "metadata": {},
   "outputs": [
    {
     "data": {
      "text/plain": [
       "array([[ 5,  5,  3,  2,  2,  1,  0],\n",
       "       [ 3,  3, -1, -1, -1, -1, -1]])"
      ]
     },
     "execution_count": 9,
     "metadata": {},
     "output_type": "execute_result"
    }
   ],
   "source": [
    "padStation(station)"
   ]
  },
  {
   "cell_type": "code",
   "execution_count": 10,
   "id": "1d57e95a-c2fe-48ff-ad54-6c53a517a545",
   "metadata": {},
   "outputs": [],
   "source": [
    "def decodeStation(stationEncodee) :\n",
    "    # Prend une station encodée et renvoie la liste de ses files décodées\n",
    "    \n",
    "    if type(stationEncodee) == list :\n",
    "        stationEncodee = np.array(stationEncodee)\n",
    "    \n",
    "    station = []\n",
    "    \n",
    "    for indexFile in range(stationEncodee.shape[0]) :\n",
    "        fileEncodee = stationEncodee[indexFile, :]\n",
    "        station.append(decode(fileEncodee).tolist())\n",
    "        \n",
    "    return padStation(station)"
   ]
  },
  {
   "cell_type": "code",
   "execution_count": 11,
   "id": "f533aed4-d5dd-4269-86be-0293c8a3dee3",
   "metadata": {},
   "outputs": [
    {
     "data": {
      "text/plain": [
       "array([[ 5,  5,  3,  2,  2,  1,  0],\n",
       "       [ 3,  3, -1, -1, -1, -1, -1]])"
      ]
     },
     "execution_count": 11,
     "metadata": {},
     "output_type": "execute_result"
    }
   ],
   "source": [
    "decodeStation(stationEncodee)"
   ]
  },
  {
   "cell_type": "markdown",
   "id": "9f2f408d-b686-459b-ae3a-882cc0a43fbd",
   "metadata": {
    "jp-MarkdownHeadingCollapsed": true,
    "tags": []
   },
   "source": [
    "## Charge des tenders"
   ]
  },
  {
   "cell_type": "markdown",
   "id": "e32eb23e-7cba-45e2-af22-bb31d3dac2de",
   "metadata": {},
   "source": [
    "Une même fonction permet de réaliser la charge des stations et des files. Il faut néanmoins différencier le cas encodé et décodé."
   ]
  },
  {
   "cell_type": "code",
   "execution_count": 12,
   "id": "ae328298-882f-4977-a8a3-ef232ee8c59f",
   "metadata": {},
   "outputs": [],
   "source": [
    "def charge(station, d) :\n",
    "    # Prend une station (décodée) et la renvoie après que chaque tender ait été chargé de 1\n",
    "    \n",
    "    station = station.copy()\n",
    "    \n",
    "    if type(station) == list :\n",
    "        station = padStation(station)\n",
    "        \n",
    "    station += ~np.isin(station, [-1, d])    \n",
    "    \n",
    "    return station"
   ]
  },
  {
   "cell_type": "code",
   "execution_count": 13,
   "id": "31ca9f3e-aff9-4028-8056-e214469a4a19",
   "metadata": {},
   "outputs": [
    {
     "data": {
      "text/plain": [
       "[[5, 5, 3, 2, 2, 1, 0], [3, 3, -1, -1, -1, -1, -1]]"
      ]
     },
     "execution_count": 13,
     "metadata": {},
     "output_type": "execute_result"
    }
   ],
   "source": [
    "station"
   ]
  },
  {
   "cell_type": "code",
   "execution_count": 14,
   "id": "ce29e0b8-82de-432c-86e5-0f6976f0ab96",
   "metadata": {},
   "outputs": [
    {
     "data": {
      "text/plain": [
       "array([[ 5,  5,  4,  3,  3,  2,  1],\n",
       "       [ 4,  4, -1, -1, -1, -1, -1]])"
      ]
     },
     "execution_count": 14,
     "metadata": {},
     "output_type": "execute_result"
    }
   ],
   "source": [
    "charge(station, 5)"
   ]
  },
  {
   "cell_type": "code",
   "execution_count": 15,
   "id": "2982afb3-eda7-48af-8bb2-43586082322a",
   "metadata": {},
   "outputs": [],
   "source": [
    "def chargeEncodee(station) :\n",
    "    # Prend une station (encodée) et la renvoie après que chaque tender ait été chargé de 1\n",
    "    \n",
    "    station = padStation(station)    \n",
    "    chargedStation = np.zeros(station.shape)\n",
    "    \n",
    "    for indexFile in range(station.shape[0]) :\n",
    "        chargedStation[indexFile, 0] = station[indexFile, 0]\n",
    "        chargedStation[indexFile, :-1] += station[indexFile, 1:]\n",
    "    \n",
    "    return chargedStation"
   ]
  },
  {
   "cell_type": "code",
   "execution_count": 16,
   "id": "90326d99-a1e2-4429-8d31-3b473cd28bb6",
   "metadata": {},
   "outputs": [
    {
     "data": {
      "text/plain": [
       "array([[0, 2, 0, 1, 2, 1, 1],\n",
       "       [0, 0, 0, 2, 0, 0, 0]])"
      ]
     },
     "execution_count": 16,
     "metadata": {},
     "output_type": "execute_result"
    }
   ],
   "source": [
    "stationEncodee"
   ]
  },
  {
   "cell_type": "code",
   "execution_count": 17,
   "id": "7c9159dd-ac53-4944-9490-deebcf0d70c3",
   "metadata": {},
   "outputs": [
    {
     "data": {
      "text/plain": [
       "array([[2., 0., 1., 2., 1., 1., 0.],\n",
       "       [0., 0., 2., 0., 0., 0., 0.]])"
      ]
     },
     "execution_count": 17,
     "metadata": {},
     "output_type": "execute_result"
    }
   ],
   "source": [
    "chargeEncodee(stationEncodee)"
   ]
  },
  {
   "cell_type": "code",
   "execution_count": 18,
   "id": "85709949-5901-4886-9c49-7228b75b13bf",
   "metadata": {},
   "outputs": [
    {
     "data": {
      "text/plain": [
       "array([[3., 2., 1., 1., 0., 0., 0.],\n",
       "       [2., 0., 0., 0., 0., 0., 0.]])"
      ]
     },
     "execution_count": 18,
     "metadata": {},
     "output_type": "execute_result"
    }
   ],
   "source": [
    "chargeEncodee(chargeEncodee(chargeEncodee(stationEncodee)))"
   ]
  },
  {
   "cell_type": "markdown",
   "id": "2f084e1e-3ed2-4e8f-b979-e9559080b4e8",
   "metadata": {
    "jp-MarkdownHeadingCollapsed": true,
    "tags": []
   },
   "source": [
    "## Réduction du nombre de configurations pour les stations"
   ]
  },
  {
   "cell_type": "markdown",
   "id": "0051147e-793a-483b-82d2-cc1641dfbf48",
   "metadata": {},
   "source": [
    "Les états de notre chaîne de Markov sont les configurations de la station. D'un point de vue de la satisfaction de la demande, cependant, certaines configurations sont équivalentes : on peut permuter librement les files. Ainsi, on ne s'intéresse qu'aux configurations où le nombre de tenders par file est décroissant, et les files avec le même nombre de tenders sont ordonnées selon l'ordre lexicographique décroissant. Remarquons que l'ordre lexicographique est le même qu'on soit en version encodée ou décodée, en revanche la contrainte imposée par le nombre de tenders dans chaque file s'exprime différemment selon que la station est encodée ou non."
   ]
  },
  {
   "cell_type": "markdown",
   "id": "537890b7-590b-40d3-a811-435a56433e75",
   "metadata": {
    "jp-MarkdownHeadingCollapsed": true,
    "tags": []
   },
   "source": [
    "### Parcours d'ensembles de suite dans l'ordre lexicographique décroissant"
   ]
  },
  {
   "cell_type": "markdown",
   "id": "26e4c755-3ad2-434c-acff-82cbb17ba1f6",
   "metadata": {},
   "source": [
    "Dans la suite, nous allons avoir besoin de fonctions élémentaires permettant de parcourir, dans l'ordre lexicographique décroissant, l'ensemble des suites vérifiant des contraintes données."
   ]
  },
  {
   "cell_type": "code",
   "execution_count": 19,
   "id": "ff6c0ff7-712e-40bd-8270-a43145913ff4",
   "metadata": {},
   "outputs": [],
   "source": [
    "def suiteSuivanteDecSumCst(l) :\n",
    "    # Permet de parcourir l'ensemble des suites décroissantes de longueur et somme données, selon l'ordre lexicographique\n",
    "    # décroissant. Renvoie False quand on a atteint le dernier état.\n",
    "    \n",
    "    l = l.copy()\n",
    "    i = len(l) - 1\n",
    "    curSum = 1\n",
    "    \n",
    "    while i >= 0 and curSum > (l[i] - 1) * (len(l) - 1 - i):\n",
    "        curSum += l[i]\n",
    "        i -= 1\n",
    "    \n",
    "    if i >= 0 :\n",
    "        l[i] -= 1\n",
    "        j = i + 1\n",
    "        while curSum > 0 :\n",
    "            l[j] = min([curSum, l[i]])\n",
    "            curSum -= l[j]\n",
    "            j += 1\n",
    "        while j < len(l) :\n",
    "            l[j] = 0\n",
    "            j += 1\n",
    "    else :\n",
    "        l = False\n",
    "    \n",
    "    return l    "
   ]
  },
  {
   "cell_type": "code",
   "execution_count": 20,
   "id": "cb5b8979-3f7a-452b-a2ec-eb9838c2a2f3",
   "metadata": {},
   "outputs": [
    {
     "name": "stdout",
     "output_type": "stream",
     "text": [
      "[5, 4, 2, 0]\n",
      "[5, 4, 1, 1]\n",
      "[5, 3, 3, 0]\n",
      "[5, 3, 2, 1]\n",
      "[5, 2, 2, 2]\n",
      "[4, 4, 3, 0]\n",
      "[4, 4, 2, 1]\n",
      "[4, 3, 3, 1]\n",
      "[4, 3, 2, 2]\n",
      "[3, 3, 3, 2]\n"
     ]
    }
   ],
   "source": [
    "l = [5, 4, 2, 0]\n",
    "while type(l) != bool :\n",
    "    print(l)\n",
    "    l = suiteSuivanteDecSumCst(l)"
   ]
  },
  {
   "cell_type": "code",
   "execution_count": 21,
   "id": "34a5ea04-b03c-4bfa-9439-2234e7328aee",
   "metadata": {},
   "outputs": [],
   "source": [
    "def suiteSuivanteSumCst(l) :\n",
    "    # Permet de parcourir l'ensemble des suites de longueur et somme données, selon l'ordre lexicographique\n",
    "    # décroissant. Renvoie False quand on a atteint le dernier état.\n",
    "    \n",
    "    l = l.copy()\n",
    "    \n",
    "    if len(l) >= 2 :\n",
    "        i = len(l) - 2\n",
    "        curSum = l[i + 1]\n",
    "    \n",
    "        while i >= 0 :\n",
    "            if l[i] >= 1 :\n",
    "                l[i] -= 1\n",
    "                l[i + 1] = curSum + 1\n",
    "                l[(i + 2):] = [0] * (len(l) - 2 - i)\n",
    "                break\n",
    "            else :\n",
    "                curSum += l[i]\n",
    "                i -= 1\n",
    "        \n",
    "        if i == -1 :\n",
    "            l = False\n",
    "            \n",
    "    else :\n",
    "        l = False\n",
    "    \n",
    "    return l"
   ]
  },
  {
   "cell_type": "code",
   "execution_count": 22,
   "id": "3f1c9d60-fc31-4b0a-806d-2877c5a933d4",
   "metadata": {},
   "outputs": [
    {
     "name": "stdout",
     "output_type": "stream",
     "text": [
      "[3, 0, 0]\n",
      "[2, 1, 0]\n",
      "[2, 0, 1]\n",
      "[1, 2, 0]\n",
      "[1, 1, 1]\n",
      "[1, 0, 2]\n",
      "[0, 3, 0]\n",
      "[0, 2, 1]\n",
      "[0, 1, 2]\n",
      "[0, 0, 3]\n"
     ]
    }
   ],
   "source": [
    "l = [3, 0, 0]\n",
    "while type(l) != bool :\n",
    "    print(l)\n",
    "    l = suiteSuivanteSumCst(l)"
   ]
  },
  {
   "cell_type": "code",
   "execution_count": 23,
   "id": "9121f86f-1395-447d-8a70-c359c08c19f1",
   "metadata": {},
   "outputs": [],
   "source": [
    "def suiteSuivanteDec(l) :\n",
    "    # Permet de parcourir l'ensemble des suites décroissantes de longueur donnée, selon l'ordre lexicographique\n",
    "    # décroissant. Renvoie False quand on a atteint le dernier état. On spécifie la valeur maximale en commençant par\n",
    "    # d, d, d, ..., d\n",
    "    \n",
    "    l = l.copy()\n",
    "    i = len(l) - 1\n",
    "    \n",
    "    while i >= 0 :\n",
    "        if l[i] >= 1 :\n",
    "            l[i] -= 1\n",
    "            l[(i+1):] = [l[i]] * (len(l) - 1 - i)\n",
    "            break\n",
    "        i -= 1\n",
    "        \n",
    "    if i == -1 :\n",
    "        l = False\n",
    "    \n",
    "    return l"
   ]
  },
  {
   "cell_type": "code",
   "execution_count": 24,
   "id": "23bda17d-6135-4907-8d49-d71a5eb1508a",
   "metadata": {},
   "outputs": [
    {
     "name": "stdout",
     "output_type": "stream",
     "text": [
      "[3, 3, 3]\n",
      "[3, 3, 2]\n",
      "[3, 3, 1]\n",
      "[3, 3, 0]\n",
      "[3, 2, 2]\n",
      "[3, 2, 1]\n",
      "[3, 2, 0]\n",
      "[3, 1, 1]\n",
      "[3, 1, 0]\n",
      "[3, 0, 0]\n",
      "[2, 2, 2]\n",
      "[2, 2, 1]\n",
      "[2, 2, 0]\n",
      "[2, 1, 1]\n",
      "[2, 1, 0]\n",
      "[2, 0, 0]\n",
      "[1, 1, 1]\n",
      "[1, 1, 0]\n",
      "[1, 0, 0]\n",
      "[0, 0, 0]\n"
     ]
    }
   ],
   "source": [
    "l = [3, 3, 3]\n",
    "\n",
    "while type(l) != bool :\n",
    "    print(l)\n",
    "    l = suiteSuivanteDec(l)"
   ]
  },
  {
   "cell_type": "markdown",
   "id": "1c4e622c-1a62-4a8b-8455-72c4f575c363",
   "metadata": {
    "jp-MarkdownHeadingCollapsed": true,
    "tags": []
   },
   "source": [
    "### Parcours de l'ensemble des configurations possibles pour une station"
   ]
  },
  {
   "cell_type": "markdown",
   "id": "ea3f488d-d0cb-400e-9c40-38ea110fde13",
   "metadata": {},
   "source": [
    "Pour les stations encodées, on a :"
   ]
  },
  {
   "cell_type": "code",
   "execution_count": 25,
   "id": "3ede62c5-d73e-4740-aee1-c9023ef5f5ff",
   "metadata": {},
   "outputs": [],
   "source": [
    "def etatEncodeSuivant(etat) :\n",
    "    # Permet de parcourir l'ensemble des états possibles pour une station avec un nombre donné de tenders déjà\n",
    "    # répartis entre les files, sans répéter deux états équivalents. Parcourt la répartition dans chaque file\n",
    "    # dans l'ordre lexicographique décroissant. Les stations sont sous forme encodée.\n",
    "    \n",
    "    etat = etat.copy()\n",
    "    \n",
    "    nFile = etat.shape[0]\n",
    "    curFile = nFile - 1\n",
    "    \n",
    "    while curFile >= 0 :\n",
    "        file = etat[curFile, :]\n",
    "        \n",
    "        if type(suiteSuivanteSumCst(file)) == bool :\n",
    "            file[0] = sum(file)\n",
    "            file[1:] = 0\n",
    "            etat[curFile, :] = file\n",
    "        else :\n",
    "            file = suiteSuivanteSumCst(file)\n",
    "            etat[curFile, :] = file\n",
    "            \n",
    "            # On s'assure que les files avec le même nombre de tenders sont bien plus petites selon l'ordre lexicographique\n",
    "            j = curFile + 1\n",
    "            nbTenders = sum(file)\n",
    "            while j < nFile and etat[j, 0] == nbTenders :\n",
    "                etat[j, :] = file\n",
    "            \n",
    "            break\n",
    "\n",
    "        curFile -= 1\n",
    "    \n",
    "    if curFile == -1 :\n",
    "        etat = False\n",
    "        \n",
    "    return etat"
   ]
  },
  {
   "cell_type": "code",
   "execution_count": 26,
   "id": "cd69f2ff-6cdb-4070-96c8-d471413ce056",
   "metadata": {},
   "outputs": [],
   "source": [
    "def stationEncodeeSuivante(station) :\n",
    "    # Permet de parcourir l'ensemble des états possibles pour une station avec un nombre donné de tenders,\n",
    "    # sans répéter deux états équivalents. Parcourt la répartition des tenders par file selon l'ordre lexicographique\n",
    "    # décroissant, puis à répartition donnée chaque file dans l'ordre lexicographique décroissant. Les stations sont sous\n",
    "    # forme encodée.\n",
    "    \n",
    "    station = station.copy()\n",
    "    \n",
    "    if type(etatEncodeSuivant(station)) != bool :\n",
    "        station = etatEncodeSuivant(station)\n",
    "    else :\n",
    "        tenderParFile = np.sum(station, axis = 1)\n",
    "        if type(suiteSuivanteDecSumCst(tenderParFile)) == bool :\n",
    "            station = False\n",
    "        else :\n",
    "            tenderParFile = suiteSuivanteDecSumCst(tenderParFile)\n",
    "            station[:, :] = 0\n",
    "            station[:, 0] = tenderParFile\n",
    "    \n",
    "    return station"
   ]
  },
  {
   "cell_type": "code",
   "execution_count": 27,
   "id": "e28883d4-f70b-48cf-858e-1247bf50fe8b",
   "metadata": {},
   "outputs": [
    {
     "name": "stdout",
     "output_type": "stream",
     "text": [
      "[[4 0]\n",
      " [0 0]]\n",
      "[[3 1]\n",
      " [0 0]]\n",
      "[[2 2]\n",
      " [0 0]]\n",
      "[[1 3]\n",
      " [0 0]]\n",
      "[[0 4]\n",
      " [0 0]]\n",
      "[[3 0]\n",
      " [1 0]]\n",
      "[[3 0]\n",
      " [0 1]]\n",
      "[[2 1]\n",
      " [1 0]]\n",
      "[[2 1]\n",
      " [0 1]]\n",
      "[[1 2]\n",
      " [1 0]]\n",
      "[[1 2]\n",
      " [0 1]]\n",
      "[[0 3]\n",
      " [1 0]]\n",
      "[[0 3]\n",
      " [0 1]]\n",
      "[[2 0]\n",
      " [2 0]]\n",
      "[[2 0]\n",
      " [1 1]]\n",
      "[[2 0]\n",
      " [0 2]]\n",
      "[[1 1]\n",
      " [1 1]]\n",
      "[[1 1]\n",
      " [0 2]]\n",
      "[[0 2]\n",
      " [0 2]]\n"
     ]
    }
   ],
   "source": [
    "etat = np.array([[4, 0], [0, 0]])\n",
    "\n",
    "while type(etat) != bool :\n",
    "    print(etat)\n",
    "    etat = stationEncodeeSuivante(etat)"
   ]
  },
  {
   "cell_type": "markdown",
   "id": "0e7ec139-5668-4325-88fb-7ba13a8d968e",
   "metadata": {},
   "source": [
    "Pour les stations décodées, on a :"
   ]
  },
  {
   "cell_type": "code",
   "execution_count": 28,
   "id": "60010531-2bef-40d9-9172-53f886ca8f34",
   "metadata": {},
   "outputs": [],
   "source": [
    "def etatDecodeSuivant(etat, d) :\n",
    "    # Permet de parcourir l'ensemble des états possibles pour une station avec un nombre donné de tenders déjà\n",
    "    # répartis entre les files, sans répéter deux états équivalents. Parcourt la répartition dans chaque file\n",
    "    # dans l'ordre lexicographique décroissant. Les stations sont sous forme décodée, avec des états de charge de 0 à d.\n",
    "    \n",
    "    etat = etat.copy()\n",
    "    \n",
    "    nFile = etat.shape[0]\n",
    "    curFile = nFile - 1\n",
    "    \n",
    "    while curFile >= 0 :\n",
    "        \n",
    "        file = etat[curFile, :]\n",
    "        try :\n",
    "            finFile = file.tolist().index(-1)\n",
    "        except ValueError :\n",
    "            finFile = len(file)\n",
    "            \n",
    "        if finFile >= 1 :\n",
    "            file = file[:finFile]\n",
    "\n",
    "            if type(suiteSuivanteDec(file)) == bool :\n",
    "                file[:] = d\n",
    "            else :\n",
    "                file = suiteSuivanteDec(file)\n",
    "                etat[curFile, :finFile] = file\n",
    "\n",
    "                # On s'assure que les files avec le même nombre de tenders sont bien plus petites selon l'ordre lexicographique\n",
    "                j = curFile + 1\n",
    "                while j < nFile and etat[j, finFile - 1] != -1 :\n",
    "                    etat[j, :finFile] = file\n",
    "                    j += 1\n",
    "                \n",
    "                break\n",
    "\n",
    "        curFile -= 1\n",
    "    \n",
    "    if curFile == -1 :\n",
    "        etat = False\n",
    "        \n",
    "    return etat"
   ]
  },
  {
   "cell_type": "code",
   "execution_count": 29,
   "id": "631daa35-f390-4ef3-81c7-377407b48fd8",
   "metadata": {},
   "outputs": [],
   "source": [
    "def stationDecodeeSuivante(station, d) :\n",
    "    # Permet de parcourir l'ensemble des états possibles pour une station avec un nombre donné de tenders,\n",
    "    # sans répéter deux états équivalents. Parcourt la répartition des tenders par file selon l'ordre lexicographique\n",
    "    # décroissant, puis à répartition donnée chaque file dans l'ordre lexicographique décroissant. Les stations sont sous\n",
    "    # forme encodée.\n",
    "    \n",
    "    station = padStation(station)\n",
    "    \n",
    "    if type(etatDecodeSuivant(station, d)) != bool :\n",
    "        station = etatDecodeSuivant(station, d)\n",
    "    else :\n",
    "        tenderParFile = np.sum(station >= 0, axis = 1)\n",
    "        if type(suiteSuivanteDecSumCst(tenderParFile)) == bool :\n",
    "            station = False\n",
    "        else :\n",
    "            tenderParFile = suiteSuivanteDecSumCst(tenderParFile)\n",
    "            station[:, :] = -1\n",
    "            for i in range(station.shape[0]) :\n",
    "                for j in range(tenderParFile[i]) :\n",
    "                    station[i, j] = d\n",
    "    \n",
    "    return station"
   ]
  },
  {
   "cell_type": "code",
   "execution_count": 30,
   "id": "a6ba740e-5f3b-4baa-b31f-9f96106dc70a",
   "metadata": {},
   "outputs": [
    {
     "name": "stdout",
     "output_type": "stream",
     "text": [
      "[[ 1  1  1  1]\n",
      " [-1 -1 -1 -1]]\n",
      "[[ 1  1  1  0]\n",
      " [-1 -1 -1 -1]]\n",
      "[[ 1  1  0  0]\n",
      " [-1 -1 -1 -1]]\n",
      "[[ 1  0  0  0]\n",
      " [-1 -1 -1 -1]]\n",
      "[[ 0  0  0  0]\n",
      " [-1 -1 -1 -1]]\n",
      "[[ 1  1  1 -1]\n",
      " [ 1 -1 -1 -1]]\n",
      "[[ 1  1  1 -1]\n",
      " [ 0 -1 -1 -1]]\n",
      "[[ 1  1  0 -1]\n",
      " [ 1 -1 -1 -1]]\n",
      "[[ 1  1  0 -1]\n",
      " [ 0 -1 -1 -1]]\n",
      "[[ 1  0  0 -1]\n",
      " [ 1 -1 -1 -1]]\n",
      "[[ 1  0  0 -1]\n",
      " [ 0 -1 -1 -1]]\n",
      "[[ 0  0  0 -1]\n",
      " [ 1 -1 -1 -1]]\n",
      "[[ 0  0  0 -1]\n",
      " [ 0 -1 -1 -1]]\n",
      "[[ 1  1 -1 -1]\n",
      " [ 1  1 -1 -1]]\n",
      "[[ 1  1 -1 -1]\n",
      " [ 1  0 -1 -1]]\n",
      "[[ 1  1 -1 -1]\n",
      " [ 0  0 -1 -1]]\n",
      "[[ 1  0 -1 -1]\n",
      " [ 1  0 -1 -1]]\n",
      "[[ 1  0 -1 -1]\n",
      " [ 0  0 -1 -1]]\n",
      "[[ 0  0 -1 -1]\n",
      " [ 0  0 -1 -1]]\n"
     ]
    }
   ],
   "source": [
    "etat = padStation([[1, 1, 1, 1], []])\n",
    "\n",
    "while type(etat) != bool :\n",
    "    print(etat)\n",
    "    etat = stationDecodeeSuivante(etat, 1)"
   ]
  },
  {
   "cell_type": "markdown",
   "id": "c1ab26a5-2ba2-4c9d-ac56-69ed1e053dfd",
   "metadata": {
    "jp-MarkdownHeadingCollapsed": true,
    "tags": []
   },
   "source": [
    "## Simplification supplémentaire"
   ]
  },
  {
   "cell_type": "markdown",
   "id": "24f3b032-3c60-4078-8cc2-115667f641a4",
   "metadata": {},
   "source": [
    "En fait, on remarque qu'on ne peut accéder aux tenders les plus loins dans une file qu'une fois le premier tender parti : il devra donc avoir été entièrement rechargé, et tous ceux arrivés antérieurement le seront de même. Les seules informations pertinentes pour une file sont donc le nombre de tenders présents, et le niveau de charge du plus récent arrivé."
   ]
  },
  {
   "cell_type": "code",
   "execution_count": 31,
   "id": "bb639c33-14f4-4f87-b9aa-aa4ded595021",
   "metadata": {},
   "outputs": [],
   "source": [
    "def simplifie(station, encode = False) :\n",
    "    # Prend une station, sa forme, encodée ou non, spécifiée par le paramètre encode (default False) et renvoie sa forme simplifiée\n",
    "    \n",
    "    if encode :\n",
    "        newStation = np.zeros([station.shape[0], 2], dtype = int)\n",
    "        for i in range(station.shape[0]) :\n",
    "            curCharge = station.shape[1] - 1\n",
    "            while curCharge >= 0 and station[i, curCharge] == 0 :\n",
    "                curCharge -= 1\n",
    "            if curCharge != -1 :\n",
    "                newStation[i, 1] = station.shape[1] - 1 - curCharge\n",
    "            newStation[i, 0] = np.sum(station[i, :])\n",
    "    else :\n",
    "        station = padStation(station)\n",
    "        newStation = np.zeros([station.shape[0], 2], dtype = int)\n",
    "        for i in range(station.shape[0]) :\n",
    "            try :\n",
    "                finFile = station[i, :].tolist().index(-1)\n",
    "            except ValueError :\n",
    "                finFile = station.shape[1]\n",
    "            newStation[i, 0] = finFile\n",
    "            if finFile >= 1 :\n",
    "                newStation[i, 1] = station[i, finFile - 1]\n",
    "    \n",
    "    return newStation"
   ]
  },
  {
   "cell_type": "code",
   "execution_count": 32,
   "id": "c169a59b-267e-4f92-94ff-29f81c384972",
   "metadata": {},
   "outputs": [
    {
     "data": {
      "text/plain": [
       "array([[4, 1],\n",
       "       [1, 0]])"
      ]
     },
     "execution_count": 32,
     "metadata": {},
     "output_type": "execute_result"
    }
   ],
   "source": [
    "simplifie([[1, 1, 1, 1], [0]])"
   ]
  },
  {
   "cell_type": "code",
   "execution_count": 33,
   "id": "5991951f-5703-492e-ae4b-0e9832b3f940",
   "metadata": {},
   "outputs": [
    {
     "data": {
      "text/plain": [
       "array([[4, 1],\n",
       "       [0, 0]])"
      ]
     },
     "execution_count": 33,
     "metadata": {},
     "output_type": "execute_result"
    }
   ],
   "source": [
    "simplifie(np.array([[4, 0], [0, 0]]), True)"
   ]
  },
  {
   "cell_type": "markdown",
   "id": "2dbf9cab-b7bb-4d52-bd13-bb009e66c0cb",
   "metadata": {},
   "source": [
    "On adapte aussi l'algorithme de charge."
   ]
  },
  {
   "cell_type": "code",
   "execution_count": 34,
   "id": "aa6b280e-dc51-4777-8a5a-0755fbc898f9",
   "metadata": {},
   "outputs": [],
   "source": [
    "def chargeSimplifie(station, d) :\n",
    "    # Renvoie la même station simplifiée après que tous les tenders aient été chargés de 1\n",
    "    \n",
    "    station = station.copy()\n",
    "        \n",
    "    for i in range(station.shape[0]) :\n",
    "        if station[i, 0] != 0 and station[i, 1] != d :\n",
    "            station[i, 1] += 1\n",
    "    \n",
    "    return station"
   ]
  },
  {
   "cell_type": "markdown",
   "id": "ed34d086-cec0-4ac3-91f2-4d92818b7bcd",
   "metadata": {},
   "source": [
    "Lister l'ensemble des configurations possibles est désormais plus simple :"
   ]
  },
  {
   "cell_type": "code",
   "execution_count": 35,
   "id": "b5a5d20d-6c58-4759-8325-6146587075c5",
   "metadata": {},
   "outputs": [],
   "source": [
    "def etatSimplifieSuivant(station, d) :\n",
    "    # Passe d'un état simplifié à l'ordre, à nombre de tenders par file donné, selon l'ordre lexicographique décroissant pour les niveaux de charge\n",
    "    \n",
    "    station = station.copy()\n",
    "    \n",
    "    curFile = station.shape[0] - 1\n",
    "    \n",
    "    while curFile >= 0 :\n",
    "        if station[curFile, 1] >= 1 :\n",
    "            station[curFile, 1] -= 1\n",
    "            j = curFile + 1\n",
    "            while j < station.shape[0] and station[curFile, 0] == station[j, 0] :\n",
    "                station[j, 1] = station[curFile, 1]\n",
    "                j += 1\n",
    "            break\n",
    "        elif station[curFile, 0] != 0 :\n",
    "            station[curFile, 1] = d\n",
    "        curFile -= 1\n",
    "        \n",
    "    if curFile == -1 :\n",
    "        station = False\n",
    "    \n",
    "    return station"
   ]
  },
  {
   "cell_type": "code",
   "execution_count": 36,
   "id": "9ecc3720-6552-42cb-8b66-e8c22641d309",
   "metadata": {},
   "outputs": [],
   "source": [
    "def stationSimplifieeSuivante(station, d) :\n",
    "    # Permet de parcourir l'ensemble des états possibles pour une station sous forme simplifiee avec un nombre donné de tenders,\n",
    "    # sans répéter deux états équivalents. Parcourt la répartition des tenders par file selon l'ordre lexicographique\n",
    "    # décroissant.\n",
    "    \n",
    "    station = station.copy()\n",
    "    \n",
    "    if type(etatSimplifieSuivant(station, d)) != bool :\n",
    "        station = etatSimplifieSuivant(station, d)\n",
    "    else :\n",
    "        tenderParFile = station[:, 0]\n",
    "        if type(suiteSuivanteDecSumCst(tenderParFile)) == bool :\n",
    "            station = False\n",
    "        else :\n",
    "            tenderParFile = suiteSuivanteDecSumCst(tenderParFile)\n",
    "            station[:, 1] = d\n",
    "            station[:, 0] = tenderParFile\n",
    "    \n",
    "    return station"
   ]
  },
  {
   "cell_type": "code",
   "execution_count": 37,
   "id": "eeacf407-d3d5-46b3-a266-ae48e434b300",
   "metadata": {},
   "outputs": [
    {
     "name": "stdout",
     "output_type": "stream",
     "text": [
      "[[4 2]\n",
      " [0 0]]\n",
      "[[4 1]\n",
      " [0 0]]\n",
      "[[4 0]\n",
      " [0 0]]\n",
      "[[3 2]\n",
      " [1 2]]\n",
      "[[3 2]\n",
      " [1 1]]\n",
      "[[3 2]\n",
      " [1 0]]\n",
      "[[3 1]\n",
      " [1 2]]\n",
      "[[3 1]\n",
      " [1 1]]\n",
      "[[3 1]\n",
      " [1 0]]\n",
      "[[3 0]\n",
      " [1 2]]\n",
      "[[3 0]\n",
      " [1 1]]\n",
      "[[3 0]\n",
      " [1 0]]\n",
      "[[2 2]\n",
      " [2 2]]\n",
      "[[2 2]\n",
      " [2 1]]\n",
      "[[2 2]\n",
      " [2 0]]\n",
      "[[2 1]\n",
      " [2 1]]\n",
      "[[2 1]\n",
      " [2 0]]\n",
      "[[2 0]\n",
      " [2 0]]\n"
     ]
    }
   ],
   "source": [
    "etatSimplifie = simplifie([[2, 2, 2, 2], []])\n",
    "\n",
    "while type(etatSimplifie) != bool :\n",
    "    print(etatSimplifie)\n",
    "    etatSimplifie = stationSimplifieeSuivante(etatSimplifie, 2)"
   ]
  },
  {
   "cell_type": "markdown",
   "id": "3f180170-d236-4aa3-a85a-29204b9a7a1b",
   "metadata": {
    "jp-MarkdownHeadingCollapsed": true,
    "tags": []
   },
   "source": [
    "## Liste des stations"
   ]
  },
  {
   "cell_type": "code",
   "execution_count": 38,
   "id": "47530745-e038-44b3-ba0d-4306f0df6e4d",
   "metadata": {},
   "outputs": [],
   "source": [
    "def listAllStations(nTenders, nFiles, d, forme = 'simplifie') :\n",
    "    listStations = []\n",
    "    \n",
    "    if not forme in ['decode', 'encode', 'simplifie'] :\n",
    "        forme = 'simplifie'\n",
    "    \n",
    "    if forme == 'simplifie' :\n",
    "        station = np.zeros([nFiles, 2])\n",
    "        station[0, 0] = nTenders\n",
    "        station[0, 1] = d\n",
    "\n",
    "        while type(station) != bool :\n",
    "            listStations.append(station)\n",
    "            station = stationSimplifieeSuivante(station, d)\n",
    "\n",
    "    elif forme == 'encode' :\n",
    "        station = np.zeros([nFiles, d + 1])\n",
    "        station[0, 0] = nTenders\n",
    "\n",
    "        while type(station) != bool :\n",
    "            listStations.append(station)\n",
    "            station = stationEncodeeSuivante(station)\n",
    "    else :\n",
    "        station = padStation([[d] * nTenders] + [[]] * (nFiles - 1))\n",
    "\n",
    "        while type(station) != bool :\n",
    "            listStations.append(station)\n",
    "            station = stationDecodeeSuivante(station, d)\n",
    "    \n",
    "    listStations.append(False) # Indique erreur\n",
    "    \n",
    "    return listStations"
   ]
  },
  {
   "cell_type": "code",
   "execution_count": 39,
   "id": "ce82382c-53f2-4894-894e-7f8c0d29f0ca",
   "metadata": {},
   "outputs": [
    {
     "data": {
      "text/plain": [
       "[array([[4., 2.],\n",
       "        [0., 0.]]),\n",
       " array([[4., 1.],\n",
       "        [0., 0.]]),\n",
       " array([[4., 0.],\n",
       "        [0., 0.]]),\n",
       " array([[3., 2.],\n",
       "        [1., 2.]]),\n",
       " array([[3., 2.],\n",
       "        [1., 1.]]),\n",
       " array([[3., 2.],\n",
       "        [1., 0.]]),\n",
       " array([[3., 1.],\n",
       "        [1., 2.]]),\n",
       " array([[3., 1.],\n",
       "        [1., 1.]]),\n",
       " array([[3., 1.],\n",
       "        [1., 0.]]),\n",
       " array([[3., 0.],\n",
       "        [1., 2.]]),\n",
       " array([[3., 0.],\n",
       "        [1., 1.]]),\n",
       " array([[3., 0.],\n",
       "        [1., 0.]]),\n",
       " array([[2., 2.],\n",
       "        [2., 2.]]),\n",
       " array([[2., 2.],\n",
       "        [2., 1.]]),\n",
       " array([[2., 2.],\n",
       "        [2., 0.]]),\n",
       " array([[2., 1.],\n",
       "        [2., 1.]]),\n",
       " array([[2., 1.],\n",
       "        [2., 0.]]),\n",
       " array([[2., 0.],\n",
       "        [2., 0.]]),\n",
       " False]"
      ]
     },
     "execution_count": 39,
     "metadata": {},
     "output_type": "execute_result"
    }
   ],
   "source": [
    "listAllStations(4, 2, 2)"
   ]
  },
  {
   "cell_type": "code",
   "execution_count": 40,
   "id": "c10126a9-1328-495a-9fbe-a0676c358cdd",
   "metadata": {},
   "outputs": [
    {
     "data": {
      "text/plain": [
       "[array([[4., 0., 0.],\n",
       "        [0., 0., 0.]]),\n",
       " array([[3., 1., 0.],\n",
       "        [0., 0., 0.]]),\n",
       " array([[3., 0., 1.],\n",
       "        [0., 0., 0.]]),\n",
       " array([[2., 2., 0.],\n",
       "        [0., 0., 0.]]),\n",
       " array([[2., 1., 1.],\n",
       "        [0., 0., 0.]]),\n",
       " array([[2., 0., 2.],\n",
       "        [0., 0., 0.]]),\n",
       " array([[1., 3., 0.],\n",
       "        [0., 0., 0.]]),\n",
       " array([[1., 2., 1.],\n",
       "        [0., 0., 0.]]),\n",
       " array([[1., 1., 2.],\n",
       "        [0., 0., 0.]]),\n",
       " array([[1., 0., 3.],\n",
       "        [0., 0., 0.]]),\n",
       " array([[0., 4., 0.],\n",
       "        [0., 0., 0.]]),\n",
       " array([[0., 3., 1.],\n",
       "        [0., 0., 0.]]),\n",
       " array([[0., 2., 2.],\n",
       "        [0., 0., 0.]]),\n",
       " array([[0., 1., 3.],\n",
       "        [0., 0., 0.]]),\n",
       " array([[0., 0., 4.],\n",
       "        [0., 0., 0.]]),\n",
       " array([[3., 0., 0.],\n",
       "        [1., 0., 0.]]),\n",
       " array([[3., 0., 0.],\n",
       "        [0., 1., 0.]]),\n",
       " array([[3., 0., 0.],\n",
       "        [0., 0., 1.]]),\n",
       " array([[2., 1., 0.],\n",
       "        [1., 0., 0.]]),\n",
       " array([[2., 1., 0.],\n",
       "        [0., 1., 0.]]),\n",
       " array([[2., 1., 0.],\n",
       "        [0., 0., 1.]]),\n",
       " array([[2., 0., 1.],\n",
       "        [1., 0., 0.]]),\n",
       " array([[2., 0., 1.],\n",
       "        [0., 1., 0.]]),\n",
       " array([[2., 0., 1.],\n",
       "        [0., 0., 1.]]),\n",
       " array([[1., 2., 0.],\n",
       "        [1., 0., 0.]]),\n",
       " array([[1., 2., 0.],\n",
       "        [0., 1., 0.]]),\n",
       " array([[1., 2., 0.],\n",
       "        [0., 0., 1.]]),\n",
       " array([[1., 1., 1.],\n",
       "        [1., 0., 0.]]),\n",
       " array([[1., 1., 1.],\n",
       "        [0., 1., 0.]]),\n",
       " array([[1., 1., 1.],\n",
       "        [0., 0., 1.]]),\n",
       " array([[1., 0., 2.],\n",
       "        [1., 0., 0.]]),\n",
       " array([[1., 0., 2.],\n",
       "        [0., 1., 0.]]),\n",
       " array([[1., 0., 2.],\n",
       "        [0., 0., 1.]]),\n",
       " array([[0., 3., 0.],\n",
       "        [1., 0., 0.]]),\n",
       " array([[0., 3., 0.],\n",
       "        [0., 1., 0.]]),\n",
       " array([[0., 3., 0.],\n",
       "        [0., 0., 1.]]),\n",
       " array([[0., 2., 1.],\n",
       "        [1., 0., 0.]]),\n",
       " array([[0., 2., 1.],\n",
       "        [0., 1., 0.]]),\n",
       " array([[0., 2., 1.],\n",
       "        [0., 0., 1.]]),\n",
       " array([[0., 1., 2.],\n",
       "        [1., 0., 0.]]),\n",
       " array([[0., 1., 2.],\n",
       "        [0., 1., 0.]]),\n",
       " array([[0., 1., 2.],\n",
       "        [0., 0., 1.]]),\n",
       " array([[0., 0., 3.],\n",
       "        [1., 0., 0.]]),\n",
       " array([[0., 0., 3.],\n",
       "        [0., 1., 0.]]),\n",
       " array([[0., 0., 3.],\n",
       "        [0., 0., 1.]]),\n",
       " array([[2., 0., 0.],\n",
       "        [2., 0., 0.]]),\n",
       " array([[2., 0., 0.],\n",
       "        [1., 1., 0.]]),\n",
       " array([[2., 0., 0.],\n",
       "        [1., 0., 1.]]),\n",
       " array([[2., 0., 0.],\n",
       "        [0., 2., 0.]]),\n",
       " array([[2., 0., 0.],\n",
       "        [0., 1., 1.]]),\n",
       " array([[2., 0., 0.],\n",
       "        [0., 0., 2.]]),\n",
       " array([[1., 1., 0.],\n",
       "        [1., 1., 0.]]),\n",
       " array([[1., 1., 0.],\n",
       "        [1., 0., 1.]]),\n",
       " array([[1., 1., 0.],\n",
       "        [0., 2., 0.]]),\n",
       " array([[1., 1., 0.],\n",
       "        [0., 1., 1.]]),\n",
       " array([[1., 1., 0.],\n",
       "        [0., 0., 2.]]),\n",
       " array([[1., 0., 1.],\n",
       "        [1., 0., 1.]]),\n",
       " array([[1., 0., 1.],\n",
       "        [0., 2., 0.]]),\n",
       " array([[1., 0., 1.],\n",
       "        [0., 1., 1.]]),\n",
       " array([[1., 0., 1.],\n",
       "        [0., 0., 2.]]),\n",
       " array([[0., 2., 0.],\n",
       "        [0., 2., 0.]]),\n",
       " array([[0., 2., 0.],\n",
       "        [0., 1., 1.]]),\n",
       " array([[0., 2., 0.],\n",
       "        [0., 0., 2.]]),\n",
       " array([[0., 1., 1.],\n",
       "        [0., 1., 1.]]),\n",
       " array([[0., 1., 1.],\n",
       "        [0., 0., 2.]]),\n",
       " array([[0., 0., 2.],\n",
       "        [0., 0., 2.]]),\n",
       " False]"
      ]
     },
     "execution_count": 40,
     "metadata": {},
     "output_type": "execute_result"
    }
   ],
   "source": [
    "listAllStations(4, 2, 2, forme = 'encode')"
   ]
  },
  {
   "cell_type": "code",
   "execution_count": 41,
   "id": "d58a70e1-7e3c-4586-a5a8-6667770c4128",
   "metadata": {},
   "outputs": [
    {
     "data": {
      "text/plain": [
       "[array([[ 2,  2,  2,  2],\n",
       "        [-1, -1, -1, -1]]),\n",
       " array([[ 2,  2,  2,  1],\n",
       "        [-1, -1, -1, -1]]),\n",
       " array([[ 2,  2,  2,  0],\n",
       "        [-1, -1, -1, -1]]),\n",
       " array([[ 2,  2,  1,  1],\n",
       "        [-1, -1, -1, -1]]),\n",
       " array([[ 2,  2,  1,  0],\n",
       "        [-1, -1, -1, -1]]),\n",
       " array([[ 2,  2,  0,  0],\n",
       "        [-1, -1, -1, -1]]),\n",
       " array([[ 2,  1,  1,  1],\n",
       "        [-1, -1, -1, -1]]),\n",
       " array([[ 2,  1,  1,  0],\n",
       "        [-1, -1, -1, -1]]),\n",
       " array([[ 2,  1,  0,  0],\n",
       "        [-1, -1, -1, -1]]),\n",
       " array([[ 2,  0,  0,  0],\n",
       "        [-1, -1, -1, -1]]),\n",
       " array([[ 1,  1,  1,  1],\n",
       "        [-1, -1, -1, -1]]),\n",
       " array([[ 1,  1,  1,  0],\n",
       "        [-1, -1, -1, -1]]),\n",
       " array([[ 1,  1,  0,  0],\n",
       "        [-1, -1, -1, -1]]),\n",
       " array([[ 1,  0,  0,  0],\n",
       "        [-1, -1, -1, -1]]),\n",
       " array([[ 0,  0,  0,  0],\n",
       "        [-1, -1, -1, -1]]),\n",
       " array([[ 2,  2,  2, -1],\n",
       "        [ 2, -1, -1, -1]]),\n",
       " array([[ 2,  2,  2, -1],\n",
       "        [ 1, -1, -1, -1]]),\n",
       " array([[ 2,  2,  2, -1],\n",
       "        [ 0, -1, -1, -1]]),\n",
       " array([[ 2,  2,  1, -1],\n",
       "        [ 2, -1, -1, -1]]),\n",
       " array([[ 2,  2,  1, -1],\n",
       "        [ 1, -1, -1, -1]]),\n",
       " array([[ 2,  2,  1, -1],\n",
       "        [ 0, -1, -1, -1]]),\n",
       " array([[ 2,  2,  0, -1],\n",
       "        [ 2, -1, -1, -1]]),\n",
       " array([[ 2,  2,  0, -1],\n",
       "        [ 1, -1, -1, -1]]),\n",
       " array([[ 2,  2,  0, -1],\n",
       "        [ 0, -1, -1, -1]]),\n",
       " array([[ 2,  1,  1, -1],\n",
       "        [ 2, -1, -1, -1]]),\n",
       " array([[ 2,  1,  1, -1],\n",
       "        [ 1, -1, -1, -1]]),\n",
       " array([[ 2,  1,  1, -1],\n",
       "        [ 0, -1, -1, -1]]),\n",
       " array([[ 2,  1,  0, -1],\n",
       "        [ 2, -1, -1, -1]]),\n",
       " array([[ 2,  1,  0, -1],\n",
       "        [ 1, -1, -1, -1]]),\n",
       " array([[ 2,  1,  0, -1],\n",
       "        [ 0, -1, -1, -1]]),\n",
       " array([[ 2,  0,  0, -1],\n",
       "        [ 2, -1, -1, -1]]),\n",
       " array([[ 2,  0,  0, -1],\n",
       "        [ 1, -1, -1, -1]]),\n",
       " array([[ 2,  0,  0, -1],\n",
       "        [ 0, -1, -1, -1]]),\n",
       " array([[ 1,  1,  1, -1],\n",
       "        [ 2, -1, -1, -1]]),\n",
       " array([[ 1,  1,  1, -1],\n",
       "        [ 1, -1, -1, -1]]),\n",
       " array([[ 1,  1,  1, -1],\n",
       "        [ 0, -1, -1, -1]]),\n",
       " array([[ 1,  1,  0, -1],\n",
       "        [ 2, -1, -1, -1]]),\n",
       " array([[ 1,  1,  0, -1],\n",
       "        [ 1, -1, -1, -1]]),\n",
       " array([[ 1,  1,  0, -1],\n",
       "        [ 0, -1, -1, -1]]),\n",
       " array([[ 1,  0,  0, -1],\n",
       "        [ 2, -1, -1, -1]]),\n",
       " array([[ 1,  0,  0, -1],\n",
       "        [ 1, -1, -1, -1]]),\n",
       " array([[ 1,  0,  0, -1],\n",
       "        [ 0, -1, -1, -1]]),\n",
       " array([[ 0,  0,  0, -1],\n",
       "        [ 2, -1, -1, -1]]),\n",
       " array([[ 0,  0,  0, -1],\n",
       "        [ 1, -1, -1, -1]]),\n",
       " array([[ 0,  0,  0, -1],\n",
       "        [ 0, -1, -1, -1]]),\n",
       " array([[ 2,  2, -1, -1],\n",
       "        [ 2,  2, -1, -1]]),\n",
       " array([[ 2,  2, -1, -1],\n",
       "        [ 2,  1, -1, -1]]),\n",
       " array([[ 2,  2, -1, -1],\n",
       "        [ 2,  0, -1, -1]]),\n",
       " array([[ 2,  2, -1, -1],\n",
       "        [ 1,  1, -1, -1]]),\n",
       " array([[ 2,  2, -1, -1],\n",
       "        [ 1,  0, -1, -1]]),\n",
       " array([[ 2,  2, -1, -1],\n",
       "        [ 0,  0, -1, -1]]),\n",
       " array([[ 2,  1, -1, -1],\n",
       "        [ 2,  1, -1, -1]]),\n",
       " array([[ 2,  1, -1, -1],\n",
       "        [ 2,  0, -1, -1]]),\n",
       " array([[ 2,  1, -1, -1],\n",
       "        [ 1,  1, -1, -1]]),\n",
       " array([[ 2,  1, -1, -1],\n",
       "        [ 1,  0, -1, -1]]),\n",
       " array([[ 2,  1, -1, -1],\n",
       "        [ 0,  0, -1, -1]]),\n",
       " array([[ 2,  0, -1, -1],\n",
       "        [ 2,  0, -1, -1]]),\n",
       " array([[ 2,  0, -1, -1],\n",
       "        [ 1,  1, -1, -1]]),\n",
       " array([[ 2,  0, -1, -1],\n",
       "        [ 1,  0, -1, -1]]),\n",
       " array([[ 2,  0, -1, -1],\n",
       "        [ 0,  0, -1, -1]]),\n",
       " array([[ 1,  1, -1, -1],\n",
       "        [ 1,  1, -1, -1]]),\n",
       " array([[ 1,  1, -1, -1],\n",
       "        [ 1,  0, -1, -1]]),\n",
       " array([[ 1,  1, -1, -1],\n",
       "        [ 0,  0, -1, -1]]),\n",
       " array([[ 1,  0, -1, -1],\n",
       "        [ 1,  0, -1, -1]]),\n",
       " array([[ 1,  0, -1, -1],\n",
       "        [ 0,  0, -1, -1]]),\n",
       " array([[ 0,  0, -1, -1],\n",
       "        [ 0,  0, -1, -1]]),\n",
       " False]"
      ]
     },
     "execution_count": 41,
     "metadata": {},
     "output_type": "execute_result"
    }
   ],
   "source": [
    "listAllStations(4, 2, 2, forme = 'decode')"
   ]
  },
  {
   "cell_type": "code",
   "execution_count": null,
   "id": "38ed7822",
   "metadata": {},
   "outputs": [],
   "source": []
  },
  {
   "cell_type": "markdown",
   "id": "e8efdfa0-6ba2-422c-b233-2df9105d01d6",
   "metadata": {
    "jp-MarkdownHeadingCollapsed": true,
    "tags": []
   },
   "source": [
    "## Rangement d'une station désordonnée"
   ]
  },
  {
   "cell_type": "markdown",
   "id": "609912f9-72ac-43ed-bd68-6fc1ceaa717c",
   "metadata": {
    "jp-MarkdownHeadingCollapsed": true,
    "tags": []
   },
   "source": [
    "### Station décodée"
   ]
  },
  {
   "cell_type": "markdown",
   "id": "2fa27180-e59f-4cc7-85fa-2d6bde3c6f0b",
   "metadata": {},
   "source": [
    "À faire"
   ]
  },
  {
   "cell_type": "markdown",
   "id": "95b9bed7-649c-4503-af90-94d43ebb3dc9",
   "metadata": {
    "jp-MarkdownHeadingCollapsed": true,
    "tags": []
   },
   "source": [
    "### Station encodée"
   ]
  },
  {
   "cell_type": "markdown",
   "id": "4a51bc6b-e9cb-40c0-840e-9d7e0ae7d4de",
   "metadata": {},
   "source": [
    "À faire"
   ]
  },
  {
   "cell_type": "markdown",
   "id": "54c18e7a-a984-4ebf-a21f-b52893c8a2c3",
   "metadata": {
    "jp-MarkdownHeadingCollapsed": true,
    "tags": []
   },
   "source": [
    "### Station simplifiée"
   ]
  },
  {
   "cell_type": "code",
   "execution_count": 42,
   "id": "ceaaf1c3-ba78-4072-ae2b-bc73fb3964c6",
   "metadata": {},
   "outputs": [],
   "source": [
    "def rangeStationSimplifiee(station) :\n",
    "    \n",
    "    station = station.copy()\n",
    "    \n",
    "    maxCharge = max(station[:, 1])\n",
    "    sortingTable = (maxCharge + 1) * station[:, 0] + station[:, 1]\n",
    "    \n",
    "    newIndices = np.argsort(sortingTable)\n",
    "    \n",
    "    station = station[newIndices[::-1], :]\n",
    "    \n",
    "    return station"
   ]
  },
  {
   "cell_type": "code",
   "execution_count": 43,
   "id": "ff9d8ace-f0ea-449a-ac80-611d9a0b5afa",
   "metadata": {},
   "outputs": [
    {
     "data": {
      "text/plain": [
       "array([[ 4,  2],\n",
       "       [ 2, 10],\n",
       "       [ 1,  3],\n",
       "       [ 1,  2]])"
      ]
     },
     "execution_count": 43,
     "metadata": {},
     "output_type": "execute_result"
    }
   ],
   "source": [
    "station = np.array([[4, 2], [1, 2], [1, 3], [2, 10]])\n",
    "station = rangeStationSimplifiee(station)\n",
    "station"
   ]
  },
  {
   "cell_type": "markdown",
   "id": "0bff68f7-6bd2-488d-bab7-871219c243dc",
   "metadata": {
    "tags": []
   },
   "source": [
    "## Algorithmes de décision"
   ]
  },
  {
   "cell_type": "markdown",
   "id": "fe0fa738-b2de-48b8-b533-5c57e3efc144",
   "metadata": {},
   "source": [
    "Il nous faut maintenant décider des algorithmes de décision pour le rangement et l'attribution des tenders. On peut modéliser ces algorithmes par des fonctions $f$ qui prennent en entrée l'état de la station, $S$, et renvoient $f(S)$, l'état de la station après y avoir ajouté le tender déchargé. Plusieurs tenders peuvent arriver en même temps, avec notre modèle, on devrait donc avoir une fonction $f(S, k)$ où $k$ est le nombre de tenders qui arrivent à une étape temporelle donnée, et la valeur prise est l'état de la station après y avoir rangé tous les tenders. Cependant, en pratique, on ne voit arriver qu'une voiture à la fois, et on n'anticipe pas quand les prochaines voitures arriveront, on décide donc de manière itérative : $f(f(S, k), 1) = f(S, k + 1)$ et on n'a donc besoin de connaître que $f(S) = f(S, 1)$.\n",
    "\n",
    "**On ne travaille pour l'instant qu'avec la version simplifiée des stations.**"
   ]
  },
  {
   "cell_type": "markdown",
   "id": "2da56937-4838-4821-971c-29adc402fbb2",
   "metadata": {},
   "source": [
    "### Algorithme glouton"
   ]
  },
  {
   "cell_type": "markdown",
   "id": "4fb4e55b-fb3d-4d1b-9357-37e66f95aa62",
   "metadata": {},
   "source": [
    "Un algorithme naïf, qu'on qualifiera de glouton, consiste à ranger les tenders là où ils dérangent le moins, c'est à dire dans la file où le tender accessible est le moins chargé (pour ne pas bloquer l'accès aux tenders plus chargés des autres files).\n",
    "\n",
    "De même les tenders sont prélevés dans la file contenant le moins de tenders parmi les files entièrement chargées.\n",
    "\n",
    "Cet algorithme consiste à maximiser la durée pour laquelle on est capable de servir l'offre dans le pire des cas possible (analogie avec la statistique : estimateur min-max). Pire veut dire : on suppose qu'à la période suivante, on a le plus grand nombre de clients qu'on est capable de servir si on a fait le choix le plus favorable - puis, parmi les choix compatibles, à la période suivante, on suppose qu'on a le plus grand nombre de clients possibles, etc.\n",
    "Dans la même logique, vider en priorité les files les moins remplies permet de les libérer plus vite. Ainsi, si toutes les files venaient à être remplies et chargées, nous en libérerions une plus vite et aurions donc moins de chance de devoir 'sacrifier' des tenders déjà chargés.\n",
    "\n",
    "**N.B. : pas très compliqué de montrer que comportement cyclique - on prend toujours dans la même file, et on range toujours dans la même file (une fois toutes les files rendues non-vides), jusqu'à ce qu'on ait vidé la première file. Alors on se met à la remplir et on prélève dans une autre file (si possible)**"
   ]
  },
  {
   "cell_type": "code",
   "execution_count": 44,
   "id": "0d2591b2-6860-4cb9-b572-26778aec1473",
   "metadata": {},
   "outputs": [],
   "source": [
    "def rangementGloutonSimplifie(station) :\n",
    "    \n",
    "    station = station.copy()\n",
    "    \n",
    "    curFile = station.shape[0] - 1\n",
    "    \n",
    "    while curFile >= 0 and station[curFile, 0] == 0 :\n",
    "        curFile -= 1\n",
    "    \n",
    "    if curFile == -1 :\n",
    "        station[0, 0] = 1\n",
    "    else :\n",
    "        minCharge = min(station[:(curFile+1), 1])\n",
    "        while station[curFile, 1] != minCharge :\n",
    "            curFile -= 1\n",
    "        \n",
    "        station[curFile, 1] = 0\n",
    "        station[curFile, 0] += 1\n",
    "        station = rangeStationSimplifiee(station)\n",
    "    \n",
    "    return station"
   ]
  },
  {
   "cell_type": "code",
   "execution_count": 45,
   "id": "0f1c1987-19f8-4eb2-870e-aec1333794b1",
   "metadata": {},
   "outputs": [
    {
     "data": {
      "text/plain": [
       "array([[ 4,  2],\n",
       "       [ 2, 10],\n",
       "       [ 1,  3],\n",
       "       [ 1,  2]])"
      ]
     },
     "execution_count": 45,
     "metadata": {},
     "output_type": "execute_result"
    }
   ],
   "source": [
    "station"
   ]
  },
  {
   "cell_type": "code",
   "execution_count": 46,
   "id": "3276e44c-aa07-4889-bc64-6d6658e1827c",
   "metadata": {},
   "outputs": [
    {
     "data": {
      "text/plain": [
       "array([[ 4,  2],\n",
       "       [ 2, 10],\n",
       "       [ 2,  0],\n",
       "       [ 1,  3]])"
      ]
     },
     "execution_count": 46,
     "metadata": {},
     "output_type": "execute_result"
    }
   ],
   "source": [
    "rangementGloutonSimplifie(station)"
   ]
  },
  {
   "cell_type": "code",
   "execution_count": 47,
   "id": "7be2f0d1-ea31-4b74-93d6-52ddf935c788",
   "metadata": {},
   "outputs": [],
   "source": [
    "def donGloutonSimplifie(station, d) :\n",
    "    \n",
    "    station = station.copy()\n",
    "    \n",
    "    curFile = station.shape[0] - 1\n",
    "    \n",
    "    while curFile >= 0 and station[curFile, 1] != d :\n",
    "        curFile -= 1\n",
    "    \n",
    "    if curFile == -1 :\n",
    "        station = False\n",
    "    else :\n",
    "        station[curFile, 0] -= 1\n",
    "        if station[curFile, 0] == 0 :\n",
    "            station[curFile, 1] = 0\n",
    "    \n",
    "        station = rangeStationSimplifiee(station)\n",
    "    \n",
    "    return station"
   ]
  },
  {
   "cell_type": "code",
   "execution_count": 48,
   "id": "0746a8cf-aff3-4206-ac35-6b861878752c",
   "metadata": {},
   "outputs": [
    {
     "data": {
      "text/plain": [
       "array([[ 4,  2],\n",
       "       [ 1, 10],\n",
       "       [ 1,  3],\n",
       "       [ 1,  2]])"
      ]
     },
     "execution_count": 48,
     "metadata": {},
     "output_type": "execute_result"
    }
   ],
   "source": [
    "donGloutonSimplifie(station, 10)"
   ]
  },
  {
   "cell_type": "markdown",
   "id": "89adf4c9-b5f8-4f59-980d-b4fe2f304a8b",
   "metadata": {},
   "source": [
    "## Création de la matrice de transition"
   ]
  },
  {
   "cell_type": "markdown",
   "id": "c4ef8de0-8feb-4f23-b4c2-3adb2eaa26eb",
   "metadata": {},
   "source": [
    "Pour rappel, l'écart entre la date d'arrivée de la $i$-ième voiture et celle de la $(i+1)$-ième suit une loi géométrique de paramètre $\\lambda$. Pour simplifier, on change (de manière équivalente) le déroulement de chaque étape temporelle comme suit :\n",
    "1. Les nouvelles voitures clientes arrivent et des tenders chargés leur sont attribués.\n",
    "2. Tous les tenders dans la station gagnent un niveau de charge, pour un niveau maximum de $d$.\n",
    "3. Les tenders partis reviennent et sont rangés dans la station.\n",
    "4. Si la demande a pu être satisfaite, on passe au temps suivant.\n",
    "\n",
    "Pour obtenir une chaîne de Markov irréductible, on crée un nouvel état, False, qui dénote que la demande n'a pas pu être satisfaite, et à partir de cet état on repart vers un état arbitraire. On cherche donc le temps moyen pour atteindre False."
   ]
  },
  {
   "cell_type": "code",
   "execution_count": 49,
   "id": "8fb5fc57-6189-4d18-8f6f-458a92cd93d3",
   "metadata": {},
   "outputs": [],
   "source": [
    "rng = np.random.default_rng(1964)"
   ]
  },
  {
   "cell_type": "code",
   "execution_count": 50,
   "id": "d0d28aa6-8e64-4edd-8672-28145956eb30",
   "metadata": {},
   "outputs": [],
   "source": [
    "def createTransitionMatrix(listeEtat, ajout, retrait, charge, lbd) :\n",
    "    \n",
    "    transitionMatrix = np.zeros([len(listeEtat)] * 2)\n",
    "    \n",
    "    for i in range(len(listeEtat) - 1) :\n",
    "        curStation = listeEtat[i]\n",
    "        nClients = 0\n",
    "        curProb = lbd\n",
    "        \n",
    "        while type(curStation) != bool :\n",
    "            ghostStation = charge(curStation)\n",
    "            for k in range(nClients) :\n",
    "                ghostStation = ajout(ghostStation)\n",
    "            j = 0\n",
    "            while not (listeEtat[j] == ghostStation).all() :\n",
    "                j += 1\n",
    "            transitionMatrix[i, j] += curProb # Même si on reviendra pas deux fois au même état\n",
    "            curProb *= (1 - lbd)\n",
    "            nClients += 1\n",
    "            curStation = retrait(curStation)\n",
    "        \n",
    "        transitionMatrix[i, len(listeEtat) - 1] = 1 - np.sum(transitionMatrix[i, :])\n",
    "        \n",
    "    return transitionMatrix"
   ]
  },
  {
   "cell_type": "code",
   "execution_count": 51,
   "id": "d3d9d927-d606-476e-98c1-10fef1b0f5ab",
   "metadata": {},
   "outputs": [
    {
     "data": {
      "text/plain": [
       "array([[3, 2],\n",
       "       [1, 2]])"
      ]
     },
     "execution_count": 51,
     "metadata": {},
     "output_type": "execute_result"
    }
   ],
   "source": [
    "np.array([[3, 2], [1, 2]])"
   ]
  },
  {
   "cell_type": "code",
   "execution_count": 52,
   "id": "c8300e3e-495e-4114-bc9e-607bee3fed69",
   "metadata": {},
   "outputs": [
    {
     "name": "stdout",
     "output_type": "stream",
     "text": [
      "[[0.5     0.      0.46875 0.      0.      0.      0.      0.      0.\n",
      "  0.      0.      0.      0.      0.      0.      0.      0.      0.\n",
      "  0.03125]\n",
      " [0.5     0.      0.      0.      0.      0.      0.      0.      0.\n",
      "  0.      0.      0.      0.      0.      0.      0.      0.      0.\n",
      "  0.5    ]\n",
      " [0.      0.5     0.      0.      0.      0.      0.      0.      0.\n",
      "  0.      0.      0.      0.      0.      0.      0.      0.      0.\n",
      "  0.5    ]\n",
      " [0.      0.      0.46875 0.5     0.      0.      0.      0.      0.\n",
      "  0.      0.      0.      0.      0.      0.      0.      0.      0.\n",
      "  0.03125]\n",
      " [0.      0.      0.0625  0.5     0.      0.      0.      0.      0.\n",
      "  0.125   0.      0.      0.      0.      0.25    0.      0.      0.\n",
      "  0.0625 ]\n",
      " [0.      0.      0.0625  0.      0.5     0.      0.      0.      0.\n",
      "  0.125   0.      0.      0.      0.      0.25    0.      0.      0.\n",
      "  0.0625 ]\n",
      " [0.      0.      0.25    0.5     0.      0.      0.      0.      0.\n",
      "  0.      0.      0.      0.      0.      0.      0.      0.      0.\n",
      "  0.25   ]\n",
      " [0.      0.      0.      0.5     0.      0.      0.      0.      0.\n",
      "  0.      0.      0.      0.      0.      0.      0.      0.      0.\n",
      "  0.5    ]\n",
      " [0.      0.      0.      0.      0.5     0.      0.      0.      0.\n",
      "  0.      0.      0.      0.      0.      0.      0.      0.      0.\n",
      "  0.5    ]\n",
      " [0.      0.      0.25    0.      0.      0.      0.5     0.      0.\n",
      "  0.      0.      0.      0.      0.      0.      0.      0.      0.\n",
      "  0.25   ]\n",
      " [0.      0.      0.      0.      0.      0.      0.5     0.      0.\n",
      "  0.      0.      0.      0.      0.      0.      0.      0.      0.\n",
      "  0.5    ]\n",
      " [0.      0.      0.      0.      0.      0.      0.      0.5     0.\n",
      "  0.      0.      0.      0.      0.      0.      0.      0.      0.\n",
      "  0.5    ]\n",
      " [0.      0.      0.21875 0.      0.      0.      0.      0.      0.\n",
      "  0.      0.      0.      0.5     0.      0.25    0.      0.      0.\n",
      "  0.03125]\n",
      " [0.      0.      0.125   0.      0.      0.      0.      0.      0.\n",
      "  0.      0.      0.      0.5     0.      0.25    0.      0.      0.\n",
      "  0.125  ]\n",
      " [0.      0.      0.125   0.      0.      0.      0.      0.      0.\n",
      "  0.25    0.      0.      0.      0.5     0.      0.      0.      0.\n",
      "  0.125  ]\n",
      " [0.      0.      0.      0.      0.      0.      0.      0.      0.\n",
      "  0.      0.      0.      0.5     0.      0.      0.      0.      0.\n",
      "  0.5    ]\n",
      " [0.      0.      0.      0.      0.      0.      0.      0.      0.\n",
      "  0.      0.      0.      0.      0.5     0.      0.      0.      0.\n",
      "  0.5    ]\n",
      " [0.      0.      0.      0.      0.      0.      0.      0.      0.\n",
      "  0.      0.      0.      0.      0.      0.      0.5     0.      0.\n",
      "  0.5    ]\n",
      " [0.      0.      0.      0.      0.      0.      0.      0.      0.\n",
      "  0.      0.      0.      0.      0.      0.      0.      0.      0.\n",
      "  0.     ]]\n"
     ]
    }
   ],
   "source": [
    "nTenders = 4\n",
    "nFiles = 2\n",
    "d = 2\n",
    "listeEtat = listAllStations(nTenders, nFiles, d)\n",
    "ajout = rangementGloutonSimplifie\n",
    "retrait = lambda x : donGloutonSimplifie(x, d)\n",
    "charge = lambda x : chargeSimplifie(x, d)\n",
    "lbd = 1/2\n",
    "M = createTransitionMatrix(listeEtat, ajout, retrait, charge, lbd)\n",
    "print(M)"
   ]
  },
  {
   "cell_type": "code",
   "execution_count": 53,
   "id": "76324fe6",
   "metadata": {},
   "outputs": [],
   "source": [
    "import copy\n",
    "\n",
    "def matricetrans_glouton(nbtender,nbfiles,nbcharges,theta):\n",
    "    \n",
    "    stationlist=listAllStations(nbtender,nbfiles,nbcharges,d)\n",
    "    \n",
    "    A=[]\n",
    "    \n",
    "    for i in range(len(stationlist)-1):\n",
    "        \n",
    "        etat=stationlist[i]\n",
    "        transition=[]\n",
    "        \n",
    "        for k in range(len(stationlist)):\n",
    "            transition=transition+[0]\n",
    "            \n",
    "        nbvoitures=0\n",
    "        bool=True\n",
    "        \n",
    "        while bool :\n",
    "            \n",
    "            if nbvoitures==0:\n",
    "                etatsuiv=copy.deepcopy(etat)\n",
    "                for k in range(len(etat)):\n",
    "                    if etat[k][1]<nbcharges and etat[k][0]>0:\n",
    "                        etatsuiv[k][1]+=1\n",
    "                for num in range(len(stationlist)):\n",
    "                        if (stationlist[num]==etatsuiv).all():\n",
    "                            transition[num]=transition[num]+(1-theta)\n",
    "                nbvoitures=1\n",
    "                \n",
    "            else:\n",
    "                etatsuiv=copy.deepcopy(etat)\n",
    "                tenderdispo=0\n",
    "                for k in range(len(etat)):\n",
    "                    if etat[k][1]==nbcharges:\n",
    "                        tenderdispo+=etat[k][0]\n",
    "                if tenderdispo<nbvoitures:\n",
    "                    transition[len(transition)-1]=theta**(nbvoitures)\n",
    "                    bool=False\n",
    "                    \n",
    "                else:\n",
    "                    for numero in range(nbvoitures):                                        #on enlève les tenders\n",
    "                        argmin=0\n",
    "                        mini=nbtender\n",
    "                        for k in range(len(etat)):\n",
    "                            if etatsuiv[k][1]==nbcharges and etatsuiv[k][0]<=mini:\n",
    "                                argmin=k\n",
    "                                mini=etatsuiv[k][0]\n",
    "                        etatsuiv[argmin][0]=etatsuiv[argmin][0]-1\n",
    "                        if etatsuiv[argmin][0]==0:\n",
    "                            etatsuiv[argmin][1]=0\n",
    "                    for k in range(len(etat)):\n",
    "                        if etatsuiv[k][1]<nbcharges and etatsuiv[k][0]>=1:\n",
    "                            etatsuiv[k][1]+=1\n",
    "                    for numero in range(nbvoitures):                                        #on remet les tenders\n",
    "                        argmin=0\n",
    "                        mini=nbcharges\n",
    "                        minit=nbtender\n",
    "                        for k in range(len(etat)):                                                  \n",
    "                            if etatsuiv[k][1]<mini or (etatsuiv[k][1]==mini and etatsuiv[k][0]<minit):\n",
    "                                argmin=k\n",
    "                                mini=etatsuiv[k][1]\n",
    "                                minit=etatsuiv[k][0]\n",
    "                        etatsuiv[argmin][0]=etatsuiv[argmin][0]+1\n",
    "                        etatsuiv[argmin][1]=0                                \n",
    "                    for nombre in range(len(stationlist)-1):                #test d'égalité à permutation près\n",
    "                        booleen=True \n",
    "                        station=stationlist[nombre]\n",
    "                        for file in station : \n",
    "                            s=0\n",
    "                            stest=0\n",
    "                            for k in range(len(station)):\n",
    "                                if (station[k]==file).all():  \n",
    "                                    s=s+1\n",
    "                                if (etatsuiv[k]==file).all():\n",
    "                                    stest=stest+1\n",
    "                            if s!=stest:\n",
    "                                booleen=False\n",
    "                        if booleen:\n",
    "                            transition[nombre]+=(1-theta)*(theta**nbvoitures)\n",
    "                    nbvoitures+=1\n",
    "        A=A+[transition]\n",
    "    transition=[]\n",
    "    for k in range(len(stationlist)):\n",
    "        transition=transition+[0]\n",
    "    A=A+[transition]\n",
    "    return(A)\n",
    "        "
   ]
  },
  {
   "cell_type": "code",
   "execution_count": 67,
   "id": "8e952b58",
   "metadata": {},
   "outputs": [
    {
     "data": {
      "text/plain": [
       "[[0.5,\n",
       "  0,\n",
       "  0,\n",
       "  0,\n",
       "  0,\n",
       "  0.25,\n",
       "  0,\n",
       "  0,\n",
       "  0,\n",
       "  0.0625,\n",
       "  0,\n",
       "  0,\n",
       "  0,\n",
       "  0,\n",
       "  0.125,\n",
       "  0,\n",
       "  0,\n",
       "  0.03125,\n",
       "  0.03125],\n",
       " [0.5, 0, 0, 0, 0, 0, 0, 0, 0, 0, 0, 0, 0, 0, 0, 0, 0, 0, 0.5],\n",
       " [0, 0.5, 0, 0, 0, 0, 0, 0, 0, 0, 0, 0, 0, 0, 0, 0, 0, 0, 0.5],\n",
       " [0,\n",
       "  0,\n",
       "  0,\n",
       "  0.5,\n",
       "  0,\n",
       "  0.25,\n",
       "  0,\n",
       "  0,\n",
       "  0,\n",
       "  0.0625,\n",
       "  0,\n",
       "  0,\n",
       "  0,\n",
       "  0,\n",
       "  0.125,\n",
       "  0,\n",
       "  0,\n",
       "  0.03125,\n",
       "  0.03125],\n",
       " [0, 0, 0, 0.5, 0, 0, 0, 0, 0, 0.1875, 0, 0, 0, 0, 0.25, 0, 0, 0, 0.0625],\n",
       " [0, 0, 0, 0, 0.5, 0, 0, 0, 0, 0.125, 0.0625, 0, 0, 0, 0.25, 0, 0, 0, 0.0625],\n",
       " [0, 0, 0, 0.5, 0, 0.25, 0, 0, 0, 0, 0, 0, 0, 0, 0, 0, 0, 0, 0.25],\n",
       " [0, 0, 0, 0.5, 0, 0, 0, 0, 0, 0, 0, 0, 0, 0, 0, 0, 0, 0, 0.5],\n",
       " [0, 0, 0, 0, 0.5, 0, 0, 0, 0, 0, 0, 0, 0, 0, 0, 0, 0, 0, 0.5],\n",
       " [0, 0, 0, 0, 0, 0, 0.5, 0, 0.25, 0, 0, 0, 0, 0, 0, 0, 0, 0, 0.25],\n",
       " [0, 0, 0, 0, 0, 0, 0.5, 0, 0, 0, 0, 0, 0, 0, 0, 0, 0, 0, 0.5],\n",
       " [0, 0, 0, 0, 0, 0, 0, 0.5, 0, 0, 0, 0, 0, 0, 0, 0, 0, 0, 0.5],\n",
       " [0,\n",
       "  0,\n",
       "  0,\n",
       "  0,\n",
       "  0,\n",
       "  0,\n",
       "  0,\n",
       "  0,\n",
       "  0,\n",
       "  0.0625,\n",
       "  0,\n",
       "  0,\n",
       "  0.5,\n",
       "  0,\n",
       "  0.375,\n",
       "  0,\n",
       "  0,\n",
       "  0.03125,\n",
       "  0.03125],\n",
       " [0, 0, 0, 0, 0, 0, 0, 0, 0, 0, 0, 0, 0.5, 0, 0.375, 0, 0, 0, 0.125],\n",
       " [0, 0, 0, 0, 0, 0, 0, 0, 0, 0.25, 0, 0, 0, 0.5, 0, 0, 0.125, 0, 0.125],\n",
       " [0, 0, 0, 0, 0, 0, 0, 0, 0, 0, 0, 0, 0.5, 0, 0, 0, 0, 0, 0.5],\n",
       " [0, 0, 0, 0, 0, 0, 0, 0, 0, 0, 0, 0, 0, 0.5, 0, 0, 0, 0, 0.5],\n",
       " [0, 0, 0, 0, 0, 0, 0, 0, 0, 0, 0, 0, 0, 0, 0, 0.5, 0, 0, 0.5],\n",
       " [0, 0, 0, 0, 0, 0, 0, 0, 0, 0, 0, 0, 0, 0, 0, 0, 0, 0, 0]]"
      ]
     },
     "execution_count": 67,
     "metadata": {},
     "output_type": "execute_result"
    }
   ],
   "source": [
    "m=matricetrans_glouton(4,2,2,0.5)\n",
    "m"
   ]
  },
  {
   "cell_type": "code",
   "execution_count": 55,
   "id": "535c10a8",
   "metadata": {},
   "outputs": [],
   "source": [
    "def normalise(matrice):\n",
    "    for vecteur in matrice:\n",
    "        s=0\n",
    "        for j in vecteur:\n",
    "            s=s+j\n",
    "        if s==1:\n",
    "            print(True)\n",
    "        else:\n",
    "            print(False)"
   ]
  },
  {
   "cell_type": "code",
   "execution_count": 56,
   "id": "e0afb590",
   "metadata": {},
   "outputs": [],
   "source": [
    "def create_matrice_irr(matrice,i):\n",
    "    L=[i]\n",
    "    bool=True\n",
    "    while bool:\n",
    "        l=len(L)\n",
    "        for i in L:\n",
    "            for j in range(len(matrice)):\n",
    "                if matrice[i][j]!=0 and (j in L)==False :\n",
    "                    L=L+[j]\n",
    "        if len(L)==l:\n",
    "            bool=False\n",
    "    mat=[]\n",
    "    for i in range(len(matrice)):\n",
    "        A=[]\n",
    "        for j in range(len(matrice)):\n",
    "            if (i in L) and (j in L):\n",
    "                A=A+[matrice[i][j]]\n",
    "        if len(A)>0:\n",
    "            mat=mat+[A]\n",
    "    return(mat,L)"
   ]
  },
  {
   "cell_type": "code",
   "execution_count": 71,
   "id": "1d43cb0a",
   "metadata": {},
   "outputs": [
    {
     "data": {
      "text/plain": [
       "[[0.5, 0, 0.25, 0, 0, 0.0625, 0, 0, 0, 0.125, 0, 0, 0.03125, 0.03125],\n",
       " [0.5, 0, 0, 0, 0, 0.1875, 0, 0, 0, 0.25, 0, 0, 0, 0.0625],\n",
       " [0, 0.5, 0, 0, 0, 0.125, 0.0625, 0, 0, 0.25, 0, 0, 0, 0.0625],\n",
       " [0.5, 0, 0.25, 0, 0, 0, 0, 0, 0, 0, 0, 0, 0, 0.25],\n",
       " [0, 0.5, 0, 0, 0, 0, 0, 0, 0, 0, 0, 0, 0, 0.5],\n",
       " [0, 0, 0, 0.5, 0.25, 0, 0, 0, 0, 0, 0, 0, 0, 0.25],\n",
       " [0, 0, 0, 0.5, 0, 0, 0, 0, 0, 0, 0, 0, 0, 0.5],\n",
       " [0, 0, 0, 0, 0, 0.0625, 0, 0.5, 0, 0.375, 0, 0, 0.03125, 0.03125],\n",
       " [0, 0, 0, 0, 0, 0, 0, 0.5, 0, 0.375, 0, 0, 0, 0.125],\n",
       " [0, 0, 0, 0, 0, 0.25, 0, 0, 0.5, 0, 0, 0.125, 0, 0.125],\n",
       " [0, 0, 0, 0, 0, 0, 0, 0.5, 0, 0, 0, 0, 0, 0.5],\n",
       " [0, 0, 0, 0, 0, 0, 0, 0, 0.5, 0, 0, 0, 0, 0.5],\n",
       " [0, 0, 0, 0, 0, 0, 0, 0, 0, 0, 0.5, 0, 0, 0.5],\n",
       " [0, 0, 0, 0, 0, 0, 0, 0, 0, 0, 0, 0, 0, 0]]"
      ]
     },
     "execution_count": 71,
     "metadata": {},
     "output_type": "execute_result"
    }
   ],
   "source": [
    "trans=create_matrice_irr(m,len(m)-2)[0]\n",
    "trans"
   ]
  },
  {
   "cell_type": "code",
   "execution_count": 58,
   "id": "72bb1b72",
   "metadata": {},
   "outputs": [],
   "source": [
    "import numpy.linalg as alg\n",
    "\n",
    "def resoudre_glouton(nbtender,nbfiles,nbcharges,theta):\n",
    "    transition0=matricetrans_glouton(nbtender,nbfiles,nbcharges,theta)\n",
    "    transition=create_matrice_irr(transition0,len(transition0)-2)[0]\n",
    "    b=np.ones(len(transition))\n",
    "    b[len(transition)-1]=0\n",
    "    A=np.identity(len(transition))-transition   \n",
    "    return(alg.solve(A,b))"
   ]
  },
  {
   "cell_type": "code",
   "execution_count": 59,
   "id": "e9b9fdeb",
   "metadata": {},
   "outputs": [
    {
     "data": {
      "text/plain": [
       "[[0.5, 0, 0.25, 0, 0, 0.0625, 0, 0, 0, 0.125, 0, 0, 0.03125, 0.03125],\n",
       " [0.5, 0, 0, 0, 0, 0.1875, 0, 0, 0, 0.25, 0, 0, 0, 0.0625],\n",
       " [0, 0.5, 0, 0, 0, 0.125, 0.0625, 0, 0, 0.25, 0, 0, 0, 0.0625],\n",
       " [0.5, 0, 0.25, 0, 0, 0, 0, 0, 0, 0, 0, 0, 0, 0.25],\n",
       " [0, 0.5, 0, 0, 0, 0, 0, 0, 0, 0, 0, 0, 0, 0.5],\n",
       " [0, 0, 0, 0.5, 0.25, 0, 0, 0, 0, 0, 0, 0, 0, 0.25],\n",
       " [0, 0, 0, 0.5, 0, 0, 0, 0, 0, 0, 0, 0, 0, 0.5],\n",
       " [0, 0, 0, 0, 0, 0.0625, 0, 0.5, 0, 0.375, 0, 0, 0.03125, 0.03125],\n",
       " [0, 0, 0, 0, 0, 0, 0, 0.5, 0, 0.375, 0, 0, 0, 0.125],\n",
       " [0, 0, 0, 0, 0, 0.25, 0, 0, 0.5, 0, 0, 0.125, 0, 0.125],\n",
       " [0, 0, 0, 0, 0, 0, 0, 0.5, 0, 0, 0, 0, 0, 0.5],\n",
       " [0, 0, 0, 0, 0, 0, 0, 0, 0.5, 0, 0, 0, 0, 0.5],\n",
       " [0, 0, 0, 0, 0, 0, 0, 0, 0, 0, 0.5, 0, 0, 0.5],\n",
       " [0, 0, 0, 0, 0, 0, 0, 0, 0, 0, 0, 0, 0, 0]]"
      ]
     },
     "execution_count": 59,
     "metadata": {},
     "output_type": "execute_result"
    }
   ],
   "source": [
    "tab=resoudre_glouton(4,2,2,0.001)\n",
    "transition0=matricetrans_glouton(4,2,2,0.5)\n",
    "transition=create_matrice_irr(transition0,len(transition0)-2)[0]\n",
    "transition"
   ]
  },
  {
   "cell_type": "code",
   "execution_count": 60,
   "id": "97541fd7",
   "metadata": {},
   "outputs": [
    {
     "data": {
      "text/plain": [
       "[[0.5, 0, 0.25, 0, 0, 0.0625, 0, 0, 0, 0.125, 0, 0, 0.03125, 0.03125],\n",
       " [0.5, 0, 0, 0, 0, 0.1875, 0, 0, 0, 0.25, 0, 0, 0, 0.0625],\n",
       " [0, 0.5, 0, 0, 0, 0.125, 0.0625, 0, 0, 0.25, 0, 0, 0, 0.0625],\n",
       " [0.5, 0, 0.25, 0, 0, 0, 0, 0, 0, 0, 0, 0, 0, 0.25],\n",
       " [0, 0.5, 0, 0, 0, 0, 0, 0, 0, 0, 0, 0, 0, 0.5],\n",
       " [0, 0, 0, 0.5, 0.25, 0, 0, 0, 0, 0, 0, 0, 0, 0.25],\n",
       " [0, 0, 0, 0.5, 0, 0, 0, 0, 0, 0, 0, 0, 0, 0.5],\n",
       " [0, 0, 0, 0, 0, 0.0625, 0, 0.5, 0, 0.375, 0, 0, 0.03125, 0.03125],\n",
       " [0, 0, 0, 0, 0, 0, 0, 0.5, 0, 0.375, 0, 0, 0, 0.125],\n",
       " [0, 0, 0, 0, 0, 0.25, 0, 0, 0.5, 0, 0, 0.125, 0, 0.125],\n",
       " [0, 0, 0, 0, 0, 0, 0, 0.5, 0, 0, 0, 0, 0, 0.5],\n",
       " [0, 0, 0, 0, 0, 0, 0, 0, 0.5, 0, 0, 0, 0, 0.5],\n",
       " [0, 0, 0, 0, 0, 0, 0, 0, 0, 0, 0.5, 0, 0, 0.5],\n",
       " [0, 0, 0, 0, 0, 0, 0, 0, 0, 0, 0, 0, 0, 0]]"
      ]
     },
     "execution_count": 60,
     "metadata": {},
     "output_type": "execute_result"
    }
   ],
   "source": [
    "tab=resoudre_glouton(4,2,2,0.001)\n",
    "transition0=matricetrans_glouton(4,2,2,0.5)\n",
    "transition=create_matrice_irr(transition0,len(transition0)-2)[0]\n",
    "transition"
   ]
  },
  {
   "cell_type": "code",
   "execution_count": 61,
   "id": "bbe9a2de",
   "metadata": {},
   "outputs": [
    {
     "data": {
      "text/plain": [
       "[[0.5, 0, 0.25, 0, 0, 0.0625, 0, 0, 0, 0.125, 0, 0, 0.03125, 0.03125],\n",
       " [0.5, 0, 0, 0, 0, 0.1875, 0, 0, 0, 0.25, 0, 0, 0, 0.0625],\n",
       " [0, 0.5, 0, 0, 0, 0.125, 0.0625, 0, 0, 0.25, 0, 0, 0, 0.0625],\n",
       " [0.5, 0, 0.25, 0, 0, 0, 0, 0, 0, 0, 0, 0, 0, 0.25],\n",
       " [0, 0.5, 0, 0, 0, 0, 0, 0, 0, 0, 0, 0, 0, 0.5],\n",
       " [0, 0, 0, 0.5, 0.25, 0, 0, 0, 0, 0, 0, 0, 0, 0.25],\n",
       " [0, 0, 0, 0.5, 0, 0, 0, 0, 0, 0, 0, 0, 0, 0.5],\n",
       " [0, 0, 0, 0, 0, 0.0625, 0, 0.5, 0, 0.375, 0, 0, 0.03125, 0.03125],\n",
       " [0, 0, 0, 0, 0, 0, 0, 0.5, 0, 0.375, 0, 0, 0, 0.125],\n",
       " [0, 0, 0, 0, 0, 0.0, 0, 0, 0.5, 0, 0, 0.375, 0, 0.125],\n",
       " [0, 0, 0, 0, 0, 0, 0, 0.5, 0, 0, 0, 0, 0, 0.5],\n",
       " [0, 0, 0, 0, 0, 0, 0, 0, 0.5, 0, 0, 0, 0, 0.5],\n",
       " [0, 0, 0, 0, 0, 0, 0, 0, 0, 0, 0.5, 0, 0, 0.5],\n",
       " [0, 0, 0, 0, 0, 0, 0, 0, 0, 0, 0, 0, 0, 0]]"
      ]
     },
     "execution_count": 61,
     "metadata": {},
     "output_type": "execute_result"
    }
   ],
   "source": [
    "def matricediff(theta):\n",
    "    transition0=matricetrans_glouton(4,2,2,theta)\n",
    "    transition=create_matrice_irr(transition0,len(transition0)-2)[0]\n",
    "    transition[len(transition)-5][len(transition)-3]+= theta*(1-theta)\n",
    "    transition[len(transition)-5][len(transition)-9]+= -theta*(1-theta)\n",
    "    return(transition)\n",
    "\n",
    "\n",
    "matricediff(0.5)"
   ]
  },
  {
   "cell_type": "code",
   "execution_count": 62,
   "id": "aa6d8970",
   "metadata": {
    "tags": []
   },
   "outputs": [],
   "source": [
    "def resoudre(theta):\n",
    "    transition=matricediff(theta)\n",
    "    b=np.ones(len(transition))\n",
    "    b[len(transition)-1]=0\n",
    "    A=np.identity(len(transition))-transition   \n",
    "    return(alg.solve(A,b))"
   ]
  },
  {
   "cell_type": "code",
   "execution_count": 78,
   "id": "18e472ff-b5af-4834-9a00-1f0ac737607a",
   "metadata": {
    "tags": []
   },
   "outputs": [
    {
     "name": "stdout",
     "output_type": "stream",
     "text": [
      "0.01\t\t\t21859900.304492507\n",
      "0.02\t\t\t1344581.2228173113\n",
      "0.03\t\t\t261505.0063798027\n",
      "0.04\t\t\t81504.940811715\n",
      "0.05\t\t\t32900.76882475829\n",
      "0.060000000000000005\t\t\t15644.064384168056\n",
      "0.06999999999999999\t\t\t8329.924496557813\n",
      "0.08\t\t\t4819.1045511251805\n",
      "0.09\t\t\t2970.767835624568\n",
      "0.09999999999999999\t\t\t1925.6444278833328\n",
      "0.11\t\t\t1300.090680366531\n",
      "0.12\t\t\t907.8731971132596\n",
      "0.13\t\t\t652.2695607287635\n",
      "0.14\t\t\t480.16528894451886\n",
      "0.15000000000000002\t\t\t360.99417693790167\n",
      "0.16\t\t\t276.4495267662554\n",
      "0.17\t\t\t215.182758043426\n",
      "0.18000000000000002\t\t\t169.94415030866196\n",
      "0.19\t\t\t135.97834549497722\n",
      "0.2\t\t\t110.092115285656\n",
      "0.21000000000000002\t\t\t90.0958122726251\n",
      "0.22\t\t\t74.4594223500827\n",
      "0.23\t\t\t62.09549993049786\n",
      "0.24000000000000002\t\t\t52.21911023020148\n",
      "0.25\t\t\t44.25562564188755\n",
      "0.26\t\t\t37.77890471173977\n",
      "0.27\t\t\t32.469142329194895\n",
      "0.28\t\t\t28.083686460594095\n",
      "0.29000000000000004\t\t\t24.436544050402016\n",
      "0.3\t\t\t21.38379900045021\n",
      "0.31\t\t\t18.813109768502873\n",
      "0.32\t\t\t16.636059162079672\n",
      "0.33\t\t\t14.782522625728124\n",
      "0.34\t\t\t13.196481341783645\n",
      "0.35000000000000003\t\t\t11.832880568208825\n",
      "0.36000000000000004\t\t\t10.655251721886085\n",
      "0.37\t\t\t9.633897777583199\n",
      "0.38\t\t\t8.744497833017645\n",
      "0.39\t\t\t7.967026183488366\n",
      "0.4\t\t\t7.284909242291358\n",
      "0.41000000000000003\t\t\t6.6843636734350955\n",
      "0.42000000000000004\t\t\t6.153873564991424\n",
      "0.43\t\t\t5.6837750018652535\n",
      "0.44\t\t\t5.265924126590546\n",
      "0.45\t\t\t4.893430494392594\n",
      "0.46\t\t\t4.5604417889038915\n",
      "0.47000000000000003\t\t\t4.261969161197247\n",
      "0.48000000000000004\t\t\t3.99374486878945\n",
      "0.49\t\t\t3.7521057259800834\n",
      "0.5\t\t\t3.5338972797675012\n",
      "0.51\t\t\t3.336394704475694\n",
      "0.52\t\t\t3.1572372425521347\n",
      "0.53\t\t\t2.9943736676226744\n",
      "0.54\t\t\t2.8460167527165576\n",
      "0.55\t\t\t2.71060512453922\n",
      "0.56\t\t\t2.5867711986239925\n",
      "0.5700000000000001\t\t\t2.473314138991139\n",
      "0.5800000000000001\t\t\t2.36917698396335\n",
      "0.59\t\t\t2.2734272380547296\n",
      "0.6\t\t\t2.185240356856412\n",
      "0.61\t\t\t2.1038856541587334\n",
      "0.62\t\t\t2.02871424328654\n",
      "0.63\t\t\t1.9591486917709795\n",
      "0.64\t\t\t1.8946741231669237\n",
      "0.65\t\t\t1.8348305445136155\n",
      "0.66\t\t\t1.7792062145751262\n",
      "0.67\t\t\t1.7274318981321268\n",
      "0.68\t\t\t1.679175876458486\n",
      "0.6900000000000001\t\t\t1.6341396046893253\n",
      "0.7000000000000001\t\t\t1.592053923860732\n",
      "0.7100000000000001\t\t\t1.5526757496107106\n",
      "0.72\t\t\t1.5157851713890893\n",
      "0.73\t\t\t1.4811829059467034\n",
      "0.74\t\t\t1.4486880571988383\n",
      "0.75\t\t\t1.4181361415600018\n",
      "0.76\t\t\t1.389377343751606\n",
      "0.77\t\t\t1.3622749730755734\n",
      "0.78\t\t\t1.336704094377005\n",
      "0.79\t\t\t1.3125503115129042\n",
      "0.8\t\t\t1.289708684205055\n",
      "0.81\t\t\t1.268082761769261\n",
      "0.8200000000000001\t\t\t1.2475837194515909\n",
      "0.8300000000000001\t\t\t1.2281295850245615\n",
      "0.8400000000000001\t\t\t1.2096445449519981\n",
      "0.85\t\t\t1.1920583208623579\n",
      "0.86\t\t\t1.1753056083115614\n",
      "0.87\t\t\t1.1593255708973333\n",
      "0.88\t\t\t1.144061383732534\n",
      "0.89\t\t\t1.1294598211158557\n",
      "0.9\t\t\t1.115470883972238\n",
      "0.91\t\t\t1.102047463287086\n",
      "0.92\t\t\t1.089145036340194\n",
      "0.93\t\t\t1.0767213930671617\n",
      "0.9400000000000001\t\t\t1.0647363903460751\n",
      "0.9500000000000001\t\t\t1.0531517324314432\n",
      "0.9600000000000001\t\t\t1.0419307761401189\n",
      "0.97\t\t\t1.0310383597377786\n",
      "0.98\t\t\t1.0204406547802838\n",
      "0.99\t\t\t1.0101050404309704\n"
     ]
    }
   ],
   "source": [
    "for i in range(len(x)) :\n",
    "    print(str(x[i]) + '\\t\\t\\t' +  str(y1[i]))"
   ]
  },
  {
   "cell_type": "code",
   "execution_count": 77,
   "id": "a695b7de",
   "metadata": {
    "tags": []
   },
   "outputs": [
    {
     "data": {
      "image/png": "[encoded data removed]",
      "text/plain": [
       "<Figure size 640x480 with 1 Axes>"
      ]
     },
     "metadata": {},
     "output_type": "display_data"
    }
   ],
   "source": [
    "import matplotlib.pyplot as plt\n",
    "x = np.arange(0.01, 1, 0.01)\n",
    "y1=[]\n",
    "y2=[]\n",
    "for i in x:\n",
    "    y1=y1+[resoudre_glouton(4,2,2,i)[12]]\n",
    "    y2=y2+[resoudre(i)[12]]\n",
    "plt.plot(x, y1)\n",
    "plt.plot(x, y2)\n",
    "plt.show()"
   ]
  },
  {
   "cell_type": "code",
   "execution_count": null,
   "id": "34e668ae",
   "metadata": {},
   "outputs": [],
   "source": [
    "def numerotationtender(liste,nombre):\n",
    "    s=0\n",
    "    for i in liste : \n",
    "        if i<nombre:\n",
    "            s+=1\n",
    "    return s"
   ]
  },
  {
   "cell_type": "code",
   "execution_count": null,
   "id": "8b2cdb28",
   "metadata": {},
   "outputs": [],
   "source": [
    "def matricediff5(theta):\n",
    "    transition0=matricetrans_glouton(4,2,5,theta)\n",
    "    trans=create_matrice_irr(transition0,len(transition0)-2)\n",
    "    transition=trans[0]\n",
    "    L=trans[1]\n",
    "    transition[numerotationtender(L,44)][numerotationtender(L,52)]+= theta*(1-theta)\n",
    "    transition[numerotationtender(L,44)][numerotationtender(L,36)]+= -theta*(1-theta)\n",
    "    return(transition)"
   ]
  },
  {
   "cell_type": "code",
   "execution_count": null,
   "id": "46a2db48",
   "metadata": {},
   "outputs": [],
   "source": [
    "def resoudre(theta):\n",
    "    transition=matricediff5(theta)\n",
    "    b=np.ones(len(transition))\n",
    "    b[len(transition)-1]=0\n",
    "    A=np.identity(len(transition))-transition   \n",
    "    return(alg.solve(A,b))"
   ]
  },
  {
   "cell_type": "code",
   "execution_count": null,
   "id": "58035696",
   "metadata": {},
   "outputs": [
    {
     "data": {
      "image/png": "[encoded data removed]",
      "text/plain": [
       "<Figure size 640x480 with 1 Axes>"
      ]
     },
     "metadata": {},
     "output_type": "display_data"
    }
   ],
   "source": [
    "import matplotlib.pyplot as plt\n",
    "x = np.linspace(0.01, 0.0101, 10)\n",
    "y1=[]\n",
    "y2=[]\n",
    "for i in x:\n",
    "    y1=y1+[resoudre_glouton(4,2,5,i)[33]]\n",
    "    y2=y2+[resoudre(i)[33]]\n",
    "plt.plot(x, y1)\n",
    "plt.plot(x, y2)\n",
    "plt.show()"
   ]
  },
  {
   "cell_type": "code",
   "execution_count": null,
   "id": "9d910ab7",
   "metadata": {},
   "outputs": [
    {
     "data": {
      "text/plain": [
       "[[2358242.761459019, 995794.5553191382],\n",
       " [191430.30690244058, 114641.22613439214],\n",
       " [42908.91830955082, 30174.573097068835],\n",
       " [14882.573165242591, 11483.055867742445],\n",
       " [6591.651668513823, 5401.362510318845],\n",
       " [3414.81156429753, 2917.957860549564],\n",
       " [1973.0247771701831, 1738.4207249993658],\n",
       " [1235.432971065212, 1114.0846206911622],\n",
       " [822.8307216322488, 755.5081253823962],\n",
       " [575.4700740124765, 535.9915994607543],\n",
       " [418.74124703575103, 394.5289268194086],\n",
       " [314.84667540946015, 299.4383951240475],\n",
       " [243.33531617238248, 233.22239202103205],\n",
       " [192.5228833407425, 185.70994642725273],\n",
       " [155.42109508927388, 150.72786346177017],\n",
       " [127.68382751718215, 124.38814381953286],\n",
       " [106.51543632908925, 104.16228837465836],\n",
       " [90.06392259159814, 88.35916014347072],\n",
       " [77.07022409369111, 75.81933449529174],\n",
       " [66.65848946115328, 65.73023896924859],\n",
       " [58.20681404312719, 57.51106336886551],\n",
       " [51.26539391316758, 50.739230367297516],\n",
       " [45.5034366572501, 45.10231413247064],\n",
       " [40.673966578758495, 40.365932330129134],\n",
       " [36.59002714356174, 36.3518920058229],\n",
       " [33.108297555065185, 32.92305358091941],\n",
       " [30.11762627345313, 29.972679294378402],\n",
       " [27.530883502709802, 27.416826752573648],\n",
       " [25.27909069719008, 25.188843061953026],\n",
       " [23.307135843325753, 23.23532923689769],\n",
       " [21.570608549788, 21.513147682360657],\n",
       " [20.033436154323724, 19.98717901151426],\n",
       " [18.666099724174927, 18.628623502404537],\n",
       " [17.44427459404865, 17.413702756311956],\n",
       " [16.34778497727766, 16.3226584434032],\n",
       " [15.359793220204844, 15.33897371228172],\n",
       " [14.466165981442142, 14.44876299349412],\n",
       " [13.654974977867475, 13.64029023891828],\n",
       " [12.916100920930353, 12.903585907481721],\n",
       " [12.240917196378133, 12.230140446937272],\n",
       " [11.622035620013854, 11.612657460570153],\n",
       " [11.053100851973161, 11.044853759103317],\n",
       " [10.528623203392012, 10.521296480870337],\n",
       " [10.043841924820724, 10.037269698646053],\n",
       " [9.594612839665, 9.588664619119752],\n",
       " [9.177315531519579, 9.171888764090907],\n",
       " [8.788776321926903, 8.7837905045786],\n",
       " [8.426204065092136, 8.421596075597513],\n",
       " [8.087136397165876, 8.082856785733107],\n",
       " [7.769394553208381, 7.765404592791428],\n",
       " [7.471045237058539, 7.467314575182237],\n",
       " [7.190368322120338, 7.186873111163486],\n",
       " [6.925829392657968, 6.922550801852495],\n",
       " [6.676056319274771, 6.672979352067278],\n",
       " [6.439819209284512, 6.436931765569275],\n",
       " [6.216013190666523, 6.213305325791803],\n",
       " [6.003643583389805, 6.001106925557891],\n",
       " [5.801813088864287, 5.799440384195268],\n",
       " [5.60971069083994, 5.6074954514119],\n",
       " [5.426602012127988, 5.424538247095188],\n",
       " [5.251820913339625, 5.249902927038481],\n",
       " [5.084762154224931, 5.082984398215186],\n",
       " [4.924874966571068, 4.923231934990308],\n",
       " [4.771657411117801, 4.770143570678619],\n",
       " [4.624651410474531, 4.623261158004857],\n",
       " [4.483438366302177, 4.482166007998781],\n",
       " [4.347635282639404, 4.346475030233973],\n",
       " [4.216891328677566, 4.215837308552744],\n",
       " [4.090884783904726, 4.08993105588259],\n",
       " [3.969320316657019, 3.968460899745475],\n",
       " [3.851926553989187, 3.851155456836821],\n",
       " [3.738453906612634, 3.737765160809356],\n",
       " [3.6286726176191135, 3.628060312303819],\n",
       " [3.522371007951334, 3.521829324461146],\n",
       " [3.419353895213667, 3.418877140741944],\n",
       " [3.319441165532447, 3.3190238049624976],\n",
       " [3.2224664808553083, 3.222103166109612],\n",
       " [3.1282761063882787, 3.127961702783997],\n",
       " [3.036727844863026, 3.036457454097234],\n",
       " [2.94769006605037, 2.9474590455557412],\n",
       " [2.861040821428406, 2.860844799944177],\n",
       " [2.7766670352066702, 2.776501924502113],\n",
       " [2.6944637640287223, 2.6943257667983835],\n",
       " [2.614333518647515, 2.614219132669833],\n",
       " [2.536185641710452, 2.5360916604246815],\n",
       " [2.4599357365206944, 2.4598592462317583],\n",
       " [2.3855051422725713, 2.38544351623976],\n",
       " [2.3128204518039763, 2.312771341507578],\n",
       " [2.2418130683782937, 2.2417743922884266],\n",
       " [2.1724187984118397, 2.1723887286062005],\n",
       " [2.1045774774083417, 2.1045544244004564],\n",
       " [2.0382326266566886, 2.0382152228038923],\n",
       " [1.9733311384985188, 1.9733182203595785],\n",
       " [1.9098229881837783, 1.9098135781902577],\n",
       " [1.8476609705102305, 1.8476542583037872],\n",
       " [1.7868004595915186, 1.7867957833618873],\n",
       " [1.727199190221775, 1.7271960183577348],\n",
       " [1.6688170594064582, 1.6688149727452437],\n",
       " [1.6116159467123339, 1.6116146216422789],\n",
       " [1.5555595521569094, 1.555558744794265]]"
      ]
     },
     "execution_count": 128,
     "metadata": {},
     "output_type": "execute_result"
    }
   ],
   "source": [
    "\n",
    "x = np.linspace(0.01, 0.9, 100)\n",
    "y=[]\n",
    "for i in x:\n",
    "    y=y+[[resoudre_glouton(4,2,5,i)[0],resoudre(i)[0]]]\n",
    "y"
   ]
  },
  {
   "cell_type": "code",
   "execution_count": null,
   "id": "6e7f94ef",
   "metadata": {},
   "outputs": [
    {
     "data": {
      "image/png": "[encoded data removed]",
      "text/plain": [
       "<Figure size 640x480 with 1 Axes>"
      ]
     },
     "metadata": {},
     "output_type": "display_data"
    }
   ],
   "source": [
    "x = np.linspace(0.1, 0.99, 30)\n",
    "y1=[]\n",
    "for i in x:\n",
    "    y1=y1+[resoudre_glouton(5,2,10,i)[0]]\n",
    "plt.plot(x, y1)\n",
    "plt.show()"
   ]
  },
  {
   "cell_type": "code",
   "execution_count": null,
   "id": "119a6f87",
   "metadata": {},
   "outputs": [],
   "source": [
    "def matricediff10(theta):\n",
    "    transition0=matricetrans_glouton(5,2,10,theta)\n",
    "    trans=create_matrice_irr(transition0,len(transition0)-2)\n",
    "    transition=trans[0]\n",
    "    L=trans[1]\n",
    "    transition[numerotationtender(L,154)][numerotationtender(L,153)]+= theta*(1-theta)\n",
    "    transition[numerotationtender(L,154)][numerotationtender(L,121)]+= -theta*(1-theta)\n",
    "    return(transition)"
   ]
  },
  {
   "cell_type": "code",
   "execution_count": null,
   "id": "f8e9ca9a",
   "metadata": {},
   "outputs": [],
   "source": [
    "def positif(matrice):\n",
    "    booleen=True\n",
    "    for i in matrice:\n",
    "        for j in i :\n",
    "            if j<0:\n",
    "                return False\n",
    "    return True"
   ]
  },
  {
   "cell_type": "code",
   "execution_count": null,
   "id": "4d5aa53e",
   "metadata": {},
   "outputs": [
    {
     "name": "stdout",
     "output_type": "stream",
     "text": [
      "133\n"
     ]
    },
    {
     "data": {
      "text/plain": [
       "True"
      ]
     },
     "execution_count": 140,
     "metadata": {},
     "output_type": "execute_result"
    }
   ],
   "source": [
    "m=matricediff10(0.5)\n",
    "positif(m)"
   ]
  },
  {
   "cell_type": "code",
   "execution_count": null,
   "id": "3d9d9106",
   "metadata": {},
   "outputs": [],
   "source": [
    "def resoudre10(theta):\n",
    "    transition=matricediff10(theta)\n",
    "    b=np.ones(len(transition))\n",
    "    b[len(transition)-1]=0\n",
    "    A=np.identity(len(transition))-transition   \n",
    "    return(alg.solve(A,b))"
   ]
  },
  {
   "cell_type": "code",
   "execution_count": null,
   "id": "80113368",
   "metadata": {},
   "outputs": [
    {
     "data": {
      "image/png": "[encoded data removed]",
      "text/plain": [
       "<Figure size 640x480 with 1 Axes>"
      ]
     },
     "metadata": {},
     "output_type": "display_data"
    }
   ],
   "source": [
    "\n",
    "x = np.linspace(0.2, 0.9, 30)\n",
    "y1=[]\n",
    "y2=[]\n",
    "for i in x:\n",
    "    y1=y1+[resoudre_glouton(5,2,10,i)[133]]\n",
    "    y2=y2+[resoudre10(i)[133]]\n",
    "plt.plot(x, y1)\n",
    "plt.plot(x, y2)\n",
    "plt.show()"
   ]
  },
  {
   "cell_type": "code",
   "execution_count": null,
   "id": "6c34225a",
   "metadata": {},
   "outputs": [
    {
     "data": {
      "image/png": "[encoded data removed]",
      "text/plain": [
       "<Figure size 640x480 with 1 Axes>"
      ]
     },
     "metadata": {},
     "output_type": "display_data"
    }
   ],
   "source": [
    "x = np.linspace(0.0256, 0.0268, 20)\n",
    "y1=[]\n",
    "y2=[]\n",
    "for i in x:\n",
    "    y1=y1+[resoudre_glouton(5,2,10,i)[133]]\n",
    "    y2=y2+[resoudre10(i)[133]]\n",
    "plt.plot(x, y1)\n",
    "plt.plot(x, y2)\n",
    "plt.show()"
   ]
  }
 ],
 "metadata": {
  "kernelspec": {
   "display_name": "Python 3 (ipykernel)",
   "language": "python",
   "name": "python3"
  },
  "language_info": {
   "codemirror_mode": {
    "name": "ipython",
    "version": 3
   },
   "file_extension": ".py",
   "mimetype": "text/x-python",
   "name": "python",
   "nbconvert_exporter": "python",
   "pygments_lexer": "ipython3",
   "version": "3.10.9"
  },
  "vscode": {
   "interpreter": {
    "hash": "b7fe67291f789b2d1bcea443118851beeb70bcac7cbe2cadbd2d1e956e4cc631"
   }
  }
 },
 "nbformat": 4,
 "nbformat_minor": 5
}
